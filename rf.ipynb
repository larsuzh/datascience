{
 "cells": [
  {
   "cell_type": "markdown",
   "metadata": {
    "id": "NQwnmyd-rU53"
   },
   "source": [
    "**Random Forrest for Project*"
   ]
  },
  {
   "cell_type": "code",
   "execution_count": 1,
   "metadata": {
    "id": "h7Ejw7UNqpGK"
   },
   "outputs": [],
   "source": [
    "# Load all dependencies and the data\n",
    "import numpy as np\n",
    "import matplotlib.pyplot as plt\n",
    "import pandas as pd\n",
    "from sklearn.datasets import load_iris\n",
    "from sklearn.tree import DecisionTreeClassifier, plot_tree"
   ]
  },
  {
   "cell_type": "code",
   "execution_count": 2,
   "metadata": {
    "id": "sttaOcMZrmg5"
   },
   "outputs": [],
   "source": [
    "# Add a new column with the country names.\n",
    "# This is what we are going to try to predict.\n",
    "# data['country'] = pd.Categorical.from_codes(country, country_names)\n",
    "    #error\n"
   ]
  },
  {
   "cell_type": "code",
   "execution_count": 3,
   "metadata": {},
   "outputs": [
    {
     "ename": "NameError",
     "evalue": "name 'df' is not defined",
     "output_type": "error",
     "traceback": [
      "\u001B[1;31m---------------------------------------------------------------------------\u001B[0m",
      "\u001B[1;31mNameError\u001B[0m                                 Traceback (most recent call last)",
      "Input \u001B[1;32mIn [3]\u001B[0m, in \u001B[0;36m<cell line: 2>\u001B[1;34m()\u001B[0m\n\u001B[0;32m      1\u001B[0m \u001B[38;5;66;03m# Convert the country names to a digit (0, 1, 2) for each class.\u001B[39;00m\n\u001B[1;32m----> 2\u001B[0m df[\u001B[38;5;124m'\u001B[39m\u001B[38;5;124mcountry\u001B[39m\u001B[38;5;124m'\u001B[39m] \u001B[38;5;241m=\u001B[39m pd\u001B[38;5;241m.\u001B[39mfactorize(\u001B[43mdf\u001B[49m[\u001B[38;5;124m'\u001B[39m\u001B[38;5;124mcountry\u001B[39m\u001B[38;5;124m'\u001B[39m])[\u001B[38;5;241m0\u001B[39m]\n\u001B[0;32m      3\u001B[0m df\u001B[38;5;241m.\u001B[39mhead(\u001B[38;5;241m90\u001B[39m)\n",
      "\u001B[1;31mNameError\u001B[0m: name 'df' is not defined"
     ]
    }
   ],
   "source": [
    "# Convert the country names to a digit (0, 1, 2) for each class.\n",
    "df['country'] = pd.factorize(df['country'])[0]\n",
    "df.head(90)"
   ]
  },
  {
   "cell_type": "markdown",
   "metadata": {
    "id": "RoOU-FXqs-Go"
   },
   "source": [
    "Let's now split the entire dataset into a training and testing set."
   ]
  },
  {
   "cell_type": "code",
   "execution_count": null,
   "metadata": {
    "colab": {
     "base_uri": "https://localhost:8080/"
    },
    "id": "xJwx78dgtAlt",
    "outputId": "9774e17d-d9da-4e4f-b80a-9e9caf3229e4"
   },
   "outputs": [],
   "source": [
    "df['is_train'] = np.random.uniform(0, 1, len(df)) <= 0.75\n",
    "df.head()\n",
    "\n",
    "train_df = df[df['is_train']]\n",
    "test_df  = df[df['is_train']]\n",
    "\n",
    "print('Length of train data:', len(train_df))\n",
    "print('Length of test data :', len(test_df))"
   ]
  },
  {
   "cell_type": "markdown",
   "metadata": {
    "id": "UXHD_5GmubMV"
   },
   "source": [
    "Let's now construct the features (input to Decision Tree) and the classes (target of the Decision Tree)."
   ]
  },
  {
   "cell_type": "code",
   "execution_count": null,
   "metadata": {
    "colab": {
     "base_uri": "https://localhost:8080/"
    },
    "id": "5keL8no4ucYR",
    "outputId": "4fd73c31-a512-44d7-84f6-e7b29e94fbaf"
   },
   "outputs": [],
   "source": [
    "features = df.columns[3:10]\n",
    "features"
   ]
  },
  {
   "cell_type": "code",
   "execution_count": null,
   "metadata": {
    "colab": {
     "base_uri": "https://localhost:8080/",
     "height": 37
    },
    "id": "HGOKbApqujYT",
    "outputId": "e67ec56d-358b-4903-d77f-6e1133e55ed6"
   },
   "outputs": [],
   "source": [
    "targets  = df.columns[12]\n",
    "targets"
   ]
  },
  {
   "cell_type": "markdown",
   "metadata": {
    "id": "m0KHYiiJuriS"
   },
   "source": [
    "We can construct a Decision Tree object and train it."
   ]
  },
  {
   "cell_type": "code",
   "execution_count": null,
   "metadata": {},
   "outputs": [],
   "source": [
    "df = pd.DataFrame(df)\n"
   ]
  },
  {
   "cell_type": "code",
   "execution_count": null,
   "metadata": {},
   "outputs": [],
   "source": [
    "df.values.tolist() # as list"
   ]
  },
  {
   "cell_type": "code",
   "execution_count": null,
   "metadata": {
    "colab": {
     "base_uri": "https://localhost:8080/",
     "height": 324
    },
    "id": "19rkr_6wusq2",
    "outputId": "66e532cd-16f8-476d-b4fd-77df0780483f"
   },
   "outputs": [],
   "source": [
    "clf = DecisionTreeClassifier()\n"
   ]
  },
  {
   "cell_type": "code",
   "execution_count": null,
   "metadata": {},
   "outputs": [],
   "source": [
    "from sklearn import preprocessing\n",
    "from sklearn import utils\n",
    "\n",
    "#convert y values to categorical values\n",
    "lab = preprocessing.LabelEncoder()\n",
    "\n",
    "\n"
   ]
  },
  {
   "cell_type": "code",
   "execution_count": null,
   "metadata": {},
   "outputs": [],
   "source": [
    "from sklearn import preprocessing\n",
    "label_encoder = preprocessing.LabelEncoder()\n",
    "train_df = label_encoder.fit_transform(train_df)"
   ]
  },
  {
   "cell_type": "code",
   "execution_count": null,
   "metadata": {},
   "outputs": [],
   "source": [
    "clf.fit(train_df[features], train_df[targets])\n"
   ]
  },
  {
   "cell_type": "markdown",
   "metadata": {
    "id": "fClzAm5u22Wh"
   },
   "source": [
    "Now let's use the trained model to predict the class of test samples. Often it is useful to also display the probabilities with which the algorithm classifies a given sample."
   ]
  },
  {
   "cell_type": "code",
   "execution_count": null,
   "metadata": {
    "colab": {
     "base_uri": "https://localhost:8080/"
    },
    "id": "Ur4y3UjO2xaz",
    "outputId": "1fbe250f-d79c-4896-fb07-4137493a129f"
   },
   "outputs": [],
   "source": [
    "DecisionTreeClassifier()"
   ]
  },
  {
   "cell_type": "code",
   "execution_count": null,
   "metadata": {
    "colab": {
     "base_uri": "https://localhost:8080/",
     "height": 307
    },
    "id": "_3sWPC2X212p",
    "outputId": "55cf512c-ddc3-4c86-d5fc-556e0595693e"
   },
   "outputs": [],
   "source": [
    "clf.predict_proba(test_df[features])\n"
   ]
  },
  {
   "cell_type": "markdown",
   "metadata": {
    "id": "r8676ghB7-HH"
   },
   "source": [
    "We can create a confusion matrix to show get a quick overview which classes are easy to predict and which ones are more difficult to distinguish."
   ]
  },
  {
   "cell_type": "code",
   "execution_count": null,
   "metadata": {
    "colab": {
     "base_uri": "https://localhost:8080/",
     "height": 375
    },
    "id": "HZ3w6GV93YeY",
    "outputId": "61970bae-f5c6-46b0-b768-6a5e35fc8a2e"
   },
   "outputs": [],
   "source": [
    "predicted_species = clf.predict(test_data[features])\n",
    "pd.crosstab(test_data['country'], \n",
    "            predicted_species,\n",
    "            rownames=['Actual Country'], \n",
    "            colnames=['Predicted Country'])"
   ]
  },
  {
   "cell_type": "markdown",
   "metadata": {
    "id": "F4wYSbVJ9itn"
   },
   "source": [
    "Finally we can inspect which features are most important in the classification by reading out the feature importances."
   ]
  },
  {
   "cell_type": "code",
   "execution_count": null,
   "metadata": {
    "colab": {
     "base_uri": "https://localhost:8080/",
     "height": 351
    },
    "id": "sei71BNO9zGU",
    "outputId": "61a0f5c2-ebde-4584-b869-3cdf5a9aa3a5"
   },
   "outputs": [],
   "source": [
    "fi = pd.DataFrame(clf.feature_importances_,\n",
    "                  index=country.feature_names,\n",
    "                  columns=['trade_co2'])\n",
    "fi_sorted = fi.sort_values('coal_co2', ascending=False)\n",
    "fi_sorted\n",
    "\n",
    "# AttributeError: 'DecisionTreeClassifier' object has no attribute 'tree_'"
   ]
  },
  {
   "cell_type": "code",
   "execution_count": null,
   "metadata": {
    "id": "gwvReifS-Ozb"
   },
   "outputs": [],
   "source": [
    "from matplotlib.pylab import rcParams\n",
    "rcParams['figure.figsize'] = 80,50\n",
    "tree_fig = plot_tree(clf, filled=True)"
   ]
  },
  {
   "cell_type": "code",
   "execution_count": null,
   "metadata": {
    "id": "d3l7uQbu-pSN"
   },
   "outputs": [],
   "source": []
  }
 ],
 "metadata": {
  "colab": {
   "collapsed_sections": [],
   "name": "Untitled1.ipynb",
   "provenance": []
  },
  "kernelspec": {
   "display_name": "Python 3",
   "name": "python3"
  },
  "language_info": {
   "codemirror_mode": {
    "name": "ipython",
    "version": 3
   },
   "file_extension": ".py",
   "mimetype": "text/x-python",
   "name": "python",
   "nbconvert_exporter": "python",
   "pygments_lexer": "ipython3",
   "version": "3.9.7"
  }
 },
 "nbformat": 4,
 "nbformat_minor": 0
}