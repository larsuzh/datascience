{
 "cells": [
  {
   "cell_type": "code",
   "execution_count": null,
   "id": "8ea2d262-6f14-4567-994d-db8f9019081d",
   "metadata": {},
   "outputs": [],
   "source": []
  },
  {
   "cell_type": "code",
   "execution_count": 14,
   "id": "e79e0768-1130-436b-b954-6c8fd8a69663",
   "metadata": {},
   "outputs": [],
   "source": [
    "import pandas as pd\n",
    "from sklearn.model_selection import train_test_split\n",
    "from sklearn.tree import DecisionTreeClassifier\n",
    "from sklearn.ensemble import RandomForestClassifier\n",
    "from sklearn.metrics import accuracy_score\n",
    "from sklearn.metrics import confusion_matrix\n",
    "import matplotlib.pyplot as plt\n",
    "import seaborn as sn\n",
    "from matplotlib.pylab import rcParams"
   ]
  },
  {
   "cell_type": "code",
   "execution_count": 3,
   "id": "b9a839d0-90fe-4f14-bd5f-3bc29c717547",
   "metadata": {},
   "outputs": [],
   "source": [
    "df = pd.read_csv(\"additional_co2_new.csv\")\n",
    "def round_5(x, base=5):\n",
    "    return base * round(x/base)\n",
    "# df['Deaths - Cause: All causes - Risk: Outdoor air pollution - OWID - Sex: Both - Age: All Ages (Number)'] = round_5(df['Deaths - Cause: All causes - Risk: Outdoor air pollution - OWID - Sex: Both - Age: All Ages (Number)'], base=5)\n",
    "\n",
    "df['rate Deaths - Cause: All causes - Risk: Outdoor air pollution - OWID - Sex: Both - Age: All Ages (Number)'] = round_5(df['rate Deaths - Cause: All causes - Risk: Outdoor air pollution - OWID - Sex: Both - Age: All Ages (Number)'], base=5)"
   ]
  },
  {
   "cell_type": "code",
   "execution_count": 4,
   "id": "86bdc8db-368d-479a-acd7-c3232e260fc4",
   "metadata": {},
   "outputs": [
    {
     "data": {
      "text/plain": [
       "<bound method NDFrame.head of      Unnamed: 0        country  year  cement_co2_per_capita  \\\n",
       "0             0         Africa  1990                  0.036   \n",
       "1             1         Africa  1991                  0.038   \n",
       "2             2         Africa  1992                  0.038   \n",
       "3             3         Africa  1993                  0.036   \n",
       "4             4         Africa  1994                  0.036   \n",
       "..          ...            ...   ...                    ...   \n",
       "107         107  North America  2013                  0.121   \n",
       "108         108  North America  2014                  0.127   \n",
       "109         109  North America  2015                  0.129   \n",
       "110         110  North America  2016                  0.124   \n",
       "111         111  North America  2017                  0.127   \n",
       "\n",
       "     coal_co2_per_capita  flaring_co2_per_capita  gas_co2_per_capita  \\\n",
       "0                  0.472                   0.033               0.121   \n",
       "1                  0.475                   0.032               0.122   \n",
       "2                  0.436                   0.035               0.112   \n",
       "3                  0.469                   0.032               0.120   \n",
       "4                  0.473                   0.031               0.122   \n",
       "..                   ...                     ...                 ...   \n",
       "107                3.384                   0.133               3.281   \n",
       "108                3.336                   0.148               3.307   \n",
       "109                2.895                   0.158               3.362   \n",
       "110                2.648                   0.142               3.335   \n",
       "111                2.553                   0.132               3.261   \n",
       "\n",
       "     oil_co2_per_capita  \\\n",
       "0                 0.390   \n",
       "1                 0.401   \n",
       "2                 0.389   \n",
       "3                 0.386   \n",
       "4                 0.367   \n",
       "..                  ...   \n",
       "107               5.126   \n",
       "108               5.083   \n",
       "109               5.101   \n",
       "110               5.050   \n",
       "111               5.032   \n",
       "\n",
       "     PM2.5 air pollution - mean annual exposure (micrograms per cubic meter)  \\\n",
       "0                                            46.719096                         \n",
       "1                                            46.530559                         \n",
       "2                                            46.342022                         \n",
       "3                                            46.153485                         \n",
       "4                                            45.964949                         \n",
       "..                                                 ...                         \n",
       "107                                           8.641443                         \n",
       "108                                           8.142226                         \n",
       "109                                           7.973350                         \n",
       "110                                           7.321048                         \n",
       "111                                           7.311075                         \n",
       "\n",
       "     Deaths - Cause: All causes - Risk: Outdoor air pollution - OWID - Sex: Both - Age: All Ages (Number)  \\\n",
       "0                                               169060                                                      \n",
       "1                                               173284                                                      \n",
       "2                                               177903                                                      \n",
       "3                                               183152                                                      \n",
       "4                                               188664                                                      \n",
       "..                                                 ...                                                      \n",
       "107                                              70771                                                      \n",
       "108                                              68018                                                      \n",
       "109                                              66704                                                      \n",
       "110                                              64353                                                      \n",
       "111                                              62260                                                      \n",
       "\n",
       "     rate Deaths - Cause: All causes - Risk: Outdoor air pollution - OWID - Sex: Both - Age: All Ages (Number)  \\\n",
       "0                                                 25.0                                                           \n",
       "1                                                 25.0                                                           \n",
       "2                                                 25.0                                                           \n",
       "3                                                 25.0                                                           \n",
       "4                                                 25.0                                                           \n",
       "..                                                 ...                                                           \n",
       "107                                               15.0                                                           \n",
       "108                                               10.0                                                           \n",
       "109                                               10.0                                                           \n",
       "110                                               10.0                                                           \n",
       "111                                               10.0                                                           \n",
       "\n",
       "          category  \n",
       "0           Africa  \n",
       "1           Africa  \n",
       "2           Africa  \n",
       "3           Africa  \n",
       "4           Africa  \n",
       "..             ...  \n",
       "107  North America  \n",
       "108  North America  \n",
       "109  North America  \n",
       "110  North America  \n",
       "111  North America  \n",
       "\n",
       "[112 rows x 12 columns]>"
      ]
     },
     "execution_count": 4,
     "metadata": {},
     "output_type": "execute_result"
    }
   ],
   "source": [
    "df = df.dropna(how='any',axis=1)\n",
    "df.head"
   ]
  },
  {
   "cell_type": "code",
   "execution_count": 6,
   "id": "8f33535f-831f-4438-9e87-a804d3d16022",
   "metadata": {},
   "outputs": [],
   "source": [
    "# select relevant entries\n",
    "\n",
    "\n",
    "df_rf = df[['cement_co2_per_capita', 'coal_co2_per_capita', 'flaring_co2_per_capita', 'gas_co2_per_capita', 'oil_co2_per_capita', 'PM2.5 air pollution - mean annual exposure (micrograms per cubic meter)', 'rate Deaths - Cause: All causes - Risk: Outdoor air pollution - OWID - Sex: Both - Age: All Ages (Number)']]"
   ]
  },
  {
   "cell_type": "code",
   "execution_count": 7,
   "id": "10cacc70-abc7-4d37-8805-ab7116de2684",
   "metadata": {},
   "outputs": [],
   "source": [
    "\n",
    "t_f = df_rf.columns[:-1]\n",
    "\n",
    "\n",
    "t = df_rf.columns[-1]"
   ]
  },
  {
   "cell_type": "code",
   "execution_count": 8,
   "id": "be0ae388-63f5-4633-80b7-4b320be4f4b7",
   "metadata": {},
   "outputs": [],
   "source": [
    "# Split Dataset\n",
    "\n",
    "X_train, X_test, y_train, y_test = train_test_split(df_rf[t_f], df_rf[t], test_size=0.25,  shuffle=True)"
   ]
  },
  {
   "cell_type": "code",
   "execution_count": 9,
   "id": "1d7219a1-9858-4a12-a429-c1c4c26318d5",
   "metadata": {},
   "outputs": [
    {
     "name": "stdout",
     "output_type": "stream",
     "text": [
      "Acuracy: 0.32142857142857145\n"
     ]
    }
   ],
   "source": [
    "\n",
    "# Classifier\n",
    "clr = RandomForestClassifier(n_estimators=100,max_depth=1,random_state=0) # diese Zahlen verändern erste zwei\n",
    "clr.fit(X_train, y_train)\n",
    "\n",
    "# prediction\n",
    "y_pred_df = clr.predict(X_test)\n",
    "print(\"Acuracy:\",accuracy_score(y_test,y_pred_df))\n",
    "\n"
   ]
  },
  {
   "cell_type": "code",
   "execution_count": 10,
   "id": "ef177316-e611-40eb-ae93-c0ce049293a5",
   "metadata": {},
   "outputs": [
    {
     "data": {
      "text/html": [
       "<div>\n",
       "<style scoped>\n",
       "    .dataframe tbody tr th:only-of-type {\n",
       "        vertical-align: middle;\n",
       "    }\n",
       "\n",
       "    .dataframe tbody tr th {\n",
       "        vertical-align: top;\n",
       "    }\n",
       "\n",
       "    .dataframe thead th {\n",
       "        text-align: right;\n",
       "    }\n",
       "</style>\n",
       "<table border=\"1\" class=\"dataframe\">\n",
       "  <thead>\n",
       "    <tr style=\"text-align: right;\">\n",
       "      <th></th>\n",
       "      <th>importance</th>\n",
       "    </tr>\n",
       "  </thead>\n",
       "  <tbody>\n",
       "    <tr>\n",
       "      <th>coal_co2_per_capita</th>\n",
       "      <td>0.40</td>\n",
       "    </tr>\n",
       "    <tr>\n",
       "      <th>oil_co2_per_capita</th>\n",
       "      <td>0.21</td>\n",
       "    </tr>\n",
       "    <tr>\n",
       "      <th>cement_co2_per_capita</th>\n",
       "      <td>0.16</td>\n",
       "    </tr>\n",
       "    <tr>\n",
       "      <th>gas_co2_per_capita</th>\n",
       "      <td>0.14</td>\n",
       "    </tr>\n",
       "    <tr>\n",
       "      <th>PM2.5 air pollution - mean annual exposure (micrograms per cubic meter)</th>\n",
       "      <td>0.05</td>\n",
       "    </tr>\n",
       "    <tr>\n",
       "      <th>flaring_co2_per_capita</th>\n",
       "      <td>0.04</td>\n",
       "    </tr>\n",
       "  </tbody>\n",
       "</table>\n",
       "</div>"
      ],
      "text/plain": [
       "                                                    importance\n",
       "coal_co2_per_capita                                       0.40\n",
       "oil_co2_per_capita                                        0.21\n",
       "cement_co2_per_capita                                     0.16\n",
       "gas_co2_per_capita                                        0.14\n",
       "PM2.5 air pollution - mean annual exposure (mic...        0.05\n",
       "flaring_co2_per_capita                                    0.04"
      ]
     },
     "execution_count": 10,
     "metadata": {},
     "output_type": "execute_result"
    }
   ],
   "source": [
    "# feature imortance\n",
    "\n",
    "fi = pd.DataFrame(clr.feature_importances_,\n",
    "                  index=df_rf.columns.values[:-1],\n",
    "                  columns=['importance'])\n",
    "fi_sorted = fi.sort_values('importance', ascending=False)\n",
    "fi_sorted"
   ]
  },
  {
   "cell_type": "code",
   "execution_count": 11,
   "id": "ecf01022-c812-41f7-862d-ad54f1c6e190",
   "metadata": {},
   "outputs": [
    {
     "name": "stdout",
     "output_type": "stream",
     "text": [
      "Accuracy: 0.32142857142857145\n"
     ]
    }
   ],
   "source": [
    "print(\"Accuracy:\",accuracy_score(y_test, y_pred_df)) "
   ]
  },
  {
   "cell_type": "code",
   "execution_count": 12,
   "id": "81c3346b-32ed-4a06-8e4c-5d2ee413ea27",
   "metadata": {},
   "outputs": [],
   "source": [
    "predicted_surv_rf = clr.predict(X_test)\n",
    "cm=confusion_matrix(y_test,predicted_surv_rf)\n",
    "\n"
   ]
  },
  {
   "cell_type": "code",
   "execution_count": 15,
   "id": "72e71934-344f-47b9-a854-5b2e6d243b53",
   "metadata": {},
   "outputs": [
    {
     "data": {
      "text/plain": [
       "Text(24.0, 0.5, 'Actual')"
      ]
     },
     "execution_count": 15,
     "metadata": {},
     "output_type": "execute_result"
    },
    {
     "data": {
      "image/png": "[encoded data removed]",
      "text/plain": [
       "<Figure size 360x360 with 2 Axes>"
      ]
     },
     "metadata": {
      "needs_background": "light"
     },
     "output_type": "display_data"
    }
   ],
   "source": [
    "rcParams['figure.figsize'] = 5,5\n",
    "sn.heatmap(cm,annot=True, fmt='g')\n",
    "plt.xlabel(\"Predicted\")\n",
    "plt.ylabel(\"Actual\")"
   ]
  },
  {
   "cell_type": "code",
   "execution_count": null,
   "id": "0e1f084f-d271-4f93-85b1-a8f0817fbf80",
   "metadata": {},
   "outputs": [],
   "source": []
  }
 ],
 "metadata": {
  "kernelspec": {
   "display_name": "Python 3 (ipykernel)",
   "language": "python",
   "name": "python3"
  },
  "language_info": {
   "codemirror_mode": {
    "name": "ipython",
    "version": 3
   },
   "file_extension": ".py",
   "mimetype": "text/x-python",
   "name": "python",
   "nbconvert_exporter": "python",
   "pygments_lexer": "ipython3",
   "version": "3.9.7"
  }
 },
 "nbformat": 4,
 "nbformat_minor": 5
}
