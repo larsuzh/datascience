{
 "cells": [
  {
   "cell_type": "markdown",
   "id": "fa99532a",
   "metadata": {},
   "source": [
    "# Project Introduction to data science"
   ]
  },
  {
   "cell_type": "markdown",
   "id": "ce79c764",
   "metadata": {},
   "source": [
    "Read & clean data"
   ]
  },
  {
   "cell_type": "code",
   "execution_count": null,
   "id": "2d615f33",
   "metadata": {},
   "outputs": [],
   "source": []
  }
 ],
 "metadata": {
  "kernelspec": {
   "display_name": "Python 3 (ipykernel)",
   "language": "python",
   "name": "python3"
  },
  "language_info": {
   "codemirror_mode": {
    "name": "ipython",
    "version": 3
   },
   "file_extension": ".py",
   "mimetype": "text/x-python",
   "name": "python",
   "nbconvert_exporter": "python",
   "pygments_lexer": "ipython3",
   "version": "3.9.7"
  }
 },
 "nbformat": 4,
 "nbformat_minor": 5
}
