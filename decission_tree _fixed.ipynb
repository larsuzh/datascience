{
 "cells": [
  {
   "cell_type": "markdown",
   "metadata": {
    "id": "NQwnmyd-rU53"
   },
   "source": [
    "*Decision tree*"
   ]
  },
  {
   "cell_type": "code",
   "execution_count": 1,
   "metadata": {
    "id": "h7Ejw7UNqpGK"
   },
   "outputs": [],
   "source": [
    "import numpy as np\n",
    "from matplotlib.pylab import rcParams\n",
    "import seaborn as sn\n",
    "import matplotlib.pyplot as plt\n",
    "import pandas as pd\n",
    "from sklearn.tree import DecisionTreeClassifier, plot_tree\n",
    "from sklearn.metrics import confusion_matrix"
   ]
  },
  {
   "cell_type": "code",
   "execution_count": 2,
   "metadata": {
    "collapsed": false,
    "jupyter": {
     "outputs_hidden": false
    },
    "pycharm": {
     "name": "#%%\n"
    }
   },
   "outputs": [
    {
     "data": {
      "text/plain": "Index(['Unnamed: 0', 'country', 'year', 'cement_co2_per_capita',\n       'coal_co2_per_capita', 'flaring_co2_per_capita', 'gas_co2_per_capita',\n       'oil_co2_per_capita',\n       'PM2.5 air pollution - mean annual exposure (micrograms per cubic meter)',\n       'Deaths - Cause: All causes - Risk: Outdoor air pollution - OWID - Sex: Both - Age: All Ages (Number)',\n       'rate Deaths - Cause: All causes - Risk: Outdoor air pollution - OWID - Sex: Both - Age: All Ages (Number)',\n       'category'],\n      dtype='object')"
     },
     "execution_count": 2,
     "metadata": {},
     "output_type": "execute_result"
    }
   ],
   "source": [
    "\"load data set\"\n",
    "df = pd.read_csv('additional_co2_new.csv')\n",
    "df = df.dropna(how='any',axis=1)\n",
    "df.columns"
   ]
  },
  {
   "cell_type": "code",
   "execution_count": 3,
   "metadata": {
    "collapsed": false,
    "jupyter": {
     "outputs_hidden": false
    },
    "pycharm": {
     "name": "#%%\n"
    }
   },
   "outputs": [],
   "source": [
    "\"in order to estimate the death rates, we round the actual death rates to 5 (by choice).\"\n",
    "def round_5(x, base=5):\n",
    "    return base * round(x/base)\n",
    "\n",
    "df['rate Deaths - Cause: All causes - Risk: Outdoor air pollution - OWID - Sex: Both - Age: All Ages (Number)'] = round_5(df['rate Deaths - Cause: All causes - Risk: Outdoor air pollution - OWID - Sex: Both - Age: All Ages (Number)'], base=5)"
   ]
  },
  {
   "cell_type": "code",
   "execution_count": 4,
   "metadata": {
    "collapsed": false,
    "jupyter": {
     "outputs_hidden": false
    },
    "pycharm": {
     "name": "#%%\n"
    }
   },
   "outputs": [
    {
     "data": {
      "text/plain": "   Unnamed: 0 country  year  cement_co2_per_capita  coal_co2_per_capita  \\\n0           0  Africa  1990                  0.036                0.472   \n1           1  Africa  1991                  0.038                0.475   \n2           2  Africa  1992                  0.038                0.436   \n3           3  Africa  1993                  0.036                0.469   \n4           4  Africa  1994                  0.036                0.473   \n\n   flaring_co2_per_capita  gas_co2_per_capita  oil_co2_per_capita  \\\n0                   0.033               0.121               0.390   \n1                   0.032               0.122               0.401   \n2                   0.035               0.112               0.389   \n3                   0.032               0.120               0.386   \n4                   0.031               0.122               0.367   \n\n   PM2.5 air pollution - mean annual exposure (micrograms per cubic meter)  \\\n0                                          46.719096                         \n1                                          46.530559                         \n2                                          46.342022                         \n3                                          46.153485                         \n4                                          45.964949                         \n\n   Deaths - Cause: All causes - Risk: Outdoor air pollution - OWID - Sex: Both - Age: All Ages (Number)  \\\n0                                             169060                                                      \n1                                             173284                                                      \n2                                             177903                                                      \n3                                             183152                                                      \n4                                             188664                                                      \n\n   rate Deaths - Cause: All causes - Risk: Outdoor air pollution - OWID - Sex: Both - Age: All Ages (Number)  \\\n0                                               25.0                                                           \n1                                               25.0                                                           \n2                                               25.0                                                           \n3                                               25.0                                                           \n4                                               25.0                                                           \n\n  category  \n0   Africa  \n1   Africa  \n2   Africa  \n3   Africa  \n4   Africa  ",
      "text/html": "<div>\n<style scoped>\n    .dataframe tbody tr th:only-of-type {\n        vertical-align: middle;\n    }\n\n    .dataframe tbody tr th {\n        vertical-align: top;\n    }\n\n    .dataframe thead th {\n        text-align: right;\n    }\n</style>\n<table border=\"1\" class=\"dataframe\">\n  <thead>\n    <tr style=\"text-align: right;\">\n      <th></th>\n      <th>Unnamed: 0</th>\n      <th>country</th>\n      <th>year</th>\n      <th>cement_co2_per_capita</th>\n      <th>coal_co2_per_capita</th>\n      <th>flaring_co2_per_capita</th>\n      <th>gas_co2_per_capita</th>\n      <th>oil_co2_per_capita</th>\n      <th>PM2.5 air pollution - mean annual exposure (micrograms per cubic meter)</th>\n      <th>Deaths - Cause: All causes - Risk: Outdoor air pollution - OWID - Sex: Both - Age: All Ages (Number)</th>\n      <th>rate Deaths - Cause: All causes - Risk: Outdoor air pollution - OWID - Sex: Both - Age: All Ages (Number)</th>\n      <th>category</th>\n    </tr>\n  </thead>\n  <tbody>\n    <tr>\n      <th>0</th>\n      <td>0</td>\n      <td>Africa</td>\n      <td>1990</td>\n      <td>0.036</td>\n      <td>0.472</td>\n      <td>0.033</td>\n      <td>0.121</td>\n      <td>0.390</td>\n      <td>46.719096</td>\n      <td>169060</td>\n      <td>25.0</td>\n      <td>Africa</td>\n    </tr>\n    <tr>\n      <th>1</th>\n      <td>1</td>\n      <td>Africa</td>\n      <td>1991</td>\n      <td>0.038</td>\n      <td>0.475</td>\n      <td>0.032</td>\n      <td>0.122</td>\n      <td>0.401</td>\n      <td>46.530559</td>\n      <td>173284</td>\n      <td>25.0</td>\n      <td>Africa</td>\n    </tr>\n    <tr>\n      <th>2</th>\n      <td>2</td>\n      <td>Africa</td>\n      <td>1992</td>\n      <td>0.038</td>\n      <td>0.436</td>\n      <td>0.035</td>\n      <td>0.112</td>\n      <td>0.389</td>\n      <td>46.342022</td>\n      <td>177903</td>\n      <td>25.0</td>\n      <td>Africa</td>\n    </tr>\n    <tr>\n      <th>3</th>\n      <td>3</td>\n      <td>Africa</td>\n      <td>1993</td>\n      <td>0.036</td>\n      <td>0.469</td>\n      <td>0.032</td>\n      <td>0.120</td>\n      <td>0.386</td>\n      <td>46.153485</td>\n      <td>183152</td>\n      <td>25.0</td>\n      <td>Africa</td>\n    </tr>\n    <tr>\n      <th>4</th>\n      <td>4</td>\n      <td>Africa</td>\n      <td>1994</td>\n      <td>0.036</td>\n      <td>0.473</td>\n      <td>0.031</td>\n      <td>0.122</td>\n      <td>0.367</td>\n      <td>45.964949</td>\n      <td>188664</td>\n      <td>25.0</td>\n      <td>Africa</td>\n    </tr>\n  </tbody>\n</table>\n</div>"
     },
     "execution_count": 4,
     "metadata": {},
     "output_type": "execute_result"
    }
   ],
   "source": [
    "df.head()"
   ]
  },
  {
   "cell_type": "code",
   "execution_count": 5,
   "metadata": {},
   "outputs": [
    {
     "data": {
      "text/plain": "    Unnamed: 0  country  year  cement_co2_per_capita  coal_co2_per_capita  \\\n0            0        0  1990                  0.036                0.472   \n1            1        0  1991                  0.038                0.475   \n2            2        0  1992                  0.038                0.436   \n3            3        0  1993                  0.036                0.469   \n4            4        0  1994                  0.036                0.473   \n..         ...      ...   ...                    ...                  ...   \n85          85        3  1991                  0.122                4.540   \n86          86        3  1992                  0.122                4.542   \n87          87        3  1993                  0.126                4.605   \n88          88        3  1994                  0.134                4.588   \n89          89        3  1995                  0.130                4.585   \n\n    flaring_co2_per_capita  gas_co2_per_capita  oil_co2_per_capita  \\\n0                    0.033               0.121               0.390   \n1                    0.032               0.122               0.401   \n2                    0.035               0.112               0.389   \n3                    0.032               0.120               0.386   \n4                    0.031               0.122               0.367   \n..                     ...                 ...                 ...   \n85                   0.134               2.908               6.060   \n86                   0.135               2.969               6.112   \n87                   0.134               3.006               6.079   \n88                   0.134               3.041               6.154   \n89                   0.133               3.125               6.028   \n\n    PM2.5 air pollution - mean annual exposure (micrograms per cubic meter)  \\\n0                                           46.719096                         \n1                                           46.530559                         \n2                                           46.342022                         \n3                                           46.153485                         \n4                                           45.964949                         \n..                                                ...                         \n85                                           9.528191                         \n86                                           9.501610                         \n87                                           9.475030                         \n88                                           9.448450                         \n89                                           9.421870                         \n\n    Deaths - Cause: All causes - Risk: Outdoor air pollution - OWID - Sex: Both - Age: All Ages (Number)  \\\n0                                              169060                                                      \n1                                              173284                                                      \n2                                              177903                                                      \n3                                              183152                                                      \n4                                              188664                                                      \n..                                                ...                                                      \n85                                             109722                                                      \n86                                             109047                                                      \n87                                             111159                                                      \n88                                             111941                                                      \n89                                             112758                                                      \n\n    rate Deaths - Cause: All causes - Risk: Outdoor air pollution - OWID - Sex: Both - Age: All Ages (Number)  \\\n0                                                25.0                                                           \n1                                                25.0                                                           \n2                                                25.0                                                           \n3                                                25.0                                                           \n4                                                25.0                                                           \n..                                                ...                                                           \n85                                               25.0                                                           \n86                                               25.0                                                           \n87                                               25.0                                                           \n88                                               25.0                                                           \n89                                               25.0                                                           \n\n         category  \n0          Africa  \n1          Africa  \n2          Africa  \n3          Africa  \n4          Africa  \n..            ...  \n85  North America  \n86  North America  \n87  North America  \n88  North America  \n89  North America  \n\n[90 rows x 12 columns]",
      "text/html": "<div>\n<style scoped>\n    .dataframe tbody tr th:only-of-type {\n        vertical-align: middle;\n    }\n\n    .dataframe tbody tr th {\n        vertical-align: top;\n    }\n\n    .dataframe thead th {\n        text-align: right;\n    }\n</style>\n<table border=\"1\" class=\"dataframe\">\n  <thead>\n    <tr style=\"text-align: right;\">\n      <th></th>\n      <th>Unnamed: 0</th>\n      <th>country</th>\n      <th>year</th>\n      <th>cement_co2_per_capita</th>\n      <th>coal_co2_per_capita</th>\n      <th>flaring_co2_per_capita</th>\n      <th>gas_co2_per_capita</th>\n      <th>oil_co2_per_capita</th>\n      <th>PM2.5 air pollution - mean annual exposure (micrograms per cubic meter)</th>\n      <th>Deaths - Cause: All causes - Risk: Outdoor air pollution - OWID - Sex: Both - Age: All Ages (Number)</th>\n      <th>rate Deaths - Cause: All causes - Risk: Outdoor air pollution - OWID - Sex: Both - Age: All Ages (Number)</th>\n      <th>category</th>\n    </tr>\n  </thead>\n  <tbody>\n    <tr>\n      <th>0</th>\n      <td>0</td>\n      <td>0</td>\n      <td>1990</td>\n      <td>0.036</td>\n      <td>0.472</td>\n      <td>0.033</td>\n      <td>0.121</td>\n      <td>0.390</td>\n      <td>46.719096</td>\n      <td>169060</td>\n      <td>25.0</td>\n      <td>Africa</td>\n    </tr>\n    <tr>\n      <th>1</th>\n      <td>1</td>\n      <td>0</td>\n      <td>1991</td>\n      <td>0.038</td>\n      <td>0.475</td>\n      <td>0.032</td>\n      <td>0.122</td>\n      <td>0.401</td>\n      <td>46.530559</td>\n      <td>173284</td>\n      <td>25.0</td>\n      <td>Africa</td>\n    </tr>\n    <tr>\n      <th>2</th>\n      <td>2</td>\n      <td>0</td>\n      <td>1992</td>\n      <td>0.038</td>\n      <td>0.436</td>\n      <td>0.035</td>\n      <td>0.112</td>\n      <td>0.389</td>\n      <td>46.342022</td>\n      <td>177903</td>\n      <td>25.0</td>\n      <td>Africa</td>\n    </tr>\n    <tr>\n      <th>3</th>\n      <td>3</td>\n      <td>0</td>\n      <td>1993</td>\n      <td>0.036</td>\n      <td>0.469</td>\n      <td>0.032</td>\n      <td>0.120</td>\n      <td>0.386</td>\n      <td>46.153485</td>\n      <td>183152</td>\n      <td>25.0</td>\n      <td>Africa</td>\n    </tr>\n    <tr>\n      <th>4</th>\n      <td>4</td>\n      <td>0</td>\n      <td>1994</td>\n      <td>0.036</td>\n      <td>0.473</td>\n      <td>0.031</td>\n      <td>0.122</td>\n      <td>0.367</td>\n      <td>45.964949</td>\n      <td>188664</td>\n      <td>25.0</td>\n      <td>Africa</td>\n    </tr>\n    <tr>\n      <th>...</th>\n      <td>...</td>\n      <td>...</td>\n      <td>...</td>\n      <td>...</td>\n      <td>...</td>\n      <td>...</td>\n      <td>...</td>\n      <td>...</td>\n      <td>...</td>\n      <td>...</td>\n      <td>...</td>\n      <td>...</td>\n    </tr>\n    <tr>\n      <th>85</th>\n      <td>85</td>\n      <td>3</td>\n      <td>1991</td>\n      <td>0.122</td>\n      <td>4.540</td>\n      <td>0.134</td>\n      <td>2.908</td>\n      <td>6.060</td>\n      <td>9.528191</td>\n      <td>109722</td>\n      <td>25.0</td>\n      <td>North America</td>\n    </tr>\n    <tr>\n      <th>86</th>\n      <td>86</td>\n      <td>3</td>\n      <td>1992</td>\n      <td>0.122</td>\n      <td>4.542</td>\n      <td>0.135</td>\n      <td>2.969</td>\n      <td>6.112</td>\n      <td>9.501610</td>\n      <td>109047</td>\n      <td>25.0</td>\n      <td>North America</td>\n    </tr>\n    <tr>\n      <th>87</th>\n      <td>87</td>\n      <td>3</td>\n      <td>1993</td>\n      <td>0.126</td>\n      <td>4.605</td>\n      <td>0.134</td>\n      <td>3.006</td>\n      <td>6.079</td>\n      <td>9.475030</td>\n      <td>111159</td>\n      <td>25.0</td>\n      <td>North America</td>\n    </tr>\n    <tr>\n      <th>88</th>\n      <td>88</td>\n      <td>3</td>\n      <td>1994</td>\n      <td>0.134</td>\n      <td>4.588</td>\n      <td>0.134</td>\n      <td>3.041</td>\n      <td>6.154</td>\n      <td>9.448450</td>\n      <td>111941</td>\n      <td>25.0</td>\n      <td>North America</td>\n    </tr>\n    <tr>\n      <th>89</th>\n      <td>89</td>\n      <td>3</td>\n      <td>1995</td>\n      <td>0.130</td>\n      <td>4.585</td>\n      <td>0.133</td>\n      <td>3.125</td>\n      <td>6.028</td>\n      <td>9.421870</td>\n      <td>112758</td>\n      <td>25.0</td>\n      <td>North America</td>\n    </tr>\n  </tbody>\n</table>\n<p>90 rows × 12 columns</p>\n</div>"
     },
     "execution_count": 5,
     "metadata": {},
     "output_type": "execute_result"
    }
   ],
   "source": [
    "# Convert the country names to a digit (0, 1, 2) for each class.\n",
    "df['country'] = pd.factorize(df['country'])[0]\n",
    "df.head(90)"
   ]
  },
  {
   "cell_type": "code",
   "execution_count": 6,
   "metadata": {
    "colab": {
     "base_uri": "https://localhost:8080/"
    },
    "id": "xJwx78dgtAlt",
    "outputId": "9774e17d-d9da-4e4f-b80a-9e9caf3229e4"
   },
   "outputs": [
    {
     "name": "stdout",
     "output_type": "stream",
     "text": [
      "Length of train data: 69\n",
      "Length of test data : 43\n"
     ]
    }
   ],
   "source": [
    "\"split the set in training and test data. 60% training data is relatively low, but the classification still gives reasonable results\"\n",
    "df['is_train'] = np.random.uniform(0, 1, len(df)) <= 0.60\n",
    "df.head()\n",
    "\n",
    "train_df = df[df['is_train']]\n",
    "test_df  = df[~df['is_train']]\n",
    "\n",
    "print('Length of train data:', len(train_df))\n",
    "print('Length of test data :', len(test_df))"
   ]
  },
  {
   "cell_type": "code",
   "execution_count": 7,
   "metadata": {
    "colab": {
     "base_uri": "https://localhost:8080/"
    },
    "id": "5keL8no4ucYR",
    "outputId": "4fd73c31-a512-44d7-84f6-e7b29e94fbaf"
   },
   "outputs": [
    {
     "data": {
      "text/plain": "Index(['cement_co2_per_capita', 'coal_co2_per_capita',\n       'flaring_co2_per_capita', 'gas_co2_per_capita', 'oil_co2_per_capita',\n       'PM2.5 air pollution - mean annual exposure (micrograms per cubic meter)'],\n      dtype='object')"
     },
     "execution_count": 7,
     "metadata": {},
     "output_type": "execute_result"
    }
   ],
   "source": [
    "\"selecting the feature columns from the data set.\"\n",
    "features = df.columns[3:-4]\n",
    "features"
   ]
  },
  {
   "cell_type": "code",
   "execution_count": 8,
   "metadata": {
    "colab": {
     "base_uri": "https://localhost:8080/",
     "height": 37
    },
    "id": "HGOKbApqujYT",
    "outputId": "e67ec56d-358b-4903-d77f-6e1133e55ed6"
   },
   "outputs": [
    {
     "data": {
      "text/plain": "'rate Deaths - Cause: All causes - Risk: Outdoor air pollution - OWID - Sex: Both - Age: All Ages (Number)'"
     },
     "execution_count": 8,
     "metadata": {},
     "output_type": "execute_result"
    }
   ],
   "source": [
    "\"selecting the target column from our data set\"\n",
    "targets  = df.columns[-3]\n",
    "targets\n",
    "#print(df['oil_co2'])"
   ]
  },
  {
   "cell_type": "code",
   "execution_count": 9,
   "metadata": {
    "colab": {
     "base_uri": "https://localhost:8080/",
     "height": 324
    },
    "id": "19rkr_6wusq2",
    "outputId": "66e532cd-16f8-476d-b4fd-77df0780483f"
   },
   "outputs": [
    {
     "data": {
      "text/plain": "DecisionTreeClassifier()"
     },
     "execution_count": 9,
     "metadata": {},
     "output_type": "execute_result"
    }
   ],
   "source": [
    "\"construct and train the tree\"\n",
    "clf = DecisionTreeClassifier()\n",
    "clf.fit(train_df[features], train_df[targets])"
   ]
  },
  {
   "cell_type": "code",
   "execution_count": 10,
   "outputs": [
    {
     "data": {
      "text/plain": "array([25., 25., 30., 25., 30., 30., 30., 30., 30., 40., 40., 45., 40.,\n       40., 40., 55., 55., 55., 55., 55., 55., 70., 70., 85., 90., 80.,\n       75., 70., 70., 60., 65., 25., 25., 25., 25., 25., 20., 20., 20.,\n       25., 15., 10., 10.])"
     },
     "execution_count": 10,
     "metadata": {},
     "output_type": "execute_result"
    }
   ],
   "source": [
    "\"use trained model to make predictions on the test set\"\n",
    "clf.predict(test_df[features])"
   ],
   "metadata": {
    "collapsed": false,
    "pycharm": {
     "name": "#%%\n"
    }
   }
  },
  {
   "cell_type": "code",
   "execution_count": 11,
   "metadata": {
    "colab": {
     "base_uri": "https://localhost:8080/",
     "height": 307
    },
    "id": "_3sWPC2X212p",
    "outputId": "55cf512c-ddc3-4c86-d5fc-556e0595693e"
   },
   "outputs": [
    {
     "data": {
      "text/plain": "array([[0., 0., 0., 1., 0., 0., 0., 0., 0., 0., 0., 0., 0., 0., 0., 0.],\n       [0., 0., 0., 1., 0., 0., 0., 0., 0., 0., 0., 0., 0., 0., 0., 0.],\n       [0., 0., 0., 0., 1., 0., 0., 0., 0., 0., 0., 0., 0., 0., 0., 0.],\n       [0., 0., 0., 1., 0., 0., 0., 0., 0., 0., 0., 0., 0., 0., 0., 0.],\n       [0., 0., 0., 0., 1., 0., 0., 0., 0., 0., 0., 0., 0., 0., 0., 0.],\n       [0., 0., 0., 0., 1., 0., 0., 0., 0., 0., 0., 0., 0., 0., 0., 0.],\n       [0., 0., 0., 0., 1., 0., 0., 0., 0., 0., 0., 0., 0., 0., 0., 0.],\n       [0., 0., 0., 0., 1., 0., 0., 0., 0., 0., 0., 0., 0., 0., 0., 0.],\n       [0., 0., 0., 0., 1., 0., 0., 0., 0., 0., 0., 0., 0., 0., 0., 0.],\n       [0., 0., 0., 0., 0., 1., 0., 0., 0., 0., 0., 0., 0., 0., 0., 0.],\n       [0., 0., 0., 0., 0., 1., 0., 0., 0., 0., 0., 0., 0., 0., 0., 0.],\n       [0., 0., 0., 0., 0., 0., 1., 0., 0., 0., 0., 0., 0., 0., 0., 0.],\n       [0., 0., 0., 0., 0., 1., 0., 0., 0., 0., 0., 0., 0., 0., 0., 0.],\n       [0., 0., 0., 0., 0., 1., 0., 0., 0., 0., 0., 0., 0., 0., 0., 0.],\n       [0., 0., 0., 0., 0., 1., 0., 0., 0., 0., 0., 0., 0., 0., 0., 0.],\n       [0., 0., 0., 0., 0., 0., 0., 0., 1., 0., 0., 0., 0., 0., 0., 0.],\n       [0., 0., 0., 0., 0., 0., 0., 0., 1., 0., 0., 0., 0., 0., 0., 0.],\n       [0., 0., 0., 0., 0., 0., 0., 0., 1., 0., 0., 0., 0., 0., 0., 0.],\n       [0., 0., 0., 0., 0., 0., 0., 0., 1., 0., 0., 0., 0., 0., 0., 0.],\n       [0., 0., 0., 0., 0., 0., 0., 0., 1., 0., 0., 0., 0., 0., 0., 0.],\n       [0., 0., 0., 0., 0., 0., 0., 0., 1., 0., 0., 0., 0., 0., 0., 0.],\n       [0., 0., 0., 0., 0., 0., 0., 0., 0., 0., 0., 1., 0., 0., 0., 0.],\n       [0., 0., 0., 0., 0., 0., 0., 0., 0., 0., 0., 1., 0., 0., 0., 0.],\n       [0., 0., 0., 0., 0., 0., 0., 0., 0., 0., 0., 0., 0., 0., 1., 0.],\n       [0., 0., 0., 0., 0., 0., 0., 0., 0., 0., 0., 0., 0., 0., 0., 1.],\n       [0., 0., 0., 0., 0., 0., 0., 0., 0., 0., 0., 0., 0., 1., 0., 0.],\n       [0., 0., 0., 0., 0., 0., 0., 0., 0., 0., 0., 0., 1., 0., 0., 0.],\n       [0., 0., 0., 0., 0., 0., 0., 0., 0., 0., 0., 1., 0., 0., 0., 0.],\n       [0., 0., 0., 0., 0., 0., 0., 0., 0., 0., 0., 1., 0., 0., 0., 0.],\n       [0., 0., 0., 0., 0., 0., 0., 0., 0., 1., 0., 0., 0., 0., 0., 0.],\n       [0., 0., 0., 0., 0., 0., 0., 0., 0., 0., 1., 0., 0., 0., 0., 0.],\n       [0., 0., 0., 1., 0., 0., 0., 0., 0., 0., 0., 0., 0., 0., 0., 0.],\n       [0., 0., 0., 1., 0., 0., 0., 0., 0., 0., 0., 0., 0., 0., 0., 0.],\n       [0., 0., 0., 1., 0., 0., 0., 0., 0., 0., 0., 0., 0., 0., 0., 0.],\n       [0., 0., 0., 1., 0., 0., 0., 0., 0., 0., 0., 0., 0., 0., 0., 0.],\n       [0., 0., 0., 1., 0., 0., 0., 0., 0., 0., 0., 0., 0., 0., 0., 0.],\n       [0., 0., 1., 0., 0., 0., 0., 0., 0., 0., 0., 0., 0., 0., 0., 0.],\n       [0., 0., 1., 0., 0., 0., 0., 0., 0., 0., 0., 0., 0., 0., 0., 0.],\n       [0., 0., 1., 0., 0., 0., 0., 0., 0., 0., 0., 0., 0., 0., 0., 0.],\n       [0., 0., 0., 1., 0., 0., 0., 0., 0., 0., 0., 0., 0., 0., 0., 0.],\n       [0., 1., 0., 0., 0., 0., 0., 0., 0., 0., 0., 0., 0., 0., 0., 0.],\n       [1., 0., 0., 0., 0., 0., 0., 0., 0., 0., 0., 0., 0., 0., 0., 0.],\n       [1., 0., 0., 0., 0., 0., 0., 0., 0., 0., 0., 0., 0., 0., 0., 0.]])"
     },
     "execution_count": 11,
     "metadata": {},
     "output_type": "execute_result"
    }
   ],
   "source": [
    "clf.predict_proba(test_df[features])"
   ]
  },
  {
   "cell_type": "code",
   "execution_count": 12,
   "metadata": {
    "colab": {
     "base_uri": "https://localhost:8080/",
     "height": 375
    },
    "id": "HZ3w6GV93YeY",
    "outputId": "61970bae-f5c6-46b0-b768-6a5e35fc8a2e"
   },
   "outputs": [],
   "source": [
    "# predict_proba = clf.predict(test_df[features])\n",
    "# pd.crosstab(test_df['country'],\n",
    "#             predict_proba,\n",
    "#             rownames=['Actual Country'],\n",
    "#             colnames=['Predicted Country'])"
   ]
  },
  {
   "cell_type": "code",
   "execution_count": 13,
   "metadata": {
    "colab": {
     "base_uri": "https://localhost:8080/",
     "height": 351
    },
    "id": "sei71BNO9zGU",
    "outputId": "61a0f5c2-ebde-4584-b869-3cdf5a9aa3a5"
   },
   "outputs": [
    {
     "data": {
      "text/plain": "                                                    rate Deaths - Cause: All causes - Risk: Outdoor air pollution - OWID - Sex: Both - Age: All Ages (Number)\ncoal_co2_per_capita                                                                          0.335571                                                        \ncement_co2_per_capita                                                                        0.211225                                                        \nPM2.5 air pollution - mean annual exposure (mic...                                           0.165500                                                        \ngas_co2_per_capita                                                                           0.129863                                                        \noil_co2_per_capita                                                                           0.096419                                                        \nflaring_co2_per_capita                                                                       0.061422                                                        ",
      "text/html": "<div>\n<style scoped>\n    .dataframe tbody tr th:only-of-type {\n        vertical-align: middle;\n    }\n\n    .dataframe tbody tr th {\n        vertical-align: top;\n    }\n\n    .dataframe thead th {\n        text-align: right;\n    }\n</style>\n<table border=\"1\" class=\"dataframe\">\n  <thead>\n    <tr style=\"text-align: right;\">\n      <th></th>\n      <th>rate Deaths - Cause: All causes - Risk: Outdoor air pollution - OWID - Sex: Both - Age: All Ages (Number)</th>\n    </tr>\n  </thead>\n  <tbody>\n    <tr>\n      <th>coal_co2_per_capita</th>\n      <td>0.335571</td>\n    </tr>\n    <tr>\n      <th>cement_co2_per_capita</th>\n      <td>0.211225</td>\n    </tr>\n    <tr>\n      <th>PM2.5 air pollution - mean annual exposure (micrograms per cubic meter)</th>\n      <td>0.165500</td>\n    </tr>\n    <tr>\n      <th>gas_co2_per_capita</th>\n      <td>0.129863</td>\n    </tr>\n    <tr>\n      <th>oil_co2_per_capita</th>\n      <td>0.096419</td>\n    </tr>\n    <tr>\n      <th>flaring_co2_per_capita</th>\n      <td>0.061422</td>\n    </tr>\n  </tbody>\n</table>\n</div>"
     },
     "execution_count": 13,
     "metadata": {},
     "output_type": "execute_result"
    }
   ],
   "source": [
    "\"see which sources of co2 are most important for classification in our model\"\n",
    "fi = pd.DataFrame(clf.feature_importances_,\n",
    "                  index=df.columns[3:-4],\n",
    "                  columns=['rate Deaths - Cause: All causes - Risk: Outdoor air pollution - OWID - Sex: Both - Age: All Ages (Number)'])\n",
    "fi_sorted = fi.sort_values('rate Deaths - Cause: All causes - Risk: Outdoor air pollution - OWID - Sex: Both - Age: All Ages (Number)', ascending=False)\n",
    "fi_sorted\n",
    "\n",
    "# AttributeError: 'DecisionTreeClassifier' object has no attribute 'tree_'"
   ]
  },
  {
   "cell_type": "code",
   "execution_count": 14,
   "metadata": {
    "id": "gwvReifS-Ozb"
   },
   "outputs": [
    {
     "data": {
      "text/plain": "<Figure size 432x288 with 1 Axes>",
      "image/png": "[encoded data removed]"
     },
     "metadata": {
      "needs_background": "light"
     },
     "output_type": "display_data"
    }
   ],
   "source": [
    "rcParams['figure.figsize'] = 80,50\n",
    "tree_fig = plot_tree(clf, filled=True)\n",
    "#plt.savefig('DT.png',format='png',dpi=800)"
   ]
  },
  {
   "cell_type": "code",
   "execution_count": 15,
   "metadata": {
    "id": "d3l7uQbu-pSN"
   },
   "outputs": [
    {
     "name": "stdout",
     "output_type": "stream",
     "text": [
      "Predicted quality  10.0  15.0  20.0  25.0  30.0  40.0  45.0  55.0  60.0  65.0  \\\n",
      "Actual quality                                                                  \n",
      "10.0                  2     0     0     0     0     0     0     0     0     0   \n",
      "15.0                  0     1     1     1     0     0     0     0     0     0   \n",
      "20.0                  0     0     2     0     0     0     0     0     0     0   \n",
      "25.0                  0     0     0     6     0     0     0     0     0     0   \n",
      "30.0                  0     0     0     2     6     0     0     0     0     0   \n",
      "40.0                  0     0     0     0     0     2     0     0     0     0   \n",
      "45.0                  0     0     0     0     0     1     1     0     0     0   \n",
      "50.0                  0     0     0     0     0     2     0     0     0     0   \n",
      "55.0                  0     0     0     0     0     0     0     2     0     0   \n",
      "60.0                  0     0     0     0     0     0     0     3     1     1   \n",
      "65.0                  0     0     0     0     0     0     0     1     0     0   \n",
      "70.0                  0     0     0     0     0     0     0     0     0     0   \n",
      "75.0                  0     0     0     0     0     0     0     0     0     0   \n",
      "80.0                  0     0     0     0     0     0     0     0     0     0   \n",
      "85.0                  0     0     0     0     0     0     0     0     0     0   \n",
      "\n",
      "Predicted quality  70.0  75.0  80.0  85.0  90.0  \n",
      "Actual quality                                   \n",
      "10.0                  0     0     0     0     0  \n",
      "15.0                  0     0     0     0     0  \n",
      "20.0                  0     0     0     0     0  \n",
      "25.0                  0     0     0     0     0  \n",
      "30.0                  0     0     0     0     0  \n",
      "40.0                  0     0     0     0     0  \n",
      "45.0                  0     0     0     0     0  \n",
      "50.0                  0     0     0     0     0  \n",
      "55.0                  0     0     0     0     0  \n",
      "60.0                  0     0     0     0     0  \n",
      "65.0                  1     0     0     0     0  \n",
      "70.0                  2     0     0     0     0  \n",
      "75.0                  1     1     0     0     0  \n",
      "80.0                  0     0     1     0     0  \n",
      "85.0                  0     0     0     1     1  \n"
     ]
    }
   ],
   "source": [
    "\"confusion matrix\"\n",
    "predicted_rate = clf.predict(test_df[features])\n",
    "print(pd.crosstab(test_df['rate Deaths - Cause: All causes - Risk: Outdoor air pollution - OWID - Sex: Both - Age: All Ages (Number)'],\n",
    "            predicted_rate,\n",
    "            rownames=['Actual quality'],\n",
    "            colnames=['Predicted quality']))"
   ]
  },
  {
   "cell_type": "code",
   "execution_count": 16,
   "metadata": {
    "pycharm": {
     "name": "#%%\n"
    }
   },
   "outputs": [
    {
     "name": "stdout",
     "output_type": "stream",
     "text": [
      "in case the matrix is too large, run this cell again. have to be able to see the numbers in the cells. i do not know why the size does not always correspond to the values given\n"
     ]
    },
    {
     "data": {
      "text/plain": "<Figure size 432x288 with 2 Axes>",
      "image/png": "[encoded data removed]"
     },
     "metadata": {
      "needs_background": "light"
     },
     "output_type": "display_data"
    }
   ],
   "source": [
    "cm = confusion_matrix(test_df['rate Deaths - Cause: All causes - Risk: Outdoor air pollution - OWID - Sex: Both - Age: All Ages (Number)'],predicted_rate)\n",
    "print('in case the matrix is too large, run this cell again. have to be able to see the numbers in the cells. i do not know why the size does not always correspond to the values given')\n",
    "plt.figure()\n",
    "rcParams['figure.figsize'] = 5,5\n",
    "sn.heatmap(cm, annot=True, fmt='g')\n",
    "plt.xlabel(\"Predicted rate\")\n",
    "plt.ylabel(\"Actual rate\")\n",
    "#plt.savefig('DT_cm.png',format='png',dpi=300)\n",
    "plt.show()"
   ]
  }
 ],
 "metadata": {
  "colab": {
   "collapsed_sections": [],
   "name": "Untitled1.ipynb",
   "provenance": []
  },
  "kernelspec": {
   "display_name": "Python 3 (ipykernel)",
   "language": "python",
   "name": "python3"
  },
  "language_info": {
   "codemirror_mode": {
    "name": "ipython",
    "version": 3
   },
   "file_extension": ".py",
   "mimetype": "text/x-python",
   "name": "python",
   "nbconvert_exporter": "python",
   "pygments_lexer": "ipython3",
   "version": "3.9.7"
  }
 },
 "nbformat": 4,
 "nbformat_minor": 4
}