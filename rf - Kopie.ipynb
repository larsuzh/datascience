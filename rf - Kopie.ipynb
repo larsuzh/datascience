{
 "cells": [
  {
   "cell_type": "markdown",
   "metadata": {
    "id": "NQwnmyd-rU53"
   },
   "source": [
    "**Random Forrest for Project*"
   ]
  },
  {
   "cell_type": "code",
   "execution_count": 1,
   "metadata": {
    "id": "h7Ejw7UNqpGK"
   },
   "outputs": [],
   "source": [
    "# Load all dependencies and the data\n",
    "import numpy as np\n",
    "import matplotlib.pyplot as plt\n",
    "import pandas as pd\n",
    "from sklearn.datasets import load_iris\n",
    "from sklearn.tree import DecisionTreeClassifier, plot_tree"
   ]
  },
  {
   "cell_type": "code",
   "execution_count": 2,
   "metadata": {
    "id": "sttaOcMZrmg5"
   },
   "outputs": [],
   "source": [
    "# Add a new column with the country names.\n",
    "# This is what we are going to try to predict.\n",
    "# data['country'] = pd.Categorical.from_codes(country, country_names)\n",
    "    #error\n"
   ]
  },
  {
   "cell_type": "code",
   "execution_count": 3,
   "outputs": [
    {
     "data": {
      "text/plain": "Index(['Unnamed: 0', 'country', 'year', 'cement_co2_per_capita',\n       'coal_co2_per_capita', 'flaring_co2_per_capita', 'gas_co2_per_capita',\n       'oil_co2_per_capita', 'consumption_co2_per_capita',\n       'PM2.5 air pollution - mean annual exposure (micrograms per cubic meter)',\n       'Deaths - Cause: All causes - Risk: Outdoor air pollution - OWID - Sex: Both - Age: All Ages (Number)',\n       'rate Deaths - Cause: All causes - Risk: Outdoor air pollution - OWID - Sex: Both - Age: All Ages (Number)',\n       'category'],\n      dtype='object')"
     },
     "execution_count": 3,
     "metadata": {},
     "output_type": "execute_result"
    }
   ],
   "source": [
    "df = pd.read_csv('additional_co2_new.csv')\n",
    "df = df.dropna(how='any',axis=1)\n",
    "df.columns"
   ],
   "metadata": {
    "collapsed": false,
    "pycharm": {
     "name": "#%%\n"
    }
   }
  },
  {
   "cell_type": "code",
   "execution_count": 4,
   "outputs": [
    {
     "data": {
      "text/plain": "   Unnamed: 0 country  year  cement_co2_per_capita  coal_co2_per_capita  \\\n0           0  Africa  1990                  0.036                0.472   \n1           1  Africa  1991                  0.038                0.475   \n2           2  Africa  1992                  0.038                0.436   \n3           3  Africa  1993                  0.036                0.469   \n4           4  Africa  1994                  0.036                0.473   \n\n   flaring_co2_per_capita  gas_co2_per_capita  oil_co2_per_capita  \\\n0                   0.033               0.121               0.390   \n1                   0.032               0.122               0.401   \n2                   0.035               0.112               0.389   \n3                   0.032               0.120               0.386   \n4                   0.031               0.122               0.367   \n\n   consumption_co2_per_capita  \\\n0                       0.728   \n1                       0.738   \n2                       0.733   \n3                       0.737   \n4                       0.722   \n\n   PM2.5 air pollution - mean annual exposure (micrograms per cubic meter)  \\\n0                                          46.719096                         \n1                                          46.530559                         \n2                                          46.342022                         \n3                                          46.153485                         \n4                                          45.964949                         \n\n   Deaths - Cause: All causes - Risk: Outdoor air pollution - OWID - Sex: Both - Age: All Ages (Number)  \\\n0                                             169060                                                      \n1                                             173284                                                      \n2                                             177903                                                      \n3                                             183152                                                      \n4                                             188664                                                      \n\n   rate Deaths - Cause: All causes - Risk: Outdoor air pollution - OWID - Sex: Both - Age: All Ages (Number)  \\\n0                                          26.820034                                                           \n1                                          26.768455                                                           \n2                                          26.771976                                                           \n3                                          26.860278                                                           \n4                                          26.973370                                                           \n\n  category  \n0   Africa  \n1   Africa  \n2   Africa  \n3   Africa  \n4   Africa  ",
      "text/html": "<div>\n<style scoped>\n    .dataframe tbody tr th:only-of-type {\n        vertical-align: middle;\n    }\n\n    .dataframe tbody tr th {\n        vertical-align: top;\n    }\n\n    .dataframe thead th {\n        text-align: right;\n    }\n</style>\n<table border=\"1\" class=\"dataframe\">\n  <thead>\n    <tr style=\"text-align: right;\">\n      <th></th>\n      <th>Unnamed: 0</th>\n      <th>country</th>\n      <th>year</th>\n      <th>cement_co2_per_capita</th>\n      <th>coal_co2_per_capita</th>\n      <th>flaring_co2_per_capita</th>\n      <th>gas_co2_per_capita</th>\n      <th>oil_co2_per_capita</th>\n      <th>consumption_co2_per_capita</th>\n      <th>PM2.5 air pollution - mean annual exposure (micrograms per cubic meter)</th>\n      <th>Deaths - Cause: All causes - Risk: Outdoor air pollution - OWID - Sex: Both - Age: All Ages (Number)</th>\n      <th>rate Deaths - Cause: All causes - Risk: Outdoor air pollution - OWID - Sex: Both - Age: All Ages (Number)</th>\n      <th>category</th>\n    </tr>\n  </thead>\n  <tbody>\n    <tr>\n      <th>0</th>\n      <td>0</td>\n      <td>Africa</td>\n      <td>1990</td>\n      <td>0.036</td>\n      <td>0.472</td>\n      <td>0.033</td>\n      <td>0.121</td>\n      <td>0.390</td>\n      <td>0.728</td>\n      <td>46.719096</td>\n      <td>169060</td>\n      <td>26.820034</td>\n      <td>Africa</td>\n    </tr>\n    <tr>\n      <th>1</th>\n      <td>1</td>\n      <td>Africa</td>\n      <td>1991</td>\n      <td>0.038</td>\n      <td>0.475</td>\n      <td>0.032</td>\n      <td>0.122</td>\n      <td>0.401</td>\n      <td>0.738</td>\n      <td>46.530559</td>\n      <td>173284</td>\n      <td>26.768455</td>\n      <td>Africa</td>\n    </tr>\n    <tr>\n      <th>2</th>\n      <td>2</td>\n      <td>Africa</td>\n      <td>1992</td>\n      <td>0.038</td>\n      <td>0.436</td>\n      <td>0.035</td>\n      <td>0.112</td>\n      <td>0.389</td>\n      <td>0.733</td>\n      <td>46.342022</td>\n      <td>177903</td>\n      <td>26.771976</td>\n      <td>Africa</td>\n    </tr>\n    <tr>\n      <th>3</th>\n      <td>3</td>\n      <td>Africa</td>\n      <td>1993</td>\n      <td>0.036</td>\n      <td>0.469</td>\n      <td>0.032</td>\n      <td>0.120</td>\n      <td>0.386</td>\n      <td>0.737</td>\n      <td>46.153485</td>\n      <td>183152</td>\n      <td>26.860278</td>\n      <td>Africa</td>\n    </tr>\n    <tr>\n      <th>4</th>\n      <td>4</td>\n      <td>Africa</td>\n      <td>1994</td>\n      <td>0.036</td>\n      <td>0.473</td>\n      <td>0.031</td>\n      <td>0.122</td>\n      <td>0.367</td>\n      <td>0.722</td>\n      <td>45.964949</td>\n      <td>188664</td>\n      <td>26.973370</td>\n      <td>Africa</td>\n    </tr>\n  </tbody>\n</table>\n</div>"
     },
     "execution_count": 4,
     "metadata": {},
     "output_type": "execute_result"
    }
   ],
   "source": [
    "df.head()"
   ],
   "metadata": {
    "collapsed": false,
    "pycharm": {
     "name": "#%%\n"
    }
   }
  },
  {
   "cell_type": "code",
   "execution_count": 5,
   "metadata": {},
   "outputs": [
    {
     "data": {
      "text/plain": "    Unnamed: 0  country  year  cement_co2_per_capita  coal_co2_per_capita  \\\n0            0        0  1990                  0.036                0.472   \n1            1        0  1991                  0.038                0.475   \n2            2        0  1992                  0.038                0.436   \n3            3        0  1993                  0.036                0.469   \n4            4        0  1994                  0.036                0.473   \n..         ...      ...   ...                    ...                  ...   \n85          85        3  1991                  0.122                4.540   \n86          86        3  1992                  0.122                4.542   \n87          87        3  1993                  0.126                4.605   \n88          88        3  1994                  0.134                4.588   \n89          89        3  1995                  0.130                4.585   \n\n    flaring_co2_per_capita  gas_co2_per_capita  oil_co2_per_capita  \\\n0                    0.033               0.121               0.390   \n1                    0.032               0.122               0.401   \n2                    0.035               0.112               0.389   \n3                    0.032               0.120               0.386   \n4                    0.031               0.122               0.367   \n..                     ...                 ...                 ...   \n85                   0.134               2.908               6.060   \n86                   0.135               2.969               6.112   \n87                   0.134               3.006               6.079   \n88                   0.134               3.041               6.154   \n89                   0.133               3.125               6.028   \n\n    consumption_co2_per_capita  \\\n0                        0.728   \n1                        0.738   \n2                        0.733   \n3                        0.737   \n4                        0.722   \n..                         ...   \n85                      13.581   \n86                      13.900   \n87                      13.847   \n88                      13.946   \n89                      13.838   \n\n    PM2.5 air pollution - mean annual exposure (micrograms per cubic meter)  \\\n0                                           46.719096                         \n1                                           46.530559                         \n2                                           46.342022                         \n3                                           46.153485                         \n4                                           45.964949                         \n..                                                ...                         \n85                                           9.528191                         \n86                                           9.501610                         \n87                                           9.475030                         \n88                                           9.448450                         \n89                                           9.421870                         \n\n    Deaths - Cause: All causes - Risk: Outdoor air pollution - OWID - Sex: Both - Age: All Ages (Number)  \\\n0                                              169060                                                      \n1                                              173284                                                      \n2                                              177903                                                      \n3                                              183152                                                      \n4                                              188664                                                      \n..                                                ...                                                      \n85                                             109722                                                      \n86                                             109047                                                      \n87                                             111159                                                      \n88                                             111941                                                      \n89                                             112758                                                      \n\n    rate Deaths - Cause: All causes - Risk: Outdoor air pollution - OWID - Sex: Both - Age: All Ages (Number)  \\\n0                                           26.820034                                                           \n1                                           26.768455                                                           \n2                                           26.771976                                                           \n3                                           26.860278                                                           \n4                                           26.973370                                                           \n..                                                ...                                                           \n85                                          25.359643                                                           \n86                                          24.889542                                                           \n87                                          25.055436                                                           \n88                                          24.913506                                                           \n89                                          24.773099                                                           \n\n         category  \n0          Africa  \n1          Africa  \n2          Africa  \n3          Africa  \n4          Africa  \n..            ...  \n85  North America  \n86  North America  \n87  North America  \n88  North America  \n89  North America  \n\n[90 rows x 13 columns]",
      "text/html": "<div>\n<style scoped>\n    .dataframe tbody tr th:only-of-type {\n        vertical-align: middle;\n    }\n\n    .dataframe tbody tr th {\n        vertical-align: top;\n    }\n\n    .dataframe thead th {\n        text-align: right;\n    }\n</style>\n<table border=\"1\" class=\"dataframe\">\n  <thead>\n    <tr style=\"text-align: right;\">\n      <th></th>\n      <th>Unnamed: 0</th>\n      <th>country</th>\n      <th>year</th>\n      <th>cement_co2_per_capita</th>\n      <th>coal_co2_per_capita</th>\n      <th>flaring_co2_per_capita</th>\n      <th>gas_co2_per_capita</th>\n      <th>oil_co2_per_capita</th>\n      <th>consumption_co2_per_capita</th>\n      <th>PM2.5 air pollution - mean annual exposure (micrograms per cubic meter)</th>\n      <th>Deaths - Cause: All causes - Risk: Outdoor air pollution - OWID - Sex: Both - Age: All Ages (Number)</th>\n      <th>rate Deaths - Cause: All causes - Risk: Outdoor air pollution - OWID - Sex: Both - Age: All Ages (Number)</th>\n      <th>category</th>\n    </tr>\n  </thead>\n  <tbody>\n    <tr>\n      <th>0</th>\n      <td>0</td>\n      <td>0</td>\n      <td>1990</td>\n      <td>0.036</td>\n      <td>0.472</td>\n      <td>0.033</td>\n      <td>0.121</td>\n      <td>0.390</td>\n      <td>0.728</td>\n      <td>46.719096</td>\n      <td>169060</td>\n      <td>26.820034</td>\n      <td>Africa</td>\n    </tr>\n    <tr>\n      <th>1</th>\n      <td>1</td>\n      <td>0</td>\n      <td>1991</td>\n      <td>0.038</td>\n      <td>0.475</td>\n      <td>0.032</td>\n      <td>0.122</td>\n      <td>0.401</td>\n      <td>0.738</td>\n      <td>46.530559</td>\n      <td>173284</td>\n      <td>26.768455</td>\n      <td>Africa</td>\n    </tr>\n    <tr>\n      <th>2</th>\n      <td>2</td>\n      <td>0</td>\n      <td>1992</td>\n      <td>0.038</td>\n      <td>0.436</td>\n      <td>0.035</td>\n      <td>0.112</td>\n      <td>0.389</td>\n      <td>0.733</td>\n      <td>46.342022</td>\n      <td>177903</td>\n      <td>26.771976</td>\n      <td>Africa</td>\n    </tr>\n    <tr>\n      <th>3</th>\n      <td>3</td>\n      <td>0</td>\n      <td>1993</td>\n      <td>0.036</td>\n      <td>0.469</td>\n      <td>0.032</td>\n      <td>0.120</td>\n      <td>0.386</td>\n      <td>0.737</td>\n      <td>46.153485</td>\n      <td>183152</td>\n      <td>26.860278</td>\n      <td>Africa</td>\n    </tr>\n    <tr>\n      <th>4</th>\n      <td>4</td>\n      <td>0</td>\n      <td>1994</td>\n      <td>0.036</td>\n      <td>0.473</td>\n      <td>0.031</td>\n      <td>0.122</td>\n      <td>0.367</td>\n      <td>0.722</td>\n      <td>45.964949</td>\n      <td>188664</td>\n      <td>26.973370</td>\n      <td>Africa</td>\n    </tr>\n    <tr>\n      <th>...</th>\n      <td>...</td>\n      <td>...</td>\n      <td>...</td>\n      <td>...</td>\n      <td>...</td>\n      <td>...</td>\n      <td>...</td>\n      <td>...</td>\n      <td>...</td>\n      <td>...</td>\n      <td>...</td>\n      <td>...</td>\n      <td>...</td>\n    </tr>\n    <tr>\n      <th>85</th>\n      <td>85</td>\n      <td>3</td>\n      <td>1991</td>\n      <td>0.122</td>\n      <td>4.540</td>\n      <td>0.134</td>\n      <td>2.908</td>\n      <td>6.060</td>\n      <td>13.581</td>\n      <td>9.528191</td>\n      <td>109722</td>\n      <td>25.359643</td>\n      <td>North America</td>\n    </tr>\n    <tr>\n      <th>86</th>\n      <td>86</td>\n      <td>3</td>\n      <td>1992</td>\n      <td>0.122</td>\n      <td>4.542</td>\n      <td>0.135</td>\n      <td>2.969</td>\n      <td>6.112</td>\n      <td>13.900</td>\n      <td>9.501610</td>\n      <td>109047</td>\n      <td>24.889542</td>\n      <td>North America</td>\n    </tr>\n    <tr>\n      <th>87</th>\n      <td>87</td>\n      <td>3</td>\n      <td>1993</td>\n      <td>0.126</td>\n      <td>4.605</td>\n      <td>0.134</td>\n      <td>3.006</td>\n      <td>6.079</td>\n      <td>13.847</td>\n      <td>9.475030</td>\n      <td>111159</td>\n      <td>25.055436</td>\n      <td>North America</td>\n    </tr>\n    <tr>\n      <th>88</th>\n      <td>88</td>\n      <td>3</td>\n      <td>1994</td>\n      <td>0.134</td>\n      <td>4.588</td>\n      <td>0.134</td>\n      <td>3.041</td>\n      <td>6.154</td>\n      <td>13.946</td>\n      <td>9.448450</td>\n      <td>111941</td>\n      <td>24.913506</td>\n      <td>North America</td>\n    </tr>\n    <tr>\n      <th>89</th>\n      <td>89</td>\n      <td>3</td>\n      <td>1995</td>\n      <td>0.130</td>\n      <td>4.585</td>\n      <td>0.133</td>\n      <td>3.125</td>\n      <td>6.028</td>\n      <td>13.838</td>\n      <td>9.421870</td>\n      <td>112758</td>\n      <td>24.773099</td>\n      <td>North America</td>\n    </tr>\n  </tbody>\n</table>\n<p>90 rows × 13 columns</p>\n</div>"
     },
     "execution_count": 5,
     "metadata": {},
     "output_type": "execute_result"
    }
   ],
   "source": [
    "# Convert the country names to a digit (0, 1, 2) for each class.\n",
    "df['country'] = pd.factorize(df['country'])[0]\n",
    "df.head(90)"
   ]
  },
  {
   "cell_type": "markdown",
   "metadata": {
    "id": "RoOU-FXqs-Go"
   },
   "source": [
    "Let's now split the entire dataset into a training and testing set."
   ]
  },
  {
   "cell_type": "code",
   "execution_count": 6,
   "metadata": {
    "colab": {
     "base_uri": "https://localhost:8080/"
    },
    "id": "xJwx78dgtAlt",
    "outputId": "9774e17d-d9da-4e4f-b80a-9e9caf3229e4"
   },
   "outputs": [
    {
     "name": "stdout",
     "output_type": "stream",
     "text": [
      "Length of train data: 82\n",
      "Length of test data : 30\n"
     ]
    }
   ],
   "source": [
    "df['is_train'] = np.random.uniform(0, 1, len(df)) <= 0.75\n",
    "df.head()\n",
    "\n",
    "train_df = df[df['is_train']]\n",
    "test_df  = df[~df['is_train']]\n",
    "\n",
    "print('Length of train data:', len(train_df))\n",
    "print('Length of test data :', len(test_df))"
   ]
  },
  {
   "cell_type": "markdown",
   "metadata": {
    "id": "UXHD_5GmubMV"
   },
   "source": [
    "Let's now construct the features (input to Decision Tree) and the classes (target of the Decision Tree)."
   ]
  },
  {
   "cell_type": "code",
   "execution_count": 7,
   "metadata": {
    "colab": {
     "base_uri": "https://localhost:8080/"
    },
    "id": "5keL8no4ucYR",
    "outputId": "4fd73c31-a512-44d7-84f6-e7b29e94fbaf"
   },
   "outputs": [
    {
     "data": {
      "text/plain": "Index(['cement_co2_per_capita', 'coal_co2_per_capita',\n       'flaring_co2_per_capita', 'gas_co2_per_capita', 'oil_co2_per_capita',\n       'consumption_co2_per_capita',\n       'PM2.5 air pollution - mean annual exposure (micrograms per cubic meter)'],\n      dtype='object')"
     },
     "execution_count": 7,
     "metadata": {},
     "output_type": "execute_result"
    }
   ],
   "source": [
    "features = df.columns[3:-4]\n",
    "features"
   ]
  },
  {
   "cell_type": "code",
   "execution_count": 8,
   "outputs": [],
   "source": [
    "#df['oil_co2'] = round(df['oil_co2'])\n",
    "#print(df['oil_co2'])"
   ],
   "metadata": {
    "collapsed": false,
    "pycharm": {
     "name": "#%%\n"
    }
   }
  },
  {
   "cell_type": "code",
   "execution_count": 21,
   "metadata": {
    "colab": {
     "base_uri": "https://localhost:8080/",
     "height": 37
    },
    "id": "HGOKbApqujYT",
    "outputId": "e67ec56d-358b-4903-d77f-6e1133e55ed6"
   },
   "outputs": [
    {
     "data": {
      "text/plain": "'rate Deaths - Cause: All causes - Risk: Outdoor air pollution - OWID - Sex: Both - Age: All Ages (Number)'"
     },
     "execution_count": 21,
     "metadata": {},
     "output_type": "execute_result"
    }
   ],
   "source": [
    "targets  = df.columns[-3]\n",
    "targets\n",
    "#print(df['oil_co2'])"
   ]
  },
  {
   "cell_type": "markdown",
   "metadata": {
    "id": "m0KHYiiJuriS"
   },
   "source": [
    "We can construct a Decision Tree object and train it."
   ]
  },
  {
   "cell_type": "code",
   "execution_count": 22,
   "metadata": {},
   "outputs": [],
   "source": [
    "#df = pd.DataFrame(df)\n"
   ]
  },
  {
   "cell_type": "code",
   "execution_count": 23,
   "metadata": {},
   "outputs": [],
   "source": [
    "#df.values.tolist() # as list"
   ]
  },
  {
   "cell_type": "code",
   "execution_count": 24,
   "metadata": {
    "colab": {
     "base_uri": "https://localhost:8080/",
     "height": 324
    },
    "id": "19rkr_6wusq2",
    "outputId": "66e532cd-16f8-476d-b4fd-77df0780483f"
   },
   "outputs": [],
   "source": [
    "clf = DecisionTreeClassifier()\n"
   ]
  },
  {
   "cell_type": "code",
   "execution_count": 25,
   "metadata": {},
   "outputs": [],
   "source": [
    "# from sklearn import preprocessing\n",
    "# from sklearn import utils\n",
    "#\n",
    "# #convert y values to categorical values\n",
    "# lab = preprocessing.LabelEncoder()\n",
    "\n",
    "\n"
   ]
  },
  {
   "cell_type": "code",
   "execution_count": 26,
   "metadata": {},
   "outputs": [],
   "source": [
    "# from sklearn import preprocessing\n",
    "# label_encoder = preprocessing.LabelEncoder()\n",
    "# train_df = label_encoder.fit_transform(train_df)"
   ]
  },
  {
   "cell_type": "code",
   "execution_count": 26,
   "outputs": [],
   "source": [],
   "metadata": {
    "collapsed": false,
    "pycharm": {
     "name": "#%%\n"
    }
   }
  },
  {
   "cell_type": "code",
   "execution_count": 27,
   "metadata": {},
   "outputs": [
    {
     "ename": "ValueError",
     "evalue": "Unknown label type: 'continuous'",
     "output_type": "error",
     "traceback": [
      "\u001B[1;31m---------------------------------------------------------------------------\u001B[0m",
      "\u001B[1;31mValueError\u001B[0m                                Traceback (most recent call last)",
      "Input \u001B[1;32mIn [27]\u001B[0m, in \u001B[0;36m<cell line: 1>\u001B[1;34m()\u001B[0m\n\u001B[1;32m----> 1\u001B[0m \u001B[43mclf\u001B[49m\u001B[38;5;241;43m.\u001B[39;49m\u001B[43mfit\u001B[49m\u001B[43m(\u001B[49m\u001B[43mtrain_df\u001B[49m\u001B[43m[\u001B[49m\u001B[43mfeatures\u001B[49m\u001B[43m]\u001B[49m\u001B[43m,\u001B[49m\u001B[43m \u001B[49m\u001B[43mtrain_df\u001B[49m\u001B[43m[\u001B[49m\u001B[43mtargets\u001B[49m\u001B[43m]\u001B[49m\u001B[43m)\u001B[49m\n",
      "File \u001B[1;32m~\\AppData\\Local\\Programs\\Python\\Python39\\lib\\site-packages\\sklearn\\tree\\_classes.py:937\u001B[0m, in \u001B[0;36mDecisionTreeClassifier.fit\u001B[1;34m(self, X, y, sample_weight, check_input, X_idx_sorted)\u001B[0m\n\u001B[0;32m    899\u001B[0m \u001B[38;5;28;01mdef\u001B[39;00m \u001B[38;5;21mfit\u001B[39m(\n\u001B[0;32m    900\u001B[0m     \u001B[38;5;28mself\u001B[39m, X, y, sample_weight\u001B[38;5;241m=\u001B[39m\u001B[38;5;28;01mNone\u001B[39;00m, check_input\u001B[38;5;241m=\u001B[39m\u001B[38;5;28;01mTrue\u001B[39;00m, X_idx_sorted\u001B[38;5;241m=\u001B[39m\u001B[38;5;124m\"\u001B[39m\u001B[38;5;124mdeprecated\u001B[39m\u001B[38;5;124m\"\u001B[39m\n\u001B[0;32m    901\u001B[0m ):\n\u001B[0;32m    902\u001B[0m     \u001B[38;5;124;03m\"\"\"Build a decision tree classifier from the training set (X, y).\u001B[39;00m\n\u001B[0;32m    903\u001B[0m \n\u001B[0;32m    904\u001B[0m \u001B[38;5;124;03m    Parameters\u001B[39;00m\n\u001B[1;32m   (...)\u001B[0m\n\u001B[0;32m    934\u001B[0m \u001B[38;5;124;03m        Fitted estimator.\u001B[39;00m\n\u001B[0;32m    935\u001B[0m \u001B[38;5;124;03m    \"\"\"\u001B[39;00m\n\u001B[1;32m--> 937\u001B[0m     \u001B[38;5;28;43msuper\u001B[39;49m\u001B[43m(\u001B[49m\u001B[43m)\u001B[49m\u001B[38;5;241;43m.\u001B[39;49m\u001B[43mfit\u001B[49m\u001B[43m(\u001B[49m\n\u001B[0;32m    938\u001B[0m \u001B[43m        \u001B[49m\u001B[43mX\u001B[49m\u001B[43m,\u001B[49m\n\u001B[0;32m    939\u001B[0m \u001B[43m        \u001B[49m\u001B[43my\u001B[49m\u001B[43m,\u001B[49m\n\u001B[0;32m    940\u001B[0m \u001B[43m        \u001B[49m\u001B[43msample_weight\u001B[49m\u001B[38;5;241;43m=\u001B[39;49m\u001B[43msample_weight\u001B[49m\u001B[43m,\u001B[49m\n\u001B[0;32m    941\u001B[0m \u001B[43m        \u001B[49m\u001B[43mcheck_input\u001B[49m\u001B[38;5;241;43m=\u001B[39;49m\u001B[43mcheck_input\u001B[49m\u001B[43m,\u001B[49m\n\u001B[0;32m    942\u001B[0m \u001B[43m        \u001B[49m\u001B[43mX_idx_sorted\u001B[49m\u001B[38;5;241;43m=\u001B[39;49m\u001B[43mX_idx_sorted\u001B[49m\u001B[43m,\u001B[49m\n\u001B[0;32m    943\u001B[0m \u001B[43m    \u001B[49m\u001B[43m)\u001B[49m\n\u001B[0;32m    944\u001B[0m     \u001B[38;5;28;01mreturn\u001B[39;00m \u001B[38;5;28mself\u001B[39m\n",
      "File \u001B[1;32m~\\AppData\\Local\\Programs\\Python\\Python39\\lib\\site-packages\\sklearn\\tree\\_classes.py:203\u001B[0m, in \u001B[0;36mBaseDecisionTree.fit\u001B[1;34m(self, X, y, sample_weight, check_input, X_idx_sorted)\u001B[0m\n\u001B[0;32m    200\u001B[0m \u001B[38;5;28mself\u001B[39m\u001B[38;5;241m.\u001B[39mn_outputs_ \u001B[38;5;241m=\u001B[39m y\u001B[38;5;241m.\u001B[39mshape[\u001B[38;5;241m1\u001B[39m]\n\u001B[0;32m    202\u001B[0m \u001B[38;5;28;01mif\u001B[39;00m is_classification:\n\u001B[1;32m--> 203\u001B[0m     \u001B[43mcheck_classification_targets\u001B[49m\u001B[43m(\u001B[49m\u001B[43my\u001B[49m\u001B[43m)\u001B[49m\n\u001B[0;32m    204\u001B[0m     y \u001B[38;5;241m=\u001B[39m np\u001B[38;5;241m.\u001B[39mcopy(y)\n\u001B[0;32m    206\u001B[0m     \u001B[38;5;28mself\u001B[39m\u001B[38;5;241m.\u001B[39mclasses_ \u001B[38;5;241m=\u001B[39m []\n",
      "File \u001B[1;32m~\\AppData\\Local\\Programs\\Python\\Python39\\lib\\site-packages\\sklearn\\utils\\multiclass.py:197\u001B[0m, in \u001B[0;36mcheck_classification_targets\u001B[1;34m(y)\u001B[0m\n\u001B[0;32m    189\u001B[0m y_type \u001B[38;5;241m=\u001B[39m type_of_target(y)\n\u001B[0;32m    190\u001B[0m \u001B[38;5;28;01mif\u001B[39;00m y_type \u001B[38;5;129;01mnot\u001B[39;00m \u001B[38;5;129;01min\u001B[39;00m [\n\u001B[0;32m    191\u001B[0m     \u001B[38;5;124m\"\u001B[39m\u001B[38;5;124mbinary\u001B[39m\u001B[38;5;124m\"\u001B[39m,\n\u001B[0;32m    192\u001B[0m     \u001B[38;5;124m\"\u001B[39m\u001B[38;5;124mmulticlass\u001B[39m\u001B[38;5;124m\"\u001B[39m,\n\u001B[1;32m   (...)\u001B[0m\n\u001B[0;32m    195\u001B[0m     \u001B[38;5;124m\"\u001B[39m\u001B[38;5;124mmultilabel-sequences\u001B[39m\u001B[38;5;124m\"\u001B[39m,\n\u001B[0;32m    196\u001B[0m ]:\n\u001B[1;32m--> 197\u001B[0m     \u001B[38;5;28;01mraise\u001B[39;00m \u001B[38;5;167;01mValueError\u001B[39;00m(\u001B[38;5;124m\"\u001B[39m\u001B[38;5;124mUnknown label type: \u001B[39m\u001B[38;5;132;01m%r\u001B[39;00m\u001B[38;5;124m\"\u001B[39m \u001B[38;5;241m%\u001B[39m y_type)\n",
      "\u001B[1;31mValueError\u001B[0m: Unknown label type: 'continuous'"
     ]
    }
   ],
   "source": [
    "clf.fit(train_df[features], train_df[targets])\n"
   ]
  },
  {
   "cell_type": "markdown",
   "metadata": {
    "id": "fClzAm5u22Wh"
   },
   "source": [
    "Now let's use the trained model to predict the class of test samples. Often it is useful to also display the probabilities with which the algorithm classifies a given sample."
   ]
  },
  {
   "cell_type": "code",
   "execution_count": 28,
   "metadata": {
    "colab": {
     "base_uri": "https://localhost:8080/"
    },
    "id": "Ur4y3UjO2xaz",
    "outputId": "1fbe250f-d79c-4896-fb07-4137493a129f"
   },
   "outputs": [
    {
     "data": {
      "text/plain": "DecisionTreeClassifier()"
     },
     "execution_count": 28,
     "metadata": {},
     "output_type": "execute_result"
    }
   ],
   "source": [
    "DecisionTreeClassifier()"
   ]
  },
  {
   "cell_type": "code",
   "execution_count": 17,
   "metadata": {
    "colab": {
     "base_uri": "https://localhost:8080/",
     "height": 307
    },
    "id": "_3sWPC2X212p",
    "outputId": "55cf512c-ddc3-4c86-d5fc-556e0595693e"
   },
   "outputs": [
    {
     "data": {
      "text/plain": "array([[1., 0., 0., 0.],\n       [1., 0., 0., 0.],\n       [1., 0., 0., 0.],\n       [1., 0., 0., 0.],\n       [1., 0., 0., 0.],\n       [1., 0., 0., 0.],\n       [1., 0., 0., 0.],\n       [0., 1., 0., 0.],\n       [0., 1., 0., 0.],\n       [0., 1., 0., 0.],\n       [0., 1., 0., 0.],\n       [0., 1., 0., 0.],\n       [0., 1., 0., 0.],\n       [0., 0., 1., 0.],\n       [0., 0., 1., 0.],\n       [0., 0., 1., 0.],\n       [0., 0., 1., 0.],\n       [0., 0., 1., 0.],\n       [0., 0., 1., 0.],\n       [0., 0., 1., 0.],\n       [0., 0., 0., 1.],\n       [0., 0., 0., 1.],\n       [0., 0., 0., 1.],\n       [0., 0., 0., 1.],\n       [0., 0., 0., 1.],\n       [0., 0., 0., 1.],\n       [0., 0., 0., 1.],\n       [0., 0., 0., 1.],\n       [0., 0., 0., 1.],\n       [0., 0., 0., 1.]])"
     },
     "execution_count": 17,
     "metadata": {},
     "output_type": "execute_result"
    }
   ],
   "source": [
    "clf.predict_proba(test_df[features])\n"
   ]
  },
  {
   "cell_type": "markdown",
   "metadata": {
    "id": "r8676ghB7-HH"
   },
   "source": [
    "We can create a confusion matrix to show get a quick overview which classes are easy to predict and which ones are more difficult to distinguish."
   ]
  },
  {
   "cell_type": "code",
   "execution_count": 18,
   "metadata": {
    "colab": {
     "base_uri": "https://localhost:8080/",
     "height": 375
    },
    "id": "HZ3w6GV93YeY",
    "outputId": "61970bae-f5c6-46b0-b768-6a5e35fc8a2e"
   },
   "outputs": [
    {
     "data": {
      "text/plain": "Predicted Country  Africa  Asia  Europe  North America\nActual Country                                        \n0                       7     0       0              0\n1                       0     6       0              0\n2                       0     0       7              0\n3                       0     0       0             10",
      "text/html": "<div>\n<style scoped>\n    .dataframe tbody tr th:only-of-type {\n        vertical-align: middle;\n    }\n\n    .dataframe tbody tr th {\n        vertical-align: top;\n    }\n\n    .dataframe thead th {\n        text-align: right;\n    }\n</style>\n<table border=\"1\" class=\"dataframe\">\n  <thead>\n    <tr style=\"text-align: right;\">\n      <th>Predicted Country</th>\n      <th>Africa</th>\n      <th>Asia</th>\n      <th>Europe</th>\n      <th>North America</th>\n    </tr>\n    <tr>\n      <th>Actual Country</th>\n      <th></th>\n      <th></th>\n      <th></th>\n      <th></th>\n    </tr>\n  </thead>\n  <tbody>\n    <tr>\n      <th>0</th>\n      <td>7</td>\n      <td>0</td>\n      <td>0</td>\n      <td>0</td>\n    </tr>\n    <tr>\n      <th>1</th>\n      <td>0</td>\n      <td>6</td>\n      <td>0</td>\n      <td>0</td>\n    </tr>\n    <tr>\n      <th>2</th>\n      <td>0</td>\n      <td>0</td>\n      <td>7</td>\n      <td>0</td>\n    </tr>\n    <tr>\n      <th>3</th>\n      <td>0</td>\n      <td>0</td>\n      <td>0</td>\n      <td>10</td>\n    </tr>\n  </tbody>\n</table>\n</div>"
     },
     "execution_count": 18,
     "metadata": {},
     "output_type": "execute_result"
    }
   ],
   "source": [
    "predict_proba = clf.predict(test_df[features])\n",
    "pd.crosstab(test_df['country'],\n",
    "            predict_proba,\n",
    "            rownames=['Actual Country'], \n",
    "            colnames=['Predicted Country'])"
   ]
  },
  {
   "cell_type": "markdown",
   "metadata": {
    "id": "F4wYSbVJ9itn"
   },
   "source": [
    "Finally we can inspect which features are most important in the classification by reading out the feature importances."
   ]
  },
  {
   "cell_type": "code",
   "execution_count": 19,
   "metadata": {
    "colab": {
     "base_uri": "https://localhost:8080/",
     "height": 351
    },
    "id": "sei71BNO9zGU",
    "outputId": "61a0f5c2-ebde-4584-b869-3cdf5a9aa3a5"
   },
   "outputs": [
    {
     "data": {
      "text/plain": "                                                    rate Deaths - Cause: All causes - Risk: Outdoor air pollution - OWID - Sex: Both - Age: All Ages (Number)\nPM2.5 air pollution - mean annual exposure (mic...                                           0.344354                                                        \noil_co2_per_capita                                                                           0.339885                                                        \ngas_co2_per_capita                                                                           0.315761                                                        \ncement_co2_per_capita                                                                        0.000000                                                        \ncoal_co2_per_capita                                                                          0.000000                                                        \nflaring_co2_per_capita                                                                       0.000000                                                        \nconsumption_co2_per_capita                                                                   0.000000                                                        ",
      "text/html": "<div>\n<style scoped>\n    .dataframe tbody tr th:only-of-type {\n        vertical-align: middle;\n    }\n\n    .dataframe tbody tr th {\n        vertical-align: top;\n    }\n\n    .dataframe thead th {\n        text-align: right;\n    }\n</style>\n<table border=\"1\" class=\"dataframe\">\n  <thead>\n    <tr style=\"text-align: right;\">\n      <th></th>\n      <th>rate Deaths - Cause: All causes - Risk: Outdoor air pollution - OWID - Sex: Both - Age: All Ages (Number)</th>\n    </tr>\n  </thead>\n  <tbody>\n    <tr>\n      <th>PM2.5 air pollution - mean annual exposure (micrograms per cubic meter)</th>\n      <td>0.344354</td>\n    </tr>\n    <tr>\n      <th>oil_co2_per_capita</th>\n      <td>0.339885</td>\n    </tr>\n    <tr>\n      <th>gas_co2_per_capita</th>\n      <td>0.315761</td>\n    </tr>\n    <tr>\n      <th>cement_co2_per_capita</th>\n      <td>0.000000</td>\n    </tr>\n    <tr>\n      <th>coal_co2_per_capita</th>\n      <td>0.000000</td>\n    </tr>\n    <tr>\n      <th>flaring_co2_per_capita</th>\n      <td>0.000000</td>\n    </tr>\n    <tr>\n      <th>consumption_co2_per_capita</th>\n      <td>0.000000</td>\n    </tr>\n  </tbody>\n</table>\n</div>"
     },
     "execution_count": 19,
     "metadata": {},
     "output_type": "execute_result"
    }
   ],
   "source": [
    "fi = pd.DataFrame(clf.feature_importances_,\n",
    "                  index=df.columns[3:-4],\n",
    "                  columns=['rate Deaths - Cause: All causes - Risk: Outdoor air pollution - OWID - Sex: Both - Age: All Ages (Number)'])\n",
    "fi_sorted = fi.sort_values('rate Deaths - Cause: All causes - Risk: Outdoor air pollution - OWID - Sex: Both - Age: All Ages (Number)', ascending=False)\n",
    "fi_sorted\n",
    "\n",
    "# AttributeError: 'DecisionTreeClassifier' object has no attribute 'tree_'"
   ]
  },
  {
   "cell_type": "code",
   "execution_count": 20,
   "metadata": {
    "id": "gwvReifS-Ozb"
   },
   "outputs": [
    {
     "data": {
      "text/plain": "<Figure size 432x288 with 1 Axes>",
      "image/png": "[encoded data removed]"
     },
     "metadata": {
      "needs_background": "light"
     },
     "output_type": "display_data"
    }
   ],
   "source": [
    "from matplotlib.pylab import rcParams\n",
    "rcParams['figure.figsize'] = 80,50\n",
    "tree_fig = plot_tree(clf, filled=True)"
   ]
  },
  {
   "cell_type": "code",
   "execution_count": 20,
   "metadata": {
    "id": "d3l7uQbu-pSN"
   },
   "outputs": [],
   "source": []
  }
 ],
 "metadata": {
  "colab": {
   "collapsed_sections": [],
   "name": "Untitled1.ipynb",
   "provenance": []
  },
  "kernelspec": {
   "display_name": "Python 3",
   "name": "python3"
  },
  "language_info": {
   "codemirror_mode": {
    "name": "ipython",
    "version": 3
   },
   "file_extension": ".py",
   "mimetype": "text/x-python",
   "name": "python",
   "nbconvert_exporter": "python",
   "pygments_lexer": "ipython3",
   "version": "3.9.7"
  }
 },
 "nbformat": 4,
 "nbformat_minor": 0
}