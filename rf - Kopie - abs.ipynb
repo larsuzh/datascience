{
 "cells": [
  {
   "cell_type": "markdown",
   "metadata": {
    "id": "NQwnmyd-rU53"
   },
   "source": [
    "**Random Forrest for Project*"
   ]
  },
  {
   "cell_type": "code",
   "execution_count": 1,
   "metadata": {
    "id": "h7Ejw7UNqpGK"
   },
   "outputs": [],
   "source": [
    "# Load all dependencies and the data\n",
    "import numpy as np\n",
    "import matplotlib.pyplot as plt\n",
    "import pandas as pd\n",
    "from sklearn.datasets import load_iris\n",
    "from sklearn.tree import DecisionTreeClassifier, plot_tree"
   ]
  },
  {
   "cell_type": "code",
   "execution_count": 2,
   "metadata": {
    "id": "sttaOcMZrmg5"
   },
   "outputs": [],
   "source": [
    "# Add a new column with the country names.\n",
    "# This is what we are going to try to predict.\n",
    "# data['country'] = pd.Categorical.from_codes(country, country_names)\n",
    "    #error\n"
   ]
  },
  {
   "cell_type": "code",
   "execution_count": 3,
   "outputs": [
    {
     "data": {
      "text/plain": "Index(['Unnamed: 0', 'country', 'year', 'cement_co2', 'coal_co2',\n       'flaring_co2', 'gas_co2', 'oil_co2', 'consumption_co2',\n       'PM2.5 air pollution - mean annual exposure (micrograms per cubic meter)',\n       'Deaths - Cause: All causes - Risk: Outdoor air pollution - OWID - Sex: Both - Age: All Ages (Number)',\n       'rate Deaths - Cause: All causes - Risk: Outdoor air pollution - OWID - Sex: Both - Age: All Ages (Number)',\n       'category'],\n      dtype='object')"
     },
     "execution_count": 3,
     "metadata": {},
     "output_type": "execute_result"
    }
   ],
   "source": [
    "df = pd.read_csv('additional_co2_abs.csv')\n",
    "df = df.dropna(how='any',axis=1)\n",
    "df.columns"
   ],
   "metadata": {
    "collapsed": false,
    "pycharm": {
     "name": "#%%\n"
    }
   }
  },
  {
   "cell_type": "code",
   "execution_count": 4,
   "outputs": [
    {
     "data": {
      "text/plain": "       Unnamed: 0         year   cement_co2      coal_co2  flaring_co2  \\\ncount  112.000000   112.000000   112.000000    112.000000   112.000000   \nmean    55.500000  2003.500000   229.106554   2754.142286    65.588536   \nstd     32.475632     8.114052   310.365680   2699.787083    22.661605   \nmin      0.000000  1990.000000    22.801000    288.587000    20.795000   \n25%     27.750000  1996.750000    59.689750   1214.493250    57.180250   \n50%     55.500000  2003.500000    92.848500   2031.205500    63.492500   \n75%     83.250000  2010.250000   176.114500   3056.984500    72.084500   \nmax    111.000000  2017.000000  1195.419000  10719.039000   163.145000   \n\n           gas_co2      oil_co2  consumption_co2  \\\ncount   112.000000   112.000000       112.000000   \nmean   1259.666768  2255.310259      6432.388321   \nstd     737.785063  1245.797496      4353.021258   \nmin      74.273000   243.984000       456.070000   \n25%     557.150750  1559.589500      4626.873750   \n50%    1512.642500  2586.926000      6659.371500   \n75%    1795.707750  3026.813500      7656.375250   \nmax    2762.551000  4638.977000     18223.134000   \n\n       PM2.5 air pollution - mean annual exposure (micrograms per cubic meter)  \\\ncount                                         112.000000                         \nmean                                           30.016055                         \nstd                                            17.674516                         \nmin                                             7.311075                         \n25%                                            12.481460                         \n50%                                            29.751709                         \n75%                                            47.833125                         \nmax                                            54.520674                         \n\n       Deaths - Cause: All causes - Risk: Outdoor air pollution - OWID - Sex: Both - Age: All Ages (Number)  \\\ncount                                       1.120000e+02                                                      \nmean                                        7.634137e+05                                                      \nstd                                         8.843183e+05                                                      \nmin                                         6.226000e+04                                                      \n25%                                         1.549845e+05                                                      \n50%                                         3.869815e+05                                                      \n75%                                         7.981218e+05                                                      \nmax                                         3.235892e+06                                                      \n\n       rate Deaths - Cause: All causes - Risk: Outdoor air pollution - OWID - Sex: Both - Age: All Ages (Number)  \ncount                                         112.000000                                                          \nmean                                           43.988674                                                          \nstd                                            22.995875                                                          \nmin                                            10.760773                                                          \n25%                                            26.532683                                                          \n50%                                            35.333365                                                          \n75%                                            65.485827                                                          \nmax                                            88.131229                                                          ",
      "text/html": "<div>\n<style scoped>\n    .dataframe tbody tr th:only-of-type {\n        vertical-align: middle;\n    }\n\n    .dataframe tbody tr th {\n        vertical-align: top;\n    }\n\n    .dataframe thead th {\n        text-align: right;\n    }\n</style>\n<table border=\"1\" class=\"dataframe\">\n  <thead>\n    <tr style=\"text-align: right;\">\n      <th></th>\n      <th>Unnamed: 0</th>\n      <th>year</th>\n      <th>cement_co2</th>\n      <th>coal_co2</th>\n      <th>flaring_co2</th>\n      <th>gas_co2</th>\n      <th>oil_co2</th>\n      <th>consumption_co2</th>\n      <th>PM2.5 air pollution - mean annual exposure (micrograms per cubic meter)</th>\n      <th>Deaths - Cause: All causes - Risk: Outdoor air pollution - OWID - Sex: Both - Age: All Ages (Number)</th>\n      <th>rate Deaths - Cause: All causes - Risk: Outdoor air pollution - OWID - Sex: Both - Age: All Ages (Number)</th>\n    </tr>\n  </thead>\n  <tbody>\n    <tr>\n      <th>count</th>\n      <td>112.000000</td>\n      <td>112.000000</td>\n      <td>112.000000</td>\n      <td>112.000000</td>\n      <td>112.000000</td>\n      <td>112.000000</td>\n      <td>112.000000</td>\n      <td>112.000000</td>\n      <td>112.000000</td>\n      <td>1.120000e+02</td>\n      <td>112.000000</td>\n    </tr>\n    <tr>\n      <th>mean</th>\n      <td>55.500000</td>\n      <td>2003.500000</td>\n      <td>229.106554</td>\n      <td>2754.142286</td>\n      <td>65.588536</td>\n      <td>1259.666768</td>\n      <td>2255.310259</td>\n      <td>6432.388321</td>\n      <td>30.016055</td>\n      <td>7.634137e+05</td>\n      <td>43.988674</td>\n    </tr>\n    <tr>\n      <th>std</th>\n      <td>32.475632</td>\n      <td>8.114052</td>\n      <td>310.365680</td>\n      <td>2699.787083</td>\n      <td>22.661605</td>\n      <td>737.785063</td>\n      <td>1245.797496</td>\n      <td>4353.021258</td>\n      <td>17.674516</td>\n      <td>8.843183e+05</td>\n      <td>22.995875</td>\n    </tr>\n    <tr>\n      <th>min</th>\n      <td>0.000000</td>\n      <td>1990.000000</td>\n      <td>22.801000</td>\n      <td>288.587000</td>\n      <td>20.795000</td>\n      <td>74.273000</td>\n      <td>243.984000</td>\n      <td>456.070000</td>\n      <td>7.311075</td>\n      <td>6.226000e+04</td>\n      <td>10.760773</td>\n    </tr>\n    <tr>\n      <th>25%</th>\n      <td>27.750000</td>\n      <td>1996.750000</td>\n      <td>59.689750</td>\n      <td>1214.493250</td>\n      <td>57.180250</td>\n      <td>557.150750</td>\n      <td>1559.589500</td>\n      <td>4626.873750</td>\n      <td>12.481460</td>\n      <td>1.549845e+05</td>\n      <td>26.532683</td>\n    </tr>\n    <tr>\n      <th>50%</th>\n      <td>55.500000</td>\n      <td>2003.500000</td>\n      <td>92.848500</td>\n      <td>2031.205500</td>\n      <td>63.492500</td>\n      <td>1512.642500</td>\n      <td>2586.926000</td>\n      <td>6659.371500</td>\n      <td>29.751709</td>\n      <td>3.869815e+05</td>\n      <td>35.333365</td>\n    </tr>\n    <tr>\n      <th>75%</th>\n      <td>83.250000</td>\n      <td>2010.250000</td>\n      <td>176.114500</td>\n      <td>3056.984500</td>\n      <td>72.084500</td>\n      <td>1795.707750</td>\n      <td>3026.813500</td>\n      <td>7656.375250</td>\n      <td>47.833125</td>\n      <td>7.981218e+05</td>\n      <td>65.485827</td>\n    </tr>\n    <tr>\n      <th>max</th>\n      <td>111.000000</td>\n      <td>2017.000000</td>\n      <td>1195.419000</td>\n      <td>10719.039000</td>\n      <td>163.145000</td>\n      <td>2762.551000</td>\n      <td>4638.977000</td>\n      <td>18223.134000</td>\n      <td>54.520674</td>\n      <td>3.235892e+06</td>\n      <td>88.131229</td>\n    </tr>\n  </tbody>\n</table>\n</div>"
     },
     "execution_count": 4,
     "metadata": {},
     "output_type": "execute_result"
    }
   ],
   "source": [
    "df.describe()"
   ],
   "metadata": {
    "collapsed": false,
    "pycharm": {
     "name": "#%%\n"
    }
   }
  },
  {
   "cell_type": "code",
   "execution_count": 5,
   "outputs": [],
   "source": [
    "def round_5(x, base=198352):\n",
    "    return base * round(x/base)\n",
    "df['Deaths - Cause: All causes - Risk: Outdoor air pollution - OWID - Sex: Both - Age: All Ages (Number)'] = round_5(df['Deaths - Cause: All causes - Risk: Outdoor air pollution - OWID - Sex: Both - Age: All Ages (Number)'], base=5)\n",
    "\n",
    "df['rate Deaths - Cause: All causes - Risk: Outdoor air pollution - OWID - Sex: Both - Age: All Ages (Number)'] = round_5(df['rate Deaths - Cause: All causes - Risk: Outdoor air pollution - OWID - Sex: Both - Age: All Ages (Number)'], base=5)"
   ],
   "metadata": {
    "collapsed": false,
    "pycharm": {
     "name": "#%%\n"
    }
   }
  },
  {
   "cell_type": "code",
   "execution_count": 6,
   "outputs": [
    {
     "data": {
      "text/plain": "   Unnamed: 0 country  year  cement_co2  coal_co2  flaring_co2  gas_co2  \\\n0           0  Africa  1990      22.801   295.760       20.795   75.954   \n1           1  Africa  1991      24.426   306.508       20.799   78.466   \n2           2  Africa  1992      24.904   288.587       23.351   74.273   \n3           3  Africa  1993      24.609   318.855       21.790   81.722   \n4           4  Africa  1994      25.111   330.702       21.797   85.588   \n\n   oil_co2  consumption_co2  \\\n0  243.984          456.070   \n1  258.828          475.983   \n2  257.562          485.220   \n3  261.882          500.671   \n4  256.425          504.509   \n\n   PM2.5 air pollution - mean annual exposure (micrograms per cubic meter)  \\\n0                                          46.719096                         \n1                                          46.530559                         \n2                                          46.342022                         \n3                                          46.153485                         \n4                                          45.964949                         \n\n   Deaths - Cause: All causes - Risk: Outdoor air pollution - OWID - Sex: Both - Age: All Ages (Number)  \\\n0                                           169060.0                                                      \n1                                           173285.0                                                      \n2                                           177905.0                                                      \n3                                           183150.0                                                      \n4                                           188665.0                                                      \n\n   rate Deaths - Cause: All causes - Risk: Outdoor air pollution - OWID - Sex: Both - Age: All Ages (Number)  \\\n0                                               25.0                                                           \n1                                               25.0                                                           \n2                                               25.0                                                           \n3                                               25.0                                                           \n4                                               25.0                                                           \n\n  category  \n0   Africa  \n1   Africa  \n2   Africa  \n3   Africa  \n4   Africa  ",
      "text/html": "<div>\n<style scoped>\n    .dataframe tbody tr th:only-of-type {\n        vertical-align: middle;\n    }\n\n    .dataframe tbody tr th {\n        vertical-align: top;\n    }\n\n    .dataframe thead th {\n        text-align: right;\n    }\n</style>\n<table border=\"1\" class=\"dataframe\">\n  <thead>\n    <tr style=\"text-align: right;\">\n      <th></th>\n      <th>Unnamed: 0</th>\n      <th>country</th>\n      <th>year</th>\n      <th>cement_co2</th>\n      <th>coal_co2</th>\n      <th>flaring_co2</th>\n      <th>gas_co2</th>\n      <th>oil_co2</th>\n      <th>consumption_co2</th>\n      <th>PM2.5 air pollution - mean annual exposure (micrograms per cubic meter)</th>\n      <th>Deaths - Cause: All causes - Risk: Outdoor air pollution - OWID - Sex: Both - Age: All Ages (Number)</th>\n      <th>rate Deaths - Cause: All causes - Risk: Outdoor air pollution - OWID - Sex: Both - Age: All Ages (Number)</th>\n      <th>category</th>\n    </tr>\n  </thead>\n  <tbody>\n    <tr>\n      <th>0</th>\n      <td>0</td>\n      <td>Africa</td>\n      <td>1990</td>\n      <td>22.801</td>\n      <td>295.760</td>\n      <td>20.795</td>\n      <td>75.954</td>\n      <td>243.984</td>\n      <td>456.070</td>\n      <td>46.719096</td>\n      <td>169060.0</td>\n      <td>25.0</td>\n      <td>Africa</td>\n    </tr>\n    <tr>\n      <th>1</th>\n      <td>1</td>\n      <td>Africa</td>\n      <td>1991</td>\n      <td>24.426</td>\n      <td>306.508</td>\n      <td>20.799</td>\n      <td>78.466</td>\n      <td>258.828</td>\n      <td>475.983</td>\n      <td>46.530559</td>\n      <td>173285.0</td>\n      <td>25.0</td>\n      <td>Africa</td>\n    </tr>\n    <tr>\n      <th>2</th>\n      <td>2</td>\n      <td>Africa</td>\n      <td>1992</td>\n      <td>24.904</td>\n      <td>288.587</td>\n      <td>23.351</td>\n      <td>74.273</td>\n      <td>257.562</td>\n      <td>485.220</td>\n      <td>46.342022</td>\n      <td>177905.0</td>\n      <td>25.0</td>\n      <td>Africa</td>\n    </tr>\n    <tr>\n      <th>3</th>\n      <td>3</td>\n      <td>Africa</td>\n      <td>1993</td>\n      <td>24.609</td>\n      <td>318.855</td>\n      <td>21.790</td>\n      <td>81.722</td>\n      <td>261.882</td>\n      <td>500.671</td>\n      <td>46.153485</td>\n      <td>183150.0</td>\n      <td>25.0</td>\n      <td>Africa</td>\n    </tr>\n    <tr>\n      <th>4</th>\n      <td>4</td>\n      <td>Africa</td>\n      <td>1994</td>\n      <td>25.111</td>\n      <td>330.702</td>\n      <td>21.797</td>\n      <td>85.588</td>\n      <td>256.425</td>\n      <td>504.509</td>\n      <td>45.964949</td>\n      <td>188665.0</td>\n      <td>25.0</td>\n      <td>Africa</td>\n    </tr>\n  </tbody>\n</table>\n</div>"
     },
     "execution_count": 6,
     "metadata": {},
     "output_type": "execute_result"
    }
   ],
   "source": [
    "df.head()"
   ],
   "metadata": {
    "collapsed": false,
    "pycharm": {
     "name": "#%%\n"
    }
   }
  },
  {
   "cell_type": "code",
   "execution_count": 7,
   "metadata": {},
   "outputs": [
    {
     "data": {
      "text/plain": "    Unnamed: 0  country  year  cement_co2  coal_co2  flaring_co2   gas_co2  \\\n0            0        0  1990      22.801   295.760       20.795    75.954   \n1            1        0  1991      24.426   306.508       20.799    78.466   \n2            2        0  1992      24.904   288.587       23.351    74.273   \n3            3        0  1993      24.609   318.855       21.790    81.722   \n4            4        0  1994      25.111   330.702       21.797    85.588   \n..         ...      ...   ...         ...       ...          ...       ...   \n85          85        3  1991      52.197  1948.180       57.573  1247.793   \n86          86        3  1992      52.877  1973.354       58.698  1290.184   \n87          87        3  1993      55.585  2026.203       59.008  1322.542   \n88          88        3  1994      59.479  2044.334       59.804  1354.945   \n89          89        3  1995      58.470  2069.683       59.948  1410.599   \n\n     oil_co2  consumption_co2  \\\n0    243.984          456.070   \n1    258.828          475.983   \n2    257.562          485.220   \n3    261.882          500.671   \n4    256.425          504.509   \n..       ...              ...   \n85  2600.055         5827.175   \n86  2655.655         6039.259   \n87  2674.693         6092.632   \n88  2742.213         6214.441   \n89  2721.424         6246.671   \n\n    PM2.5 air pollution - mean annual exposure (micrograms per cubic meter)  \\\n0                                           46.719096                         \n1                                           46.530559                         \n2                                           46.342022                         \n3                                           46.153485                         \n4                                           45.964949                         \n..                                                ...                         \n85                                           9.528191                         \n86                                           9.501610                         \n87                                           9.475030                         \n88                                           9.448450                         \n89                                           9.421870                         \n\n    Deaths - Cause: All causes - Risk: Outdoor air pollution - OWID - Sex: Both - Age: All Ages (Number)  \\\n0                                            169060.0                                                      \n1                                            173285.0                                                      \n2                                            177905.0                                                      \n3                                            183150.0                                                      \n4                                            188665.0                                                      \n..                                                ...                                                      \n85                                           109720.0                                                      \n86                                           109045.0                                                      \n87                                           111160.0                                                      \n88                                           111940.0                                                      \n89                                           112760.0                                                      \n\n    rate Deaths - Cause: All causes - Risk: Outdoor air pollution - OWID - Sex: Both - Age: All Ages (Number)  \\\n0                                                25.0                                                           \n1                                                25.0                                                           \n2                                                25.0                                                           \n3                                                25.0                                                           \n4                                                25.0                                                           \n..                                                ...                                                           \n85                                               25.0                                                           \n86                                               25.0                                                           \n87                                               25.0                                                           \n88                                               25.0                                                           \n89                                               25.0                                                           \n\n         category  \n0          Africa  \n1          Africa  \n2          Africa  \n3          Africa  \n4          Africa  \n..            ...  \n85  North America  \n86  North America  \n87  North America  \n88  North America  \n89  North America  \n\n[90 rows x 13 columns]",
      "text/html": "<div>\n<style scoped>\n    .dataframe tbody tr th:only-of-type {\n        vertical-align: middle;\n    }\n\n    .dataframe tbody tr th {\n        vertical-align: top;\n    }\n\n    .dataframe thead th {\n        text-align: right;\n    }\n</style>\n<table border=\"1\" class=\"dataframe\">\n  <thead>\n    <tr style=\"text-align: right;\">\n      <th></th>\n      <th>Unnamed: 0</th>\n      <th>country</th>\n      <th>year</th>\n      <th>cement_co2</th>\n      <th>coal_co2</th>\n      <th>flaring_co2</th>\n      <th>gas_co2</th>\n      <th>oil_co2</th>\n      <th>consumption_co2</th>\n      <th>PM2.5 air pollution - mean annual exposure (micrograms per cubic meter)</th>\n      <th>Deaths - Cause: All causes - Risk: Outdoor air pollution - OWID - Sex: Both - Age: All Ages (Number)</th>\n      <th>rate Deaths - Cause: All causes - Risk: Outdoor air pollution - OWID - Sex: Both - Age: All Ages (Number)</th>\n      <th>category</th>\n    </tr>\n  </thead>\n  <tbody>\n    <tr>\n      <th>0</th>\n      <td>0</td>\n      <td>0</td>\n      <td>1990</td>\n      <td>22.801</td>\n      <td>295.760</td>\n      <td>20.795</td>\n      <td>75.954</td>\n      <td>243.984</td>\n      <td>456.070</td>\n      <td>46.719096</td>\n      <td>169060.0</td>\n      <td>25.0</td>\n      <td>Africa</td>\n    </tr>\n    <tr>\n      <th>1</th>\n      <td>1</td>\n      <td>0</td>\n      <td>1991</td>\n      <td>24.426</td>\n      <td>306.508</td>\n      <td>20.799</td>\n      <td>78.466</td>\n      <td>258.828</td>\n      <td>475.983</td>\n      <td>46.530559</td>\n      <td>173285.0</td>\n      <td>25.0</td>\n      <td>Africa</td>\n    </tr>\n    <tr>\n      <th>2</th>\n      <td>2</td>\n      <td>0</td>\n      <td>1992</td>\n      <td>24.904</td>\n      <td>288.587</td>\n      <td>23.351</td>\n      <td>74.273</td>\n      <td>257.562</td>\n      <td>485.220</td>\n      <td>46.342022</td>\n      <td>177905.0</td>\n      <td>25.0</td>\n      <td>Africa</td>\n    </tr>\n    <tr>\n      <th>3</th>\n      <td>3</td>\n      <td>0</td>\n      <td>1993</td>\n      <td>24.609</td>\n      <td>318.855</td>\n      <td>21.790</td>\n      <td>81.722</td>\n      <td>261.882</td>\n      <td>500.671</td>\n      <td>46.153485</td>\n      <td>183150.0</td>\n      <td>25.0</td>\n      <td>Africa</td>\n    </tr>\n    <tr>\n      <th>4</th>\n      <td>4</td>\n      <td>0</td>\n      <td>1994</td>\n      <td>25.111</td>\n      <td>330.702</td>\n      <td>21.797</td>\n      <td>85.588</td>\n      <td>256.425</td>\n      <td>504.509</td>\n      <td>45.964949</td>\n      <td>188665.0</td>\n      <td>25.0</td>\n      <td>Africa</td>\n    </tr>\n    <tr>\n      <th>...</th>\n      <td>...</td>\n      <td>...</td>\n      <td>...</td>\n      <td>...</td>\n      <td>...</td>\n      <td>...</td>\n      <td>...</td>\n      <td>...</td>\n      <td>...</td>\n      <td>...</td>\n      <td>...</td>\n      <td>...</td>\n      <td>...</td>\n    </tr>\n    <tr>\n      <th>85</th>\n      <td>85</td>\n      <td>3</td>\n      <td>1991</td>\n      <td>52.197</td>\n      <td>1948.180</td>\n      <td>57.573</td>\n      <td>1247.793</td>\n      <td>2600.055</td>\n      <td>5827.175</td>\n      <td>9.528191</td>\n      <td>109720.0</td>\n      <td>25.0</td>\n      <td>North America</td>\n    </tr>\n    <tr>\n      <th>86</th>\n      <td>86</td>\n      <td>3</td>\n      <td>1992</td>\n      <td>52.877</td>\n      <td>1973.354</td>\n      <td>58.698</td>\n      <td>1290.184</td>\n      <td>2655.655</td>\n      <td>6039.259</td>\n      <td>9.501610</td>\n      <td>109045.0</td>\n      <td>25.0</td>\n      <td>North America</td>\n    </tr>\n    <tr>\n      <th>87</th>\n      <td>87</td>\n      <td>3</td>\n      <td>1993</td>\n      <td>55.585</td>\n      <td>2026.203</td>\n      <td>59.008</td>\n      <td>1322.542</td>\n      <td>2674.693</td>\n      <td>6092.632</td>\n      <td>9.475030</td>\n      <td>111160.0</td>\n      <td>25.0</td>\n      <td>North America</td>\n    </tr>\n    <tr>\n      <th>88</th>\n      <td>88</td>\n      <td>3</td>\n      <td>1994</td>\n      <td>59.479</td>\n      <td>2044.334</td>\n      <td>59.804</td>\n      <td>1354.945</td>\n      <td>2742.213</td>\n      <td>6214.441</td>\n      <td>9.448450</td>\n      <td>111940.0</td>\n      <td>25.0</td>\n      <td>North America</td>\n    </tr>\n    <tr>\n      <th>89</th>\n      <td>89</td>\n      <td>3</td>\n      <td>1995</td>\n      <td>58.470</td>\n      <td>2069.683</td>\n      <td>59.948</td>\n      <td>1410.599</td>\n      <td>2721.424</td>\n      <td>6246.671</td>\n      <td>9.421870</td>\n      <td>112760.0</td>\n      <td>25.0</td>\n      <td>North America</td>\n    </tr>\n  </tbody>\n</table>\n<p>90 rows × 13 columns</p>\n</div>"
     },
     "execution_count": 7,
     "metadata": {},
     "output_type": "execute_result"
    }
   ],
   "source": [
    "# Convert the country names to a digit (0, 1, 2) for each class.\n",
    "df['country'] = pd.factorize(df['country'])[0]\n",
    "df.head(90)"
   ]
  },
  {
   "cell_type": "markdown",
   "metadata": {
    "id": "RoOU-FXqs-Go"
   },
   "source": [
    "Let's now split the entire dataset into a training and testing set."
   ]
  },
  {
   "cell_type": "code",
   "execution_count": 8,
   "metadata": {
    "colab": {
     "base_uri": "https://localhost:8080/"
    },
    "id": "xJwx78dgtAlt",
    "outputId": "9774e17d-d9da-4e4f-b80a-9e9caf3229e4"
   },
   "outputs": [
    {
     "name": "stdout",
     "output_type": "stream",
     "text": [
      "Length of train data: 84\n",
      "Length of test data : 28\n"
     ]
    }
   ],
   "source": [
    "df['is_train'] = np.random.uniform(0, 1, len(df)) <= 0.75\n",
    "df.head()\n",
    "\n",
    "train_df = df[df['is_train']]\n",
    "test_df  = df[~df['is_train']]\n",
    "\n",
    "print('Length of train data:', len(train_df))\n",
    "print('Length of test data :', len(test_df))"
   ]
  },
  {
   "cell_type": "markdown",
   "metadata": {
    "id": "UXHD_5GmubMV"
   },
   "source": [
    "Let's now construct the features (input to Decision Tree) and the classes (target of the Decision Tree)."
   ]
  },
  {
   "cell_type": "code",
   "execution_count": 9,
   "metadata": {
    "colab": {
     "base_uri": "https://localhost:8080/"
    },
    "id": "5keL8no4ucYR",
    "outputId": "4fd73c31-a512-44d7-84f6-e7b29e94fbaf"
   },
   "outputs": [
    {
     "data": {
      "text/plain": "Index(['cement_co2', 'coal_co2', 'flaring_co2', 'gas_co2', 'oil_co2',\n       'consumption_co2',\n       'PM2.5 air pollution - mean annual exposure (micrograms per cubic meter)'],\n      dtype='object')"
     },
     "execution_count": 9,
     "metadata": {},
     "output_type": "execute_result"
    }
   ],
   "source": [
    "features = df.columns[3:-4]\n",
    "features"
   ]
  },
  {
   "cell_type": "code",
   "execution_count": 10,
   "outputs": [],
   "source": [
    "#df['oil_co2'] = round(df['oil_co2'])\n",
    "#print(df['oil_co2'])"
   ],
   "metadata": {
    "collapsed": false,
    "pycharm": {
     "name": "#%%\n"
    }
   }
  },
  {
   "cell_type": "code",
   "execution_count": 11,
   "metadata": {
    "colab": {
     "base_uri": "https://localhost:8080/",
     "height": 37
    },
    "id": "HGOKbApqujYT",
    "outputId": "e67ec56d-358b-4903-d77f-6e1133e55ed6"
   },
   "outputs": [
    {
     "data": {
      "text/plain": "'Deaths - Cause: All causes - Risk: Outdoor air pollution - OWID - Sex: Both - Age: All Ages (Number)'"
     },
     "execution_count": 11,
     "metadata": {},
     "output_type": "execute_result"
    }
   ],
   "source": [
    "targets  = df.columns[-4]\n",
    "targets\n",
    "#print(df['oil_co2'])"
   ]
  },
  {
   "cell_type": "markdown",
   "metadata": {
    "id": "m0KHYiiJuriS"
   },
   "source": [
    "We can construct a Decision Tree object and train it."
   ]
  },
  {
   "cell_type": "code",
   "execution_count": 12,
   "metadata": {},
   "outputs": [],
   "source": [
    "#df = pd.DataFrame(df)\n"
   ]
  },
  {
   "cell_type": "code",
   "execution_count": 13,
   "metadata": {},
   "outputs": [],
   "source": [
    "#df.values.tolist() # as list"
   ]
  },
  {
   "cell_type": "code",
   "execution_count": 14,
   "metadata": {
    "colab": {
     "base_uri": "https://localhost:8080/",
     "height": 324
    },
    "id": "19rkr_6wusq2",
    "outputId": "66e532cd-16f8-476d-b4fd-77df0780483f"
   },
   "outputs": [],
   "source": [
    "clf = DecisionTreeClassifier()\n"
   ]
  },
  {
   "cell_type": "code",
   "execution_count": 15,
   "metadata": {},
   "outputs": [],
   "source": [
    "# from sklearn import preprocessing\n",
    "# from sklearn import utils\n",
    "#\n",
    "# #convert y values to categorical values\n",
    "# lab = preprocessing.LabelEncoder()\n",
    "\n",
    "\n"
   ]
  },
  {
   "cell_type": "code",
   "execution_count": 16,
   "metadata": {},
   "outputs": [],
   "source": [
    "# from sklearn import preprocessing\n",
    "# label_encoder = preprocessing.LabelEncoder()\n",
    "# train_df = label_encoder.fit_transform(train_df)"
   ]
  },
  {
   "cell_type": "code",
   "execution_count": 16,
   "outputs": [],
   "source": [],
   "metadata": {
    "collapsed": false,
    "pycharm": {
     "name": "#%%\n"
    }
   }
  },
  {
   "cell_type": "code",
   "execution_count": 17,
   "metadata": {},
   "outputs": [
    {
     "data": {
      "text/plain": "DecisionTreeClassifier()"
     },
     "execution_count": 17,
     "metadata": {},
     "output_type": "execute_result"
    }
   ],
   "source": [
    "clf.fit(train_df[features], train_df[targets])\n"
   ]
  },
  {
   "cell_type": "markdown",
   "metadata": {
    "id": "fClzAm5u22Wh"
   },
   "source": [
    "Now let's use the trained model to predict the class of test samples. Often it is useful to also display the probabilities with which the algorithm classifies a given sample."
   ]
  },
  {
   "cell_type": "code",
   "execution_count": 18,
   "metadata": {
    "colab": {
     "base_uri": "https://localhost:8080/"
    },
    "id": "Ur4y3UjO2xaz",
    "outputId": "1fbe250f-d79c-4896-fb07-4137493a129f"
   },
   "outputs": [
    {
     "data": {
      "text/plain": "DecisionTreeClassifier()"
     },
     "execution_count": 18,
     "metadata": {},
     "output_type": "execute_result"
    }
   ],
   "source": [
    "DecisionTreeClassifier()"
   ]
  },
  {
   "cell_type": "code",
   "execution_count": 19,
   "metadata": {
    "colab": {
     "base_uri": "https://localhost:8080/",
     "height": 307
    },
    "id": "_3sWPC2X212p",
    "outputId": "55cf512c-ddc3-4c86-d5fc-556e0595693e"
   },
   "outputs": [
    {
     "data": {
      "text/plain": "array([[0., 0., 0., ..., 0., 0., 0.],\n       [0., 0., 0., ..., 0., 0., 0.],\n       [0., 0., 0., ..., 0., 0., 0.],\n       ...,\n       [0., 0., 0., ..., 0., 0., 0.],\n       [0., 0., 0., ..., 0., 0., 0.],\n       [0., 0., 1., ..., 0., 0., 0.]])"
     },
     "execution_count": 19,
     "metadata": {},
     "output_type": "execute_result"
    }
   ],
   "source": [
    "clf.predict_proba(test_df[features])\n"
   ]
  },
  {
   "cell_type": "markdown",
   "metadata": {
    "id": "r8676ghB7-HH"
   },
   "source": [
    "We can create a confusion matrix to show get a quick overview which classes are easy to predict and which ones are more difficult to distinguish."
   ]
  },
  {
   "cell_type": "code",
   "execution_count": 20,
   "metadata": {
    "colab": {
     "base_uri": "https://localhost:8080/",
     "height": 375
    },
    "id": "HZ3w6GV93YeY",
    "outputId": "61970bae-f5c6-46b0-b768-6a5e35fc8a2e"
   },
   "outputs": [
    {
     "data": {
      "text/plain": "Predicted Country  66705.0    106490.0   109045.0   109735.0   111505.0   \\\nActual Country                                                             \n0                          0          0          0          0          0   \n1                          0          0          0          0          0   \n2                          0          0          0          0          0   \n3                          1          1          2          1          1   \n\nPredicted Country  111735.0   183150.0   198040.0   215795.0   240765.0   ...  \\\nActual Country                                                            ...   \n0                          0          1          1          1          1  ...   \n1                          0          0          0          0          0  ...   \n2                          0          0          0          0          0  ...   \n3                          2          0          0          0          0  ...   \n\nPredicted Country  463115.0   540055.0   605895.0   612800.0   1443560.0  \\\nActual Country                                                             \n0                          0          0          0          0          0   \n1                          0          0          0          0          1   \n2                          1          1          0          1          0   \n3                          0          0          1          0          0   \n\nPredicted Country  1487300.0  1847320.0  2118185.0  2343095.0  2976715.0  \nActual Country                                                            \n0                          0          0          0          0          0  \n1                          1          1          1          1          1  \n2                          0          0          0          0          0  \n3                          0          0          0          0          0  \n\n[4 rows x 25 columns]",
      "text/html": "<div>\n<style scoped>\n    .dataframe tbody tr th:only-of-type {\n        vertical-align: middle;\n    }\n\n    .dataframe tbody tr th {\n        vertical-align: top;\n    }\n\n    .dataframe thead th {\n        text-align: right;\n    }\n</style>\n<table border=\"1\" class=\"dataframe\">\n  <thead>\n    <tr style=\"text-align: right;\">\n      <th>Predicted Country</th>\n      <th>66705.0</th>\n      <th>106490.0</th>\n      <th>109045.0</th>\n      <th>109735.0</th>\n      <th>111505.0</th>\n      <th>111735.0</th>\n      <th>183150.0</th>\n      <th>198040.0</th>\n      <th>215795.0</th>\n      <th>240765.0</th>\n      <th>...</th>\n      <th>463115.0</th>\n      <th>540055.0</th>\n      <th>605895.0</th>\n      <th>612800.0</th>\n      <th>1443560.0</th>\n      <th>1487300.0</th>\n      <th>1847320.0</th>\n      <th>2118185.0</th>\n      <th>2343095.0</th>\n      <th>2976715.0</th>\n    </tr>\n    <tr>\n      <th>Actual Country</th>\n      <th></th>\n      <th></th>\n      <th></th>\n      <th></th>\n      <th></th>\n      <th></th>\n      <th></th>\n      <th></th>\n      <th></th>\n      <th></th>\n      <th></th>\n      <th></th>\n      <th></th>\n      <th></th>\n      <th></th>\n      <th></th>\n      <th></th>\n      <th></th>\n      <th></th>\n      <th></th>\n      <th></th>\n    </tr>\n  </thead>\n  <tbody>\n    <tr>\n      <th>0</th>\n      <td>0</td>\n      <td>0</td>\n      <td>0</td>\n      <td>0</td>\n      <td>0</td>\n      <td>0</td>\n      <td>1</td>\n      <td>1</td>\n      <td>1</td>\n      <td>1</td>\n      <td>...</td>\n      <td>0</td>\n      <td>0</td>\n      <td>0</td>\n      <td>0</td>\n      <td>0</td>\n      <td>0</td>\n      <td>0</td>\n      <td>0</td>\n      <td>0</td>\n      <td>0</td>\n    </tr>\n    <tr>\n      <th>1</th>\n      <td>0</td>\n      <td>0</td>\n      <td>0</td>\n      <td>0</td>\n      <td>0</td>\n      <td>0</td>\n      <td>0</td>\n      <td>0</td>\n      <td>0</td>\n      <td>0</td>\n      <td>...</td>\n      <td>0</td>\n      <td>0</td>\n      <td>0</td>\n      <td>0</td>\n      <td>1</td>\n      <td>1</td>\n      <td>1</td>\n      <td>1</td>\n      <td>1</td>\n      <td>1</td>\n    </tr>\n    <tr>\n      <th>2</th>\n      <td>0</td>\n      <td>0</td>\n      <td>0</td>\n      <td>0</td>\n      <td>0</td>\n      <td>0</td>\n      <td>0</td>\n      <td>0</td>\n      <td>0</td>\n      <td>0</td>\n      <td>...</td>\n      <td>1</td>\n      <td>1</td>\n      <td>0</td>\n      <td>1</td>\n      <td>0</td>\n      <td>0</td>\n      <td>0</td>\n      <td>0</td>\n      <td>0</td>\n      <td>0</td>\n    </tr>\n    <tr>\n      <th>3</th>\n      <td>1</td>\n      <td>1</td>\n      <td>2</td>\n      <td>1</td>\n      <td>1</td>\n      <td>2</td>\n      <td>0</td>\n      <td>0</td>\n      <td>0</td>\n      <td>0</td>\n      <td>...</td>\n      <td>0</td>\n      <td>0</td>\n      <td>1</td>\n      <td>0</td>\n      <td>0</td>\n      <td>0</td>\n      <td>0</td>\n      <td>0</td>\n      <td>0</td>\n      <td>0</td>\n    </tr>\n  </tbody>\n</table>\n<p>4 rows × 25 columns</p>\n</div>"
     },
     "execution_count": 20,
     "metadata": {},
     "output_type": "execute_result"
    }
   ],
   "source": [
    "predict_proba = clf.predict(test_df[features])\n",
    "pd.crosstab(test_df['country'],\n",
    "            predict_proba,\n",
    "            rownames=['Actual Country'], \n",
    "            colnames=['Predicted Country'])"
   ]
  },
  {
   "cell_type": "markdown",
   "metadata": {
    "id": "F4wYSbVJ9itn"
   },
   "source": [
    "Finally we can inspect which features are most important in the classification by reading out the feature importances."
   ]
  },
  {
   "cell_type": "code",
   "execution_count": 21,
   "metadata": {
    "colab": {
     "base_uri": "https://localhost:8080/",
     "height": 351
    },
    "id": "sei71BNO9zGU",
    "outputId": "61a0f5c2-ebde-4584-b869-3cdf5a9aa3a5"
   },
   "outputs": [
    {
     "data": {
      "text/plain": "                                                    Deaths - Cause: All causes - Risk: Outdoor air pollution - OWID - Sex: Both - Age: All Ages (Number)\nflaring_co2                                                                                  0.240964                                                   \ncement_co2                                                                                   0.180723                                                   \noil_co2                                                                                      0.144578                                                   \ncoal_co2                                                                                     0.132530                                                   \ngas_co2                                                                                      0.108434                                                   \nconsumption_co2                                                                              0.108434                                                   \nPM2.5 air pollution - mean annual exposure (mic...                                           0.084337                                                   ",
      "text/html": "<div>\n<style scoped>\n    .dataframe tbody tr th:only-of-type {\n        vertical-align: middle;\n    }\n\n    .dataframe tbody tr th {\n        vertical-align: top;\n    }\n\n    .dataframe thead th {\n        text-align: right;\n    }\n</style>\n<table border=\"1\" class=\"dataframe\">\n  <thead>\n    <tr style=\"text-align: right;\">\n      <th></th>\n      <th>Deaths - Cause: All causes - Risk: Outdoor air pollution - OWID - Sex: Both - Age: All Ages (Number)</th>\n    </tr>\n  </thead>\n  <tbody>\n    <tr>\n      <th>flaring_co2</th>\n      <td>0.240964</td>\n    </tr>\n    <tr>\n      <th>cement_co2</th>\n      <td>0.180723</td>\n    </tr>\n    <tr>\n      <th>oil_co2</th>\n      <td>0.144578</td>\n    </tr>\n    <tr>\n      <th>coal_co2</th>\n      <td>0.132530</td>\n    </tr>\n    <tr>\n      <th>gas_co2</th>\n      <td>0.108434</td>\n    </tr>\n    <tr>\n      <th>consumption_co2</th>\n      <td>0.108434</td>\n    </tr>\n    <tr>\n      <th>PM2.5 air pollution - mean annual exposure (micrograms per cubic meter)</th>\n      <td>0.084337</td>\n    </tr>\n  </tbody>\n</table>\n</div>"
     },
     "execution_count": 21,
     "metadata": {},
     "output_type": "execute_result"
    }
   ],
   "source": [
    "fi = pd.DataFrame(clf.feature_importances_,\n",
    "                  index=df.columns[3:-4],\n",
    "                  columns=['Deaths - Cause: All causes - Risk: Outdoor air pollution - OWID - Sex: Both - Age: All Ages (Number)'])\n",
    "fi_sorted = fi.sort_values('Deaths - Cause: All causes - Risk: Outdoor air pollution - OWID - Sex: Both - Age: All Ages (Number)', ascending=False)\n",
    "fi_sorted\n",
    "\n",
    "# AttributeError: 'DecisionTreeClassifier' object has no attribute 'tree_'"
   ]
  },
  {
   "cell_type": "code",
   "execution_count": 22,
   "metadata": {
    "id": "gwvReifS-Ozb"
   },
   "outputs": [
    {
     "data": {
      "text/plain": "<Figure size 432x288 with 1 Axes>",
      "image/png": "[encoded data removed]"
     },
     "metadata": {
      "needs_background": "light"
     },
     "output_type": "display_data"
    }
   ],
   "source": [
    "from matplotlib.pylab import rcParams\n",
    "rcParams['figure.figsize'] = 80,50\n",
    "tree_fig = plot_tree(clf, filled=True)"
   ]
  },
  {
   "cell_type": "code",
   "execution_count": 23,
   "metadata": {
    "id": "d3l7uQbu-pSN"
   },
   "outputs": [
    {
     "data": {
      "text/plain": "[Text(0.023255813953488372, 0.9940476190476191, 'X[4] <= 250.204\\ngini = 0.988\\nsamples = 84\\nvalue = [1, 1, 1, 1, 1, 1, 1, 1, 1, 1, 1, 1, 1, 1\\n1, 1, 1, 1, 1, 1, 1, 1, 1, 1, 1, 1, 1, 1\\n1, 1, 1, 1, 1, 1, 1, 1, 1, 1, 1, 1, 1, 1\\n1, 1, 1, 1, 1, 1, 1, 1, 1, 1, 1, 1, 1, 1\\n1, 1, 1, 1, 1, 1, 1, 1, 1, 1, 1, 1, 1, 1\\n1, 1, 1, 1, 1, 1, 1, 1, 1, 1, 1, 1, 1, 1]'),\n Text(0.011627906976744186, 0.9821428571428571, 'gini = 0.0\\nsamples = 1\\nvalue = [0, 0, 0, 0, 0, 0, 0, 0, 0, 0, 0, 0, 0, 0\\n0, 0, 0, 0, 0, 1, 0, 0, 0, 0, 0, 0, 0, 0\\n0, 0, 0, 0, 0, 0, 0, 0, 0, 0, 0, 0, 0, 0\\n0, 0, 0, 0, 0, 0, 0, 0, 0, 0, 0, 0, 0, 0\\n0, 0, 0, 0, 0, 0, 0, 0, 0, 0, 0, 0, 0, 0\\n0, 0, 0, 0, 0, 0, 0, 0, 0, 0, 0, 0, 0, 0]'),\n Text(0.03488372093023256, 0.9821428571428571, 'X[2] <= 21.794\\ngini = 0.988\\nsamples = 83\\nvalue = [1, 1, 1, 1, 1, 1, 1, 1, 1, 1, 1, 1, 1, 1\\n1, 1, 1, 1, 1, 0, 1, 1, 1, 1, 1, 1, 1, 1\\n1, 1, 1, 1, 1, 1, 1, 1, 1, 1, 1, 1, 1, 1\\n1, 1, 1, 1, 1, 1, 1, 1, 1, 1, 1, 1, 1, 1\\n1, 1, 1, 1, 1, 1, 1, 1, 1, 1, 1, 1, 1, 1\\n1, 1, 1, 1, 1, 1, 1, 1, 1, 1, 1, 1, 1, 1]'),\n Text(0.023255813953488372, 0.9702380952380952, 'gini = 0.0\\nsamples = 1\\nvalue = [0, 0, 0, 0, 0, 0, 0, 0, 0, 0, 0, 0, 0, 0\\n0, 0, 0, 0, 0, 0, 0, 1, 0, 0, 0, 0, 0, 0\\n0, 0, 0, 0, 0, 0, 0, 0, 0, 0, 0, 0, 0, 0\\n0, 0, 0, 0, 0, 0, 0, 0, 0, 0, 0, 0, 0, 0\\n0, 0, 0, 0, 0, 0, 0, 0, 0, 0, 0, 0, 0, 0\\n0, 0, 0, 0, 0, 0, 0, 0, 0, 0, 0, 0, 0, 0]'),\n Text(0.046511627906976744, 0.9702380952380952, 'X[3] <= 79.931\\ngini = 0.988\\nsamples = 82\\nvalue = [1, 1, 1, 1, 1, 1, 1, 1, 1, 1, 1, 1, 1, 1\\n1, 1, 1, 1, 1, 0, 1, 0, 1, 1, 1, 1, 1, 1\\n1, 1, 1, 1, 1, 1, 1, 1, 1, 1, 1, 1, 1, 1\\n1, 1, 1, 1, 1, 1, 1, 1, 1, 1, 1, 1, 1, 1\\n1, 1, 1, 1, 1, 1, 1, 1, 1, 1, 1, 1, 1, 1\\n1, 1, 1, 1, 1, 1, 1, 1, 1, 1, 1, 1, 1, 1]'),\n Text(0.03488372093023256, 0.9583333333333334, 'gini = 0.0\\nsamples = 1\\nvalue = [0, 0, 0, 0, 0, 0, 0, 0, 0, 0, 0, 0, 0, 0\\n0, 0, 0, 0, 0, 0, 1, 0, 0, 0, 0, 0, 0, 0\\n0, 0, 0, 0, 0, 0, 0, 0, 0, 0, 0, 0, 0, 0\\n0, 0, 0, 0, 0, 0, 0, 0, 0, 0, 0, 0, 0, 0\\n0, 0, 0, 0, 0, 0, 0, 0, 0, 0, 0, 0, 0, 0\\n0, 0, 0, 0, 0, 0, 0, 0, 0, 0, 0, 0, 0, 0]'),\n Text(0.05813953488372093, 0.9583333333333334, 'X[2] <= 22.379\\ngini = 0.988\\nsamples = 81\\nvalue = [1, 1, 1, 1, 1, 1, 1, 1, 1, 1, 1, 1, 1, 1\\n1, 1, 1, 1, 1, 0, 0, 0, 1, 1, 1, 1, 1, 1\\n1, 1, 1, 1, 1, 1, 1, 1, 1, 1, 1, 1, 1, 1\\n1, 1, 1, 1, 1, 1, 1, 1, 1, 1, 1, 1, 1, 1\\n1, 1, 1, 1, 1, 1, 1, 1, 1, 1, 1, 1, 1, 1\\n1, 1, 1, 1, 1, 1, 1, 1, 1, 1, 1, 1, 1, 1]'),\n Text(0.046511627906976744, 0.9464285714285714, 'gini = 0.0\\nsamples = 1\\nvalue = [0, 0, 0, 0, 0, 0, 0, 0, 0, 0, 0, 0, 0, 0\\n0, 0, 0, 0, 0, 0, 0, 0, 1, 0, 0, 0, 0, 0\\n0, 0, 0, 0, 0, 0, 0, 0, 0, 0, 0, 0, 0, 0\\n0, 0, 0, 0, 0, 0, 0, 0, 0, 0, 0, 0, 0, 0\\n0, 0, 0, 0, 0, 0, 0, 0, 0, 0, 0, 0, 0, 0\\n0, 0, 0, 0, 0, 0, 0, 0, 0, 0, 0, 0, 0, 0]'),\n Text(0.06976744186046512, 0.9464285714285714, 'X[4] <= 280.497\\ngini = 0.988\\nsamples = 80\\nvalue = [1, 1, 1, 1, 1, 1, 1, 1, 1, 1, 1, 1, 1, 1\\n1, 1, 1, 1, 1, 0, 0, 0, 0, 1, 1, 1, 1, 1\\n1, 1, 1, 1, 1, 1, 1, 1, 1, 1, 1, 1, 1, 1\\n1, 1, 1, 1, 1, 1, 1, 1, 1, 1, 1, 1, 1, 1\\n1, 1, 1, 1, 1, 1, 1, 1, 1, 1, 1, 1, 1, 1\\n1, 1, 1, 1, 1, 1, 1, 1, 1, 1, 1, 1, 1, 1]'),\n Text(0.05813953488372093, 0.9345238095238095, 'gini = 0.0\\nsamples = 1\\nvalue = [0, 0, 0, 0, 0, 0, 0, 0, 0, 0, 0, 0, 0, 0\\n0, 0, 0, 0, 0, 0, 0, 0, 0, 1, 0, 0, 0, 0\\n0, 0, 0, 0, 0, 0, 0, 0, 0, 0, 0, 0, 0, 0\\n0, 0, 0, 0, 0, 0, 0, 0, 0, 0, 0, 0, 0, 0\\n0, 0, 0, 0, 0, 0, 0, 0, 0, 0, 0, 0, 0, 0\\n0, 0, 0, 0, 0, 0, 0, 0, 0, 0, 0, 0, 0, 0]'),\n Text(0.08139534883720931, 0.9345238095238095, 'X[4] <= 295.732\\ngini = 0.987\\nsamples = 79\\nvalue = [1, 1, 1, 1, 1, 1, 1, 1, 1, 1, 1, 1, 1, 1\\n1, 1, 1, 1, 1, 0, 0, 0, 0, 0, 1, 1, 1, 1\\n1, 1, 1, 1, 1, 1, 1, 1, 1, 1, 1, 1, 1, 1\\n1, 1, 1, 1, 1, 1, 1, 1, 1, 1, 1, 1, 1, 1\\n1, 1, 1, 1, 1, 1, 1, 1, 1, 1, 1, 1, 1, 1\\n1, 1, 1, 1, 1, 1, 1, 1, 1, 1, 1, 1, 1, 1]'),\n Text(0.06976744186046512, 0.9226190476190477, 'gini = 0.0\\nsamples = 1\\nvalue = [0, 0, 0, 0, 0, 0, 0, 0, 0, 0, 0, 0, 0, 0\\n0, 0, 0, 0, 0, 0, 0, 0, 0, 0, 0, 0, 1, 0\\n0, 0, 0, 0, 0, 0, 0, 0, 0, 0, 0, 0, 0, 0\\n0, 0, 0, 0, 0, 0, 0, 0, 0, 0, 0, 0, 0, 0\\n0, 0, 0, 0, 0, 0, 0, 0, 0, 0, 0, 0, 0, 0\\n0, 0, 0, 0, 0, 0, 0, 0, 0, 0, 0, 0, 0, 0]'),\n Text(0.09302325581395349, 0.9226190476190477, 'X[2] <= 35.282\\ngini = 0.987\\nsamples = 78\\nvalue = [1, 1, 1, 1, 1, 1, 1, 1, 1, 1, 1, 1, 1, 1\\n1, 1, 1, 1, 1, 0, 0, 0, 0, 0, 1, 1, 0, 1\\n1, 1, 1, 1, 1, 1, 1, 1, 1, 1, 1, 1, 1, 1\\n1, 1, 1, 1, 1, 1, 1, 1, 1, 1, 1, 1, 1, 1\\n1, 1, 1, 1, 1, 1, 1, 1, 1, 1, 1, 1, 1, 1\\n1, 1, 1, 1, 1, 1, 1, 1, 1, 1, 1, 1, 1, 1]'),\n Text(0.08139534883720931, 0.9107142857142857, 'gini = 0.0\\nsamples = 1\\nvalue = [0, 0, 0, 0, 0, 0, 0, 0, 0, 0, 0, 0, 0, 0\\n0, 0, 0, 0, 0, 0, 0, 0, 0, 0, 1, 0, 0, 0\\n0, 0, 0, 0, 0, 0, 0, 0, 0, 0, 0, 0, 0, 0\\n0, 0, 0, 0, 0, 0, 0, 0, 0, 0, 0, 0, 0, 0\\n0, 0, 0, 0, 0, 0, 0, 0, 0, 0, 0, 0, 0, 0\\n0, 0, 0, 0, 0, 0, 0, 0, 0, 0, 0, 0, 0, 0]'),\n Text(0.10465116279069768, 0.9107142857142857, 'X[6] <= 7.316\\ngini = 0.987\\nsamples = 77\\nvalue = [1, 1, 1, 1, 1, 1, 1, 1, 1, 1, 1, 1, 1, 1\\n1, 1, 1, 1, 1, 0, 0, 0, 0, 0, 0, 1, 0, 1\\n1, 1, 1, 1, 1, 1, 1, 1, 1, 1, 1, 1, 1, 1\\n1, 1, 1, 1, 1, 1, 1, 1, 1, 1, 1, 1, 1, 1\\n1, 1, 1, 1, 1, 1, 1, 1, 1, 1, 1, 1, 1, 1\\n1, 1, 1, 1, 1, 1, 1, 1, 1, 1, 1, 1, 1, 1]'),\n Text(0.09302325581395349, 0.8988095238095238, 'gini = 0.0\\nsamples = 1\\nvalue = [1, 0, 0, 0, 0, 0, 0, 0, 0, 0, 0, 0, 0, 0\\n0, 0, 0, 0, 0, 0, 0, 0, 0, 0, 0, 0, 0, 0\\n0, 0, 0, 0, 0, 0, 0, 0, 0, 0, 0, 0, 0, 0\\n0, 0, 0, 0, 0, 0, 0, 0, 0, 0, 0, 0, 0, 0\\n0, 0, 0, 0, 0, 0, 0, 0, 0, 0, 0, 0, 0, 0\\n0, 0, 0, 0, 0, 0, 0, 0, 0, 0, 0, 0, 0, 0]'),\n Text(0.11627906976744186, 0.8988095238095238, 'X[4] <= 314.81\\ngini = 0.987\\nsamples = 76\\nvalue = [0, 1, 1, 1, 1, 1, 1, 1, 1, 1, 1, 1, 1, 1\\n1, 1, 1, 1, 1, 0, 0, 0, 0, 0, 0, 1, 0, 1\\n1, 1, 1, 1, 1, 1, 1, 1, 1, 1, 1, 1, 1, 1\\n1, 1, 1, 1, 1, 1, 1, 1, 1, 1, 1, 1, 1, 1\\n1, 1, 1, 1, 1, 1, 1, 1, 1, 1, 1, 1, 1, 1\\n1, 1, 1, 1, 1, 1, 1, 1, 1, 1, 1, 1, 1, 1]'),\n Text(0.10465116279069768, 0.8869047619047619, 'gini = 0.0\\nsamples = 1\\nvalue = [0, 0, 0, 0, 0, 0, 0, 0, 0, 0, 0, 0, 0, 0\\n0, 0, 0, 0, 0, 0, 0, 0, 0, 0, 0, 1, 0, 0\\n0, 0, 0, 0, 0, 0, 0, 0, 0, 0, 0, 0, 0, 0\\n0, 0, 0, 0, 0, 0, 0, 0, 0, 0, 0, 0, 0, 0\\n0, 0, 0, 0, 0, 0, 0, 0, 0, 0, 0, 0, 0, 0\\n0, 0, 0, 0, 0, 0, 0, 0, 0, 0, 0, 0, 0, 0]'),\n Text(0.12790697674418605, 0.8869047619047619, 'X[0] <= 36.839\\ngini = 0.987\\nsamples = 75\\nvalue = [0, 1, 1, 1, 1, 1, 1, 1, 1, 1, 1, 1, 1, 1\\n1, 1, 1, 1, 1, 0, 0, 0, 0, 0, 0, 0, 0, 1\\n1, 1, 1, 1, 1, 1, 1, 1, 1, 1, 1, 1, 1, 1\\n1, 1, 1, 1, 1, 1, 1, 1, 1, 1, 1, 1, 1, 1\\n1, 1, 1, 1, 1, 1, 1, 1, 1, 1, 1, 1, 1, 1\\n1, 1, 1, 1, 1, 1, 1, 1, 1, 1, 1, 1, 1, 1]'),\n Text(0.11627906976744186, 0.875, 'gini = 0.0\\nsamples = 1\\nvalue = [0, 0, 0, 0, 0, 0, 0, 0, 0, 0, 0, 0, 0, 0\\n0, 0, 0, 0, 0, 0, 0, 0, 0, 0, 0, 0, 0, 1\\n0, 0, 0, 0, 0, 0, 0, 0, 0, 0, 0, 0, 0, 0\\n0, 0, 0, 0, 0, 0, 0, 0, 0, 0, 0, 0, 0, 0\\n0, 0, 0, 0, 0, 0, 0, 0, 0, 0, 0, 0, 0, 0\\n0, 0, 0, 0, 0, 0, 0, 0, 0, 0, 0, 0, 0, 0]'),\n Text(0.13953488372093023, 0.875, 'X[3] <= 172.204\\ngini = 0.986\\nsamples = 74\\nvalue = [0, 1, 1, 1, 1, 1, 1, 1, 1, 1, 1, 1, 1, 1\\n1, 1, 1, 1, 1, 0, 0, 0, 0, 0, 0, 0, 0, 0\\n1, 1, 1, 1, 1, 1, 1, 1, 1, 1, 1, 1, 1, 1\\n1, 1, 1, 1, 1, 1, 1, 1, 1, 1, 1, 1, 1, 1\\n1, 1, 1, 1, 1, 1, 1, 1, 1, 1, 1, 1, 1, 1\\n1, 1, 1, 1, 1, 1, 1, 1, 1, 1, 1, 1, 1, 1]'),\n Text(0.12790697674418605, 0.8630952380952381, 'gini = 0.0\\nsamples = 1\\nvalue = [0, 0, 0, 0, 0, 0, 0, 0, 0, 0, 0, 0, 0, 0\\n0, 0, 0, 0, 0, 0, 0, 0, 0, 0, 0, 0, 0, 0\\n1, 0, 0, 0, 0, 0, 0, 0, 0, 0, 0, 0, 0, 0\\n0, 0, 0, 0, 0, 0, 0, 0, 0, 0, 0, 0, 0, 0\\n0, 0, 0, 0, 0, 0, 0, 0, 0, 0, 0, 0, 0, 0\\n0, 0, 0, 0, 0, 0, 0, 0, 0, 0, 0, 0, 0, 0]'),\n Text(0.1511627906976744, 0.8630952380952381, 'X[0] <= 50.582\\ngini = 0.986\\nsamples = 73\\nvalue = [0, 1, 1, 1, 1, 1, 1, 1, 1, 1, 1, 1, 1, 1\\n1, 1, 1, 1, 1, 0, 0, 0, 0, 0, 0, 0, 0, 0\\n0, 1, 1, 1, 1, 1, 1, 1, 1, 1, 1, 1, 1, 1\\n1, 1, 1, 1, 1, 1, 1, 1, 1, 1, 1, 1, 1, 1\\n1, 1, 1, 1, 1, 1, 1, 1, 1, 1, 1, 1, 1, 1\\n1, 1, 1, 1, 1, 1, 1, 1, 1, 1, 1, 1, 1, 1]'),\n Text(0.13953488372093023, 0.8511904761904762, 'gini = 0.0\\nsamples = 1\\nvalue = [0, 0, 0, 0, 0, 0, 0, 0, 0, 0, 0, 0, 0, 0\\n0, 0, 0, 0, 0, 0, 0, 0, 0, 0, 0, 0, 0, 0\\n0, 1, 0, 0, 0, 0, 0, 0, 0, 0, 0, 0, 0, 0\\n0, 0, 0, 0, 0, 0, 0, 0, 0, 0, 0, 0, 0, 0\\n0, 0, 0, 0, 0, 0, 0, 0, 0, 0, 0, 0, 0, 0\\n0, 0, 0, 0, 0, 0, 0, 0, 0, 0, 0, 0, 0, 0]'),\n Text(0.16279069767441862, 0.8511904761904762, 'X[3] <= 196.815\\ngini = 0.986\\nsamples = 72\\nvalue = [0, 1, 1, 1, 1, 1, 1, 1, 1, 1, 1, 1, 1, 1\\n1, 1, 1, 1, 1, 0, 0, 0, 0, 0, 0, 0, 0, 0\\n0, 0, 1, 1, 1, 1, 1, 1, 1, 1, 1, 1, 1, 1\\n1, 1, 1, 1, 1, 1, 1, 1, 1, 1, 1, 1, 1, 1\\n1, 1, 1, 1, 1, 1, 1, 1, 1, 1, 1, 1, 1, 1\\n1, 1, 1, 1, 1, 1, 1, 1, 1, 1, 1, 1, 1, 1]'),\n Text(0.1511627906976744, 0.8392857142857143, 'gini = 0.0\\nsamples = 1\\nvalue = [0, 0, 0, 0, 0, 0, 0, 0, 0, 0, 0, 0, 0, 0\\n0, 0, 0, 0, 0, 0, 0, 0, 0, 0, 0, 0, 0, 0\\n0, 0, 1, 0, 0, 0, 0, 0, 0, 0, 0, 0, 0, 0\\n0, 0, 0, 0, 0, 0, 0, 0, 0, 0, 0, 0, 0, 0\\n0, 0, 0, 0, 0, 0, 0, 0, 0, 0, 0, 0, 0, 0\\n0, 0, 0, 0, 0, 0, 0, 0, 0, 0, 0, 0, 0, 0]'),\n Text(0.1744186046511628, 0.8392857142857143, 'X[2] <= 47.861\\ngini = 0.986\\nsamples = 71\\nvalue = [0, 1, 1, 1, 1, 1, 1, 1, 1, 1, 1, 1, 1, 1\\n1, 1, 1, 1, 1, 0, 0, 0, 0, 0, 0, 0, 0, 0\\n0, 0, 0, 1, 1, 1, 1, 1, 1, 1, 1, 1, 1, 1\\n1, 1, 1, 1, 1, 1, 1, 1, 1, 1, 1, 1, 1, 1\\n1, 1, 1, 1, 1, 1, 1, 1, 1, 1, 1, 1, 1, 1\\n1, 1, 1, 1, 1, 1, 1, 1, 1, 1, 1, 1, 1, 1]'),\n Text(0.16279069767441862, 0.8273809523809523, 'gini = 0.0\\nsamples = 1\\nvalue = [0, 0, 0, 0, 0, 0, 0, 0, 0, 0, 0, 0, 0, 0\\n0, 0, 0, 0, 0, 0, 0, 0, 0, 0, 0, 0, 0, 0\\n0, 0, 0, 0, 0, 0, 0, 0, 1, 0, 0, 0, 0, 0\\n0, 0, 0, 0, 0, 0, 0, 0, 0, 0, 0, 0, 0, 0\\n0, 0, 0, 0, 0, 0, 0, 0, 0, 0, 0, 0, 0, 0\\n0, 0, 0, 0, 0, 0, 0, 0, 0, 0, 0, 0, 0, 0]'),\n Text(0.18604651162790697, 0.8273809523809523, 'X[2] <= 48.795\\ngini = 0.986\\nsamples = 70\\nvalue = [0, 1, 1, 1, 1, 1, 1, 1, 1, 1, 1, 1, 1, 1\\n1, 1, 1, 1, 1, 0, 0, 0, 0, 0, 0, 0, 0, 0\\n0, 0, 0, 1, 1, 1, 1, 1, 0, 1, 1, 1, 1, 1\\n1, 1, 1, 1, 1, 1, 1, 1, 1, 1, 1, 1, 1, 1\\n1, 1, 1, 1, 1, 1, 1, 1, 1, 1, 1, 1, 1, 1\\n1, 1, 1, 1, 1, 1, 1, 1, 1, 1, 1, 1, 1, 1]'),\n Text(0.1744186046511628, 0.8154761904761905, 'gini = 0.0\\nsamples = 1\\nvalue = [0, 0, 0, 0, 0, 0, 0, 0, 0, 0, 0, 0, 0, 0\\n0, 0, 0, 0, 0, 0, 0, 0, 0, 0, 0, 0, 0, 0\\n0, 0, 0, 0, 0, 0, 0, 0, 0, 0, 0, 0, 0, 0\\n0, 0, 0, 0, 0, 0, 0, 0, 0, 0, 0, 0, 0, 0\\n0, 0, 0, 0, 0, 1, 0, 0, 0, 0, 0, 0, 0, 0\\n0, 0, 0, 0, 0, 0, 0, 0, 0, 0, 0, 0, 0, 0]'),\n Text(0.19767441860465115, 0.8154761904761905, 'X[4] <= 462.197\\ngini = 0.986\\nsamples = 69\\nvalue = [0, 1, 1, 1, 1, 1, 1, 1, 1, 1, 1, 1, 1, 1\\n1, 1, 1, 1, 1, 0, 0, 0, 0, 0, 0, 0, 0, 0\\n0, 0, 0, 1, 1, 1, 1, 1, 0, 1, 1, 1, 1, 1\\n1, 1, 1, 1, 1, 1, 1, 1, 1, 1, 1, 1, 1, 1\\n1, 1, 1, 1, 1, 0, 1, 1, 1, 1, 1, 1, 1, 1\\n1, 1, 1, 1, 1, 1, 1, 1, 1, 1, 1, 1, 1, 1]'),\n Text(0.18604651162790697, 0.8035714285714286, 'gini = 0.0\\nsamples = 1\\nvalue = [0, 0, 0, 0, 0, 0, 0, 0, 0, 0, 0, 0, 0, 0\\n0, 0, 0, 0, 0, 0, 0, 0, 0, 0, 0, 0, 0, 0\\n0, 0, 0, 1, 0, 0, 0, 0, 0, 0, 0, 0, 0, 0\\n0, 0, 0, 0, 0, 0, 0, 0, 0, 0, 0, 0, 0, 0\\n0, 0, 0, 0, 0, 0, 0, 0, 0, 0, 0, 0, 0, 0\\n0, 0, 0, 0, 0, 0, 0, 0, 0, 0, 0, 0, 0, 0]'),\n Text(0.20930232558139536, 0.8035714285714286, 'X[4] <= 480.27\\ngini = 0.985\\nsamples = 68\\nvalue = [0, 1, 1, 1, 1, 1, 1, 1, 1, 1, 1, 1, 1, 1\\n1, 1, 1, 1, 1, 0, 0, 0, 0, 0, 0, 0, 0, 0\\n0, 0, 0, 0, 1, 1, 1, 1, 0, 1, 1, 1, 1, 1\\n1, 1, 1, 1, 1, 1, 1, 1, 1, 1, 1, 1, 1, 1\\n1, 1, 1, 1, 1, 0, 1, 1, 1, 1, 1, 1, 1, 1\\n1, 1, 1, 1, 1, 1, 1, 1, 1, 1, 1, 1, 1, 1]'),\n Text(0.19767441860465115, 0.7916666666666666, 'gini = 0.0\\nsamples = 1\\nvalue = [0, 0, 0, 0, 0, 0, 0, 0, 0, 0, 0, 0, 0, 0\\n0, 0, 0, 0, 0, 0, 0, 0, 0, 0, 0, 0, 0, 0\\n0, 0, 0, 0, 0, 1, 0, 0, 0, 0, 0, 0, 0, 0\\n0, 0, 0, 0, 0, 0, 0, 0, 0, 0, 0, 0, 0, 0\\n0, 0, 0, 0, 0, 0, 0, 0, 0, 0, 0, 0, 0, 0\\n0, 0, 0, 0, 0, 0, 0, 0, 0, 0, 0, 0, 0, 0]'),\n Text(0.22093023255813954, 0.7916666666666666, 'X[3] <= 234.224\\ngini = 0.985\\nsamples = 67\\nvalue = [0, 1, 1, 1, 1, 1, 1, 1, 1, 1, 1, 1, 1, 1\\n1, 1, 1, 1, 1, 0, 0, 0, 0, 0, 0, 0, 0, 0\\n0, 0, 0, 0, 1, 0, 1, 1, 0, 1, 1, 1, 1, 1\\n1, 1, 1, 1, 1, 1, 1, 1, 1, 1, 1, 1, 1, 1\\n1, 1, 1, 1, 1, 0, 1, 1, 1, 1, 1, 1, 1, 1\\n1, 1, 1, 1, 1, 1, 1, 1, 1, 1, 1, 1, 1, 1]'),\n Text(0.20930232558139536, 0.7797619047619048, 'gini = 0.0\\nsamples = 1\\nvalue = [0, 0, 0, 0, 0, 0, 0, 0, 0, 0, 0, 0, 0, 0\\n0, 0, 0, 0, 0, 0, 0, 0, 0, 0, 0, 0, 0, 0\\n0, 0, 0, 0, 1, 0, 0, 0, 0, 0, 0, 0, 0, 0\\n0, 0, 0, 0, 0, 0, 0, 0, 0, 0, 0, 0, 0, 0\\n0, 0, 0, 0, 0, 0, 0, 0, 0, 0, 0, 0, 0, 0\\n0, 0, 0, 0, 0, 0, 0, 0, 0, 0, 0, 0, 0, 0]'),\n Text(0.23255813953488372, 0.7797619047619048, 'X[3] <= 250.28\\ngini = 0.985\\nsamples = 66\\nvalue = [0, 1, 1, 1, 1, 1, 1, 1, 1, 1, 1, 1, 1, 1\\n1, 1, 1, 1, 1, 0, 0, 0, 0, 0, 0, 0, 0, 0\\n0, 0, 0, 0, 0, 0, 1, 1, 0, 1, 1, 1, 1, 1\\n1, 1, 1, 1, 1, 1, 1, 1, 1, 1, 1, 1, 1, 1\\n1, 1, 1, 1, 1, 0, 1, 1, 1, 1, 1, 1, 1, 1\\n1, 1, 1, 1, 1, 1, 1, 1, 1, 1, 1, 1, 1, 1]'),\n Text(0.22093023255813954, 0.7678571428571429, 'gini = 0.0\\nsamples = 1\\nvalue = [0, 0, 0, 0, 0, 0, 0, 0, 0, 0, 0, 0, 0, 0\\n0, 0, 0, 0, 0, 0, 0, 0, 0, 0, 0, 0, 0, 0\\n0, 0, 0, 0, 0, 0, 1, 0, 0, 0, 0, 0, 0, 0\\n0, 0, 0, 0, 0, 0, 0, 0, 0, 0, 0, 0, 0, 0\\n0, 0, 0, 0, 0, 0, 0, 0, 0, 0, 0, 0, 0, 0\\n0, 0, 0, 0, 0, 0, 0, 0, 0, 0, 0, 0, 0, 0]'),\n Text(0.2441860465116279, 0.7678571428571429, 'X[2] <= 49.935\\ngini = 0.985\\nsamples = 65\\nvalue = [0, 1, 1, 1, 1, 1, 1, 1, 1, 1, 1, 1, 1, 1\\n1, 1, 1, 1, 1, 0, 0, 0, 0, 0, 0, 0, 0, 0\\n0, 0, 0, 0, 0, 0, 0, 1, 0, 1, 1, 1, 1, 1\\n1, 1, 1, 1, 1, 1, 1, 1, 1, 1, 1, 1, 1, 1\\n1, 1, 1, 1, 1, 0, 1, 1, 1, 1, 1, 1, 1, 1\\n1, 1, 1, 1, 1, 1, 1, 1, 1, 1, 1, 1, 1, 1]'),\n Text(0.23255813953488372, 0.7559523809523809, 'gini = 0.0\\nsamples = 1\\nvalue = [0, 0, 0, 0, 0, 0, 0, 0, 0, 0, 0, 0, 0, 0\\n0, 0, 0, 0, 0, 0, 0, 0, 0, 0, 0, 0, 0, 0\\n0, 0, 0, 0, 0, 0, 0, 0, 0, 1, 0, 0, 0, 0\\n0, 0, 0, 0, 0, 0, 0, 0, 0, 0, 0, 0, 0, 0\\n0, 0, 0, 0, 0, 0, 0, 0, 0, 0, 0, 0, 0, 0\\n0, 0, 0, 0, 0, 0, 0, 0, 0, 0, 0, 0, 0, 0]'),\n Text(0.2558139534883721, 0.7559523809523809, 'X[4] <= 1207.068\\ngini = 0.984\\nsamples = 64\\nvalue = [0, 1, 1, 1, 1, 1, 1, 1, 1, 1, 1, 1, 1, 1\\n1, 1, 1, 1, 1, 0, 0, 0, 0, 0, 0, 0, 0, 0\\n0, 0, 0, 0, 0, 0, 0, 1, 0, 0, 1, 1, 1, 1\\n1, 1, 1, 1, 1, 1, 1, 1, 1, 1, 1, 1, 1, 1\\n1, 1, 1, 1, 1, 0, 1, 1, 1, 1, 1, 1, 1, 1\\n1, 1, 1, 1, 1, 1, 1, 1, 1, 1, 1, 1, 1, 1]'),\n Text(0.2441860465116279, 0.7440476190476191, 'gini = 0.0\\nsamples = 1\\nvalue = [0, 0, 0, 0, 0, 0, 0, 0, 0, 0, 0, 0, 0, 0\\n0, 0, 0, 0, 0, 0, 0, 0, 0, 0, 0, 0, 0, 0\\n0, 0, 0, 0, 0, 0, 0, 1, 0, 0, 0, 0, 0, 0\\n0, 0, 0, 0, 0, 0, 0, 0, 0, 0, 0, 0, 0, 0\\n0, 0, 0, 0, 0, 0, 0, 0, 0, 0, 0, 0, 0, 0\\n0, 0, 0, 0, 0, 0, 0, 0, 0, 0, 0, 0, 0, 0]'),\n Text(0.26744186046511625, 0.7440476190476191, 'X[4] <= 1917.45\\ngini = 0.984\\nsamples = 63\\nvalue = [0, 1, 1, 1, 1, 1, 1, 1, 1, 1, 1, 1, 1, 1\\n1, 1, 1, 1, 1, 0, 0, 0, 0, 0, 0, 0, 0, 0\\n0, 0, 0, 0, 0, 0, 0, 0, 0, 0, 1, 1, 1, 1\\n1, 1, 1, 1, 1, 1, 1, 1, 1, 1, 1, 1, 1, 1\\n1, 1, 1, 1, 1, 0, 1, 1, 1, 1, 1, 1, 1, 1\\n1, 1, 1, 1, 1, 1, 1, 1, 1, 1, 1, 1, 1, 1]'),\n Text(0.2558139534883721, 0.7321428571428571, 'gini = 0.0\\nsamples = 1\\nvalue = [0, 0, 0, 0, 0, 0, 0, 0, 0, 0, 0, 0, 0, 0\\n0, 0, 0, 0, 0, 0, 0, 0, 0, 0, 0, 0, 0, 0\\n0, 0, 0, 0, 0, 0, 0, 0, 0, 0, 0, 0, 1, 0\\n0, 0, 0, 0, 0, 0, 0, 0, 0, 0, 0, 0, 0, 0\\n0, 0, 0, 0, 0, 0, 0, 0, 0, 0, 0, 0, 0, 0\\n0, 0, 0, 0, 0, 0, 0, 0, 0, 0, 0, 0, 0, 0]'),\n Text(0.27906976744186046, 0.7321428571428571, 'X[2] <= 50.532\\ngini = 0.984\\nsamples = 62\\nvalue = [0, 1, 1, 1, 1, 1, 1, 1, 1, 1, 1, 1, 1, 1\\n1, 1, 1, 1, 1, 0, 0, 0, 0, 0, 0, 0, 0, 0\\n0, 0, 0, 0, 0, 0, 0, 0, 0, 0, 1, 1, 0, 1\\n1, 1, 1, 1, 1, 1, 1, 1, 1, 1, 1, 1, 1, 1\\n1, 1, 1, 1, 1, 0, 1, 1, 1, 1, 1, 1, 1, 1\\n1, 1, 1, 1, 1, 1, 1, 1, 1, 1, 1, 1, 1, 1]'),\n Text(0.26744186046511625, 0.7202380952380952, 'gini = 0.0\\nsamples = 1\\nvalue = [0, 0, 0, 0, 0, 0, 0, 0, 0, 0, 0, 0, 0, 0\\n0, 0, 0, 0, 0, 0, 0, 0, 0, 0, 0, 0, 0, 0\\n0, 0, 0, 0, 0, 0, 0, 0, 0, 0, 0, 0, 0, 0\\n0, 0, 0, 0, 0, 0, 0, 0, 1, 0, 0, 0, 0, 0\\n0, 0, 0, 0, 0, 0, 0, 0, 0, 0, 0, 0, 0, 0\\n0, 0, 0, 0, 0, 0, 0, 0, 0, 0, 0, 0, 0, 0]'),\n Text(0.29069767441860467, 0.7202380952380952, 'X[0] <= 52.537\\ngini = 0.984\\nsamples = 61\\nvalue = [0, 1, 1, 1, 1, 1, 1, 1, 1, 1, 1, 1, 1, 1\\n1, 1, 1, 1, 1, 0, 0, 0, 0, 0, 0, 0, 0, 0\\n0, 0, 0, 0, 0, 0, 0, 0, 0, 0, 1, 1, 0, 1\\n1, 1, 1, 1, 1, 1, 1, 1, 0, 1, 1, 1, 1, 1\\n1, 1, 1, 1, 1, 0, 1, 1, 1, 1, 1, 1, 1, 1\\n1, 1, 1, 1, 1, 1, 1, 1, 1, 1, 1, 1, 1, 1]'),\n Text(0.27906976744186046, 0.7083333333333334, 'gini = 0.0\\nsamples = 1\\nvalue = [0, 0, 0, 0, 0, 0, 0, 0, 0, 0, 0, 0, 1, 0\\n0, 0, 0, 0, 0, 0, 0, 0, 0, 0, 0, 0, 0, 0\\n0, 0, 0, 0, 0, 0, 0, 0, 0, 0, 0, 0, 0, 0\\n0, 0, 0, 0, 0, 0, 0, 0, 0, 0, 0, 0, 0, 0\\n0, 0, 0, 0, 0, 0, 0, 0, 0, 0, 0, 0, 0, 0\\n0, 0, 0, 0, 0, 0, 0, 0, 0, 0, 0, 0, 0, 0]'),\n Text(0.3023255813953488, 0.7083333333333334, 'X[0] <= 55.674\\ngini = 0.983\\nsamples = 60\\nvalue = [0, 1, 1, 1, 1, 1, 1, 1, 1, 1, 1, 1, 0, 1\\n1, 1, 1, 1, 1, 0, 0, 0, 0, 0, 0, 0, 0, 0\\n0, 0, 0, 0, 0, 0, 0, 0, 0, 0, 1, 1, 0, 1\\n1, 1, 1, 1, 1, 1, 1, 1, 0, 1, 1, 1, 1, 1\\n1, 1, 1, 1, 1, 0, 1, 1, 1, 1, 1, 1, 1, 1\\n1, 1, 1, 1, 1, 1, 1, 1, 1, 1, 1, 1, 1, 1]'),\n Text(0.29069767441860467, 0.6964285714285714, 'gini = 0.0\\nsamples = 1\\nvalue = [0, 0, 0, 0, 0, 0, 0, 0, 0, 0, 0, 1, 0, 0\\n0, 0, 0, 0, 0, 0, 0, 0, 0, 0, 0, 0, 0, 0\\n0, 0, 0, 0, 0, 0, 0, 0, 0, 0, 0, 0, 0, 0\\n0, 0, 0, 0, 0, 0, 0, 0, 0, 0, 0, 0, 0, 0\\n0, 0, 0, 0, 0, 0, 0, 0, 0, 0, 0, 0, 0, 0\\n0, 0, 0, 0, 0, 0, 0, 0, 0, 0, 0, 0, 0, 0]'),\n Text(0.313953488372093, 0.6964285714285714, 'X[0] <= 59.146\\ngini = 0.983\\nsamples = 59\\nvalue = [0, 1, 1, 1, 1, 1, 1, 1, 1, 1, 1, 0, 0, 1\\n1, 1, 1, 1, 1, 0, 0, 0, 0, 0, 0, 0, 0, 0\\n0, 0, 0, 0, 0, 0, 0, 0, 0, 0, 1, 1, 0, 1\\n1, 1, 1, 1, 1, 1, 1, 1, 0, 1, 1, 1, 1, 1\\n1, 1, 1, 1, 1, 0, 1, 1, 1, 1, 1, 1, 1, 1\\n1, 1, 1, 1, 1, 1, 1, 1, 1, 1, 1, 1, 1, 1]'),\n Text(0.3023255813953488, 0.6845238095238095, 'gini = 0.0\\nsamples = 1\\nvalue = [0, 0, 0, 0, 0, 0, 0, 0, 0, 0, 0, 0, 0, 0\\n0, 0, 0, 0, 1, 0, 0, 0, 0, 0, 0, 0, 0, 0\\n0, 0, 0, 0, 0, 0, 0, 0, 0, 0, 0, 0, 0, 0\\n0, 0, 0, 0, 0, 0, 0, 0, 0, 0, 0, 0, 0, 0\\n0, 0, 0, 0, 0, 0, 0, 0, 0, 0, 0, 0, 0, 0\\n0, 0, 0, 0, 0, 0, 0, 0, 0, 0, 0, 0, 0, 0]'),\n Text(0.32558139534883723, 0.6845238095238095, 'X[2] <= 50.785\\ngini = 0.983\\nsamples = 58\\nvalue = [0, 1, 1, 1, 1, 1, 1, 1, 1, 1, 1, 0, 0, 1\\n1, 1, 1, 1, 0, 0, 0, 0, 0, 0, 0, 0, 0, 0\\n0, 0, 0, 0, 0, 0, 0, 0, 0, 0, 1, 1, 0, 1\\n1, 1, 1, 1, 1, 1, 1, 1, 0, 1, 1, 1, 1, 1\\n1, 1, 1, 1, 1, 0, 1, 1, 1, 1, 1, 1, 1, 1\\n1, 1, 1, 1, 1, 1, 1, 1, 1, 1, 1, 1, 1, 1]'),\n Text(0.313953488372093, 0.6726190476190477, 'gini = 0.0\\nsamples = 1\\nvalue = [0, 0, 0, 0, 0, 0, 0, 0, 0, 0, 0, 0, 0, 0\\n0, 0, 0, 0, 0, 0, 0, 0, 0, 0, 0, 0, 0, 0\\n0, 0, 0, 0, 0, 0, 0, 0, 0, 0, 0, 0, 0, 0\\n0, 0, 0, 0, 0, 0, 0, 0, 0, 0, 1, 0, 0, 0\\n0, 0, 0, 0, 0, 0, 0, 0, 0, 0, 0, 0, 0, 0\\n0, 0, 0, 0, 0, 0, 0, 0, 0, 0, 0, 0, 0, 0]'),\n Text(0.3372093023255814, 0.6726190476190477, 'X[1] <= 1530.333\\ngini = 0.982\\nsamples = 57\\nvalue = [0, 1, 1, 1, 1, 1, 1, 1, 1, 1, 1, 0, 0, 1\\n1, 1, 1, 1, 0, 0, 0, 0, 0, 0, 0, 0, 0, 0\\n0, 0, 0, 0, 0, 0, 0, 0, 0, 0, 1, 1, 0, 1\\n1, 1, 1, 1, 1, 1, 1, 1, 0, 1, 0, 1, 1, 1\\n1, 1, 1, 1, 1, 0, 1, 1, 1, 1, 1, 1, 1, 1\\n1, 1, 1, 1, 1, 1, 1, 1, 1, 1, 1, 1, 1, 1]'),\n Text(0.32558139534883723, 0.6607142857142857, 'gini = 0.0\\nsamples = 1\\nvalue = [0, 1, 0, 0, 0, 0, 0, 0, 0, 0, 0, 0, 0, 0\\n0, 0, 0, 0, 0, 0, 0, 0, 0, 0, 0, 0, 0, 0\\n0, 0, 0, 0, 0, 0, 0, 0, 0, 0, 0, 0, 0, 0\\n0, 0, 0, 0, 0, 0, 0, 0, 0, 0, 0, 0, 0, 0\\n0, 0, 0, 0, 0, 0, 0, 0, 0, 0, 0, 0, 0, 0\\n0, 0, 0, 0, 0, 0, 0, 0, 0, 0, 0, 0, 0, 0]'),\n Text(0.3488372093023256, 0.6607142857142857, 'X[3] <= 673.514\\ngini = 0.982\\nsamples = 56\\nvalue = [0, 0, 1, 1, 1, 1, 1, 1, 1, 1, 1, 0, 0, 1\\n1, 1, 1, 1, 0, 0, 0, 0, 0, 0, 0, 0, 0, 0\\n0, 0, 0, 0, 0, 0, 0, 0, 0, 0, 1, 1, 0, 1\\n1, 1, 1, 1, 1, 1, 1, 1, 0, 1, 0, 1, 1, 1\\n1, 1, 1, 1, 1, 0, 1, 1, 1, 1, 1, 1, 1, 1\\n1, 1, 1, 1, 1, 1, 1, 1, 1, 1, 1, 1, 1, 1]'),\n Text(0.3372093023255814, 0.6488095238095238, 'gini = 0.0\\nsamples = 1\\nvalue = [0, 0, 0, 0, 0, 0, 0, 0, 0, 0, 0, 0, 0, 0\\n0, 0, 0, 0, 0, 0, 0, 0, 0, 0, 0, 0, 0, 0\\n0, 0, 0, 0, 0, 0, 0, 0, 0, 0, 0, 0, 0, 0\\n0, 0, 0, 0, 0, 0, 0, 0, 0, 0, 0, 0, 0, 0\\n0, 0, 0, 0, 0, 0, 1, 0, 0, 0, 0, 0, 0, 0\\n0, 0, 0, 0, 0, 0, 0, 0, 0, 0, 0, 0, 0, 0]'),\n Text(0.36046511627906974, 0.6488095238095238, 'X[1] <= 1578.116\\ngini = 0.982\\nsamples = 55\\nvalue = [0, 0, 1, 1, 1, 1, 1, 1, 1, 1, 1, 0, 0, 1\\n1, 1, 1, 1, 0, 0, 0, 0, 0, 0, 0, 0, 0, 0\\n0, 0, 0, 0, 0, 0, 0, 0, 0, 0, 1, 1, 0, 1\\n1, 1, 1, 1, 1, 1, 1, 1, 0, 1, 0, 1, 1, 1\\n1, 1, 1, 1, 1, 0, 0, 1, 1, 1, 1, 1, 1, 1\\n1, 1, 1, 1, 1, 1, 1, 1, 1, 1, 1, 1, 1, 1]'),\n Text(0.3488372093023256, 0.6369047619047619, 'gini = 0.0\\nsamples = 1\\nvalue = [0, 0, 0, 0, 0, 0, 0, 0, 0, 0, 0, 0, 0, 0\\n0, 0, 0, 0, 0, 0, 0, 0, 0, 0, 0, 0, 0, 0\\n0, 0, 0, 0, 0, 0, 0, 0, 0, 0, 1, 0, 0, 0\\n0, 0, 0, 0, 0, 0, 0, 0, 0, 0, 0, 0, 0, 0\\n0, 0, 0, 0, 0, 0, 0, 0, 0, 0, 0, 0, 0, 0\\n0, 0, 0, 0, 0, 0, 0, 0, 0, 0, 0, 0, 0, 0]'),\n Text(0.37209302325581395, 0.6369047619047619, 'X[6] <= 8.307\\ngini = 0.981\\nsamples = 54\\nvalue = [0, 0, 1, 1, 1, 1, 1, 1, 1, 1, 1, 0, 0, 1\\n1, 1, 1, 1, 0, 0, 0, 0, 0, 0, 0, 0, 0, 0\\n0, 0, 0, 0, 0, 0, 0, 0, 0, 0, 0, 1, 0, 1\\n1, 1, 1, 1, 1, 1, 1, 1, 0, 1, 0, 1, 1, 1\\n1, 1, 1, 1, 1, 0, 0, 1, 1, 1, 1, 1, 1, 1\\n1, 1, 1, 1, 1, 1, 1, 1, 1, 1, 1, 1, 1, 1]'),\n Text(0.36046511627906974, 0.625, 'gini = 0.0\\nsamples = 1\\nvalue = [0, 0, 1, 0, 0, 0, 0, 0, 0, 0, 0, 0, 0, 0\\n0, 0, 0, 0, 0, 0, 0, 0, 0, 0, 0, 0, 0, 0\\n0, 0, 0, 0, 0, 0, 0, 0, 0, 0, 0, 0, 0, 0\\n0, 0, 0, 0, 0, 0, 0, 0, 0, 0, 0, 0, 0, 0\\n0, 0, 0, 0, 0, 0, 0, 0, 0, 0, 0, 0, 0, 0\\n0, 0, 0, 0, 0, 0, 0, 0, 0, 0, 0, 0, 0, 0]'),\n Text(0.38372093023255816, 0.625, 'X[5] <= 6083.471\\ngini = 0.981\\nsamples = 53\\nvalue = [0, 0, 0, 1, 1, 1, 1, 1, 1, 1, 1, 0, 0, 1\\n1, 1, 1, 1, 0, 0, 0, 0, 0, 0, 0, 0, 0, 0\\n0, 0, 0, 0, 0, 0, 0, 0, 0, 0, 0, 1, 0, 1\\n1, 1, 1, 1, 1, 1, 1, 1, 0, 1, 0, 1, 1, 1\\n1, 1, 1, 1, 1, 0, 0, 1, 1, 1, 1, 1, 1, 1\\n1, 1, 1, 1, 1, 1, 1, 1, 1, 1, 1, 1, 1, 1]'),\n Text(0.37209302325581395, 0.6130952380952381, 'gini = 0.0\\nsamples = 1\\nvalue = [0, 0, 0, 0, 0, 0, 0, 0, 0, 0, 0, 0, 0, 0\\n0, 0, 0, 0, 0, 0, 0, 0, 0, 0, 0, 0, 0, 0\\n0, 0, 0, 0, 0, 0, 0, 0, 0, 0, 0, 1, 0, 0\\n0, 0, 0, 0, 0, 0, 0, 0, 0, 0, 0, 0, 0, 0\\n0, 0, 0, 0, 0, 0, 0, 0, 0, 0, 0, 0, 0, 0\\n0, 0, 0, 0, 0, 0, 0, 0, 0, 0, 0, 0, 0, 0]'),\n Text(0.3953488372093023, 0.6130952380952381, 'X[0] <= 60.628\\ngini = 0.981\\nsamples = 52\\nvalue = [0, 0, 0, 1, 1, 1, 1, 1, 1, 1, 1, 0, 0, 1\\n1, 1, 1, 1, 0, 0, 0, 0, 0, 0, 0, 0, 0, 0\\n0, 0, 0, 0, 0, 0, 0, 0, 0, 0, 0, 0, 0, 1\\n1, 1, 1, 1, 1, 1, 1, 1, 0, 1, 0, 1, 1, 1\\n1, 1, 1, 1, 1, 0, 0, 1, 1, 1, 1, 1, 1, 1\\n1, 1, 1, 1, 1, 1, 1, 1, 1, 1, 1, 1, 1, 1]'),\n Text(0.38372093023255816, 0.6011904761904762, 'gini = 0.0\\nsamples = 1\\nvalue = [0, 0, 0, 0, 0, 0, 0, 0, 0, 0, 0, 0, 0, 0\\n0, 0, 0, 1, 0, 0, 0, 0, 0, 0, 0, 0, 0, 0\\n0, 0, 0, 0, 0, 0, 0, 0, 0, 0, 0, 0, 0, 0\\n0, 0, 0, 0, 0, 0, 0, 0, 0, 0, 0, 0, 0, 0\\n0, 0, 0, 0, 0, 0, 0, 0, 0, 0, 0, 0, 0, 0\\n0, 0, 0, 0, 0, 0, 0, 0, 0, 0, 0, 0, 0, 0]'),\n Text(0.4069767441860465, 0.6011904761904762, 'X[4] <= 1954.664\\ngini = 0.98\\nsamples = 51\\nvalue = [0, 0, 0, 1, 1, 1, 1, 1, 1, 1, 1, 0, 0, 1\\n1, 1, 1, 0, 0, 0, 0, 0, 0, 0, 0, 0, 0, 0\\n0, 0, 0, 0, 0, 0, 0, 0, 0, 0, 0, 0, 0, 1\\n1, 1, 1, 1, 1, 1, 1, 1, 0, 1, 0, 1, 1, 1\\n1, 1, 1, 1, 1, 0, 0, 1, 1, 1, 1, 1, 1, 1\\n1, 1, 1, 1, 1, 1, 1, 1, 1, 1, 1, 1, 1, 1]'),\n Text(0.3953488372093023, 0.5892857142857143, 'gini = 0.0\\nsamples = 1\\nvalue = [0, 0, 0, 0, 0, 0, 0, 0, 0, 0, 0, 0, 0, 0\\n0, 0, 0, 0, 0, 0, 0, 0, 0, 0, 0, 0, 0, 0\\n0, 0, 0, 0, 0, 0, 0, 0, 0, 0, 0, 0, 0, 1\\n0, 0, 0, 0, 0, 0, 0, 0, 0, 0, 0, 0, 0, 0\\n0, 0, 0, 0, 0, 0, 0, 0, 0, 0, 0, 0, 0, 0\\n0, 0, 0, 0, 0, 0, 0, 0, 0, 0, 0, 0, 0, 0]'),\n Text(0.4186046511627907, 0.5892857142857143, 'X[2] <= 51.065\\ngini = 0.98\\nsamples = 50\\nvalue = [0, 0, 0, 1, 1, 1, 1, 1, 1, 1, 1, 0, 0, 1\\n1, 1, 1, 0, 0, 0, 0, 0, 0, 0, 0, 0, 0, 0\\n0, 0, 0, 0, 0, 0, 0, 0, 0, 0, 0, 0, 0, 0\\n1, 1, 1, 1, 1, 1, 1, 1, 0, 1, 0, 1, 1, 1\\n1, 1, 1, 1, 1, 0, 0, 1, 1, 1, 1, 1, 1, 1\\n1, 1, 1, 1, 1, 1, 1, 1, 1, 1, 1, 1, 1, 1]'),\n Text(0.4069767441860465, 0.5773809523809523, 'gini = 0.0\\nsamples = 1\\nvalue = [0, 0, 0, 0, 0, 0, 0, 0, 0, 0, 0, 0, 0, 0\\n0, 0, 0, 0, 0, 0, 0, 0, 0, 0, 0, 0, 0, 0\\n0, 0, 0, 0, 0, 0, 0, 0, 0, 0, 0, 0, 0, 0\\n0, 0, 0, 0, 0, 0, 0, 0, 0, 0, 0, 0, 0, 0\\n0, 0, 0, 0, 1, 0, 0, 0, 0, 0, 0, 0, 0, 0\\n0, 0, 0, 0, 0, 0, 0, 0, 0, 0, 0, 0, 0, 0]'),\n Text(0.43023255813953487, 0.5773809523809523, 'X[2] <= 51.233\\ngini = 0.98\\nsamples = 49\\nvalue = [0, 0, 0, 1, 1, 1, 1, 1, 1, 1, 1, 0, 0, 1\\n1, 1, 1, 0, 0, 0, 0, 0, 0, 0, 0, 0, 0, 0\\n0, 0, 0, 0, 0, 0, 0, 0, 0, 0, 0, 0, 0, 0\\n1, 1, 1, 1, 1, 1, 1, 1, 0, 1, 0, 1, 1, 1\\n1, 1, 1, 1, 0, 0, 0, 1, 1, 1, 1, 1, 1, 1\\n1, 1, 1, 1, 1, 1, 1, 1, 1, 1, 1, 1, 1, 1]'),\n Text(0.4186046511627907, 0.5654761904761905, 'gini = 0.0\\nsamples = 1\\nvalue = [0, 0, 0, 0, 0, 0, 0, 0, 0, 0, 0, 0, 0, 0\\n0, 0, 0, 0, 0, 0, 0, 0, 0, 0, 0, 0, 0, 0\\n0, 0, 0, 0, 0, 0, 0, 0, 0, 0, 0, 0, 0, 0\\n0, 0, 0, 0, 0, 0, 0, 0, 0, 0, 0, 0, 0, 0\\n0, 0, 1, 0, 0, 0, 0, 0, 0, 0, 0, 0, 0, 0\\n0, 0, 0, 0, 0, 0, 0, 0, 0, 0, 0, 0, 0, 0]'),\n Text(0.4418604651162791, 0.5654761904761905, 'X[0] <= 62.076\\ngini = 0.979\\nsamples = 48\\nvalue = [0, 0, 0, 1, 1, 1, 1, 1, 1, 1, 1, 0, 0, 1\\n1, 1, 1, 0, 0, 0, 0, 0, 0, 0, 0, 0, 0, 0\\n0, 0, 0, 0, 0, 0, 0, 0, 0, 0, 0, 0, 0, 0\\n1, 1, 1, 1, 1, 1, 1, 1, 0, 1, 0, 1, 1, 1\\n1, 1, 0, 1, 0, 0, 0, 1, 1, 1, 1, 1, 1, 1\\n1, 1, 1, 1, 1, 1, 1, 1, 1, 1, 1, 1, 1, 1]'),\n Text(0.43023255813953487, 0.5535714285714286, 'gini = 0.0\\nsamples = 1\\nvalue = [0, 0, 0, 0, 0, 0, 1, 0, 0, 0, 0, 0, 0, 0\\n0, 0, 0, 0, 0, 0, 0, 0, 0, 0, 0, 0, 0, 0\\n0, 0, 0, 0, 0, 0, 0, 0, 0, 0, 0, 0, 0, 0\\n0, 0, 0, 0, 0, 0, 0, 0, 0, 0, 0, 0, 0, 0\\n0, 0, 0, 0, 0, 0, 0, 0, 0, 0, 0, 0, 0, 0\\n0, 0, 0, 0, 0, 0, 0, 0, 0, 0, 0, 0, 0, 0]'),\n Text(0.45348837209302323, 0.5535714285714286, 'X[3] <= 722.645\\ngini = 0.979\\nsamples = 47\\nvalue = [0, 0, 0, 1, 1, 1, 0, 1, 1, 1, 1, 0, 0, 1\\n1, 1, 1, 0, 0, 0, 0, 0, 0, 0, 0, 0, 0, 0\\n0, 0, 0, 0, 0, 0, 0, 0, 0, 0, 0, 0, 0, 0\\n1, 1, 1, 1, 1, 1, 1, 1, 0, 1, 0, 1, 1, 1\\n1, 1, 0, 1, 0, 0, 0, 1, 1, 1, 1, 1, 1, 1\\n1, 1, 1, 1, 1, 1, 1, 1, 1, 1, 1, 1, 1, 1]'),\n Text(0.4418604651162791, 0.5416666666666666, 'gini = 0.0\\nsamples = 1\\nvalue = [0, 0, 0, 0, 0, 0, 0, 0, 0, 0, 0, 0, 0, 0\\n0, 0, 0, 0, 0, 0, 0, 0, 0, 0, 0, 0, 0, 0\\n0, 0, 0, 0, 0, 0, 0, 0, 0, 0, 0, 0, 0, 0\\n0, 0, 0, 0, 0, 0, 0, 0, 0, 0, 0, 0, 0, 0\\n0, 0, 0, 0, 0, 0, 0, 1, 0, 0, 0, 0, 0, 0\\n0, 0, 0, 0, 0, 0, 0, 0, 0, 0, 0, 0, 0, 0]'),\n Text(0.46511627906976744, 0.5416666666666666, 'X[2] <= 51.362\\ngini = 0.978\\nsamples = 46\\nvalue = [0, 0, 0, 1, 1, 1, 0, 1, 1, 1, 1, 0, 0, 1\\n1, 1, 1, 0, 0, 0, 0, 0, 0, 0, 0, 0, 0, 0\\n0, 0, 0, 0, 0, 0, 0, 0, 0, 0, 0, 0, 0, 0\\n1, 1, 1, 1, 1, 1, 1, 1, 0, 1, 0, 1, 1, 1\\n1, 1, 0, 1, 0, 0, 0, 0, 1, 1, 1, 1, 1, 1\\n1, 1, 1, 1, 1, 1, 1, 1, 1, 1, 1, 1, 1, 1]'),\n Text(0.45348837209302323, 0.5297619047619048, 'gini = 0.0\\nsamples = 1\\nvalue = [0, 0, 0, 0, 0, 0, 0, 0, 0, 0, 0, 0, 0, 0\\n0, 0, 0, 0, 0, 0, 0, 0, 0, 0, 0, 0, 0, 0\\n0, 0, 0, 0, 0, 0, 0, 0, 0, 0, 0, 0, 0, 0\\n0, 0, 0, 0, 0, 0, 0, 0, 0, 0, 0, 0, 0, 0\\n0, 0, 0, 1, 0, 0, 0, 0, 0, 0, 0, 0, 0, 0\\n0, 0, 0, 0, 0, 0, 0, 0, 0, 0, 0, 0, 0, 0]'),\n Text(0.47674418604651164, 0.5297619047619048, 'X[2] <= 51.589\\ngini = 0.978\\nsamples = 45\\nvalue = [0, 0, 0, 1, 1, 1, 0, 1, 1, 1, 1, 0, 0, 1\\n1, 1, 1, 0, 0, 0, 0, 0, 0, 0, 0, 0, 0, 0\\n0, 0, 0, 0, 0, 0, 0, 0, 0, 0, 0, 0, 0, 0\\n1, 1, 1, 1, 1, 1, 1, 1, 0, 1, 0, 1, 1, 1\\n1, 1, 0, 0, 0, 0, 0, 0, 1, 1, 1, 1, 1, 1\\n1, 1, 1, 1, 1, 1, 1, 1, 1, 1, 1, 1, 1, 1]'),\n Text(0.46511627906976744, 0.5178571428571429, 'gini = 0.0\\nsamples = 1\\nvalue = [0, 0, 0, 0, 0, 0, 0, 0, 0, 0, 0, 0, 0, 0\\n0, 0, 0, 0, 0, 0, 0, 0, 0, 0, 0, 0, 0, 0\\n0, 0, 0, 0, 0, 0, 0, 0, 0, 0, 0, 0, 0, 0\\n0, 0, 0, 0, 0, 0, 0, 0, 0, 0, 0, 1, 0, 0\\n0, 0, 0, 0, 0, 0, 0, 0, 0, 0, 0, 0, 0, 0\\n0, 0, 0, 0, 0, 0, 0, 0, 0, 0, 0, 0, 0, 0]'),\n Text(0.4883720930232558, 0.5178571428571429, 'X[6] <= 8.778\\ngini = 0.977\\nsamples = 44\\nvalue = [0, 0, 0, 1, 1, 1, 0, 1, 1, 1, 1, 0, 0, 1\\n1, 1, 1, 0, 0, 0, 0, 0, 0, 0, 0, 0, 0, 0\\n0, 0, 0, 0, 0, 0, 0, 0, 0, 0, 0, 0, 0, 0\\n1, 1, 1, 1, 1, 1, 1, 1, 0, 1, 0, 0, 1, 1\\n1, 1, 0, 0, 0, 0, 0, 0, 1, 1, 1, 1, 1, 1\\n1, 1, 1, 1, 1, 1, 1, 1, 1, 1, 1, 1, 1, 1]'),\n Text(0.47674418604651164, 0.5059523809523809, 'gini = 0.0\\nsamples = 1\\nvalue = [0, 0, 0, 1, 0, 0, 0, 0, 0, 0, 0, 0, 0, 0\\n0, 0, 0, 0, 0, 0, 0, 0, 0, 0, 0, 0, 0, 0\\n0, 0, 0, 0, 0, 0, 0, 0, 0, 0, 0, 0, 0, 0\\n0, 0, 0, 0, 0, 0, 0, 0, 0, 0, 0, 0, 0, 0\\n0, 0, 0, 0, 0, 0, 0, 0, 0, 0, 0, 0, 0, 0\\n0, 0, 0, 0, 0, 0, 0, 0, 0, 0, 0, 0, 0, 0]'),\n Text(0.5, 0.5059523809523809, 'X[3] <= 800.938\\ngini = 0.977\\nsamples = 43\\nvalue = [0, 0, 0, 0, 1, 1, 0, 1, 1, 1, 1, 0, 0, 1\\n1, 1, 1, 0, 0, 0, 0, 0, 0, 0, 0, 0, 0, 0\\n0, 0, 0, 0, 0, 0, 0, 0, 0, 0, 0, 0, 0, 0\\n1, 1, 1, 1, 1, 1, 1, 1, 0, 1, 0, 0, 1, 1\\n1, 1, 0, 0, 0, 0, 0, 0, 1, 1, 1, 1, 1, 1\\n1, 1, 1, 1, 1, 1, 1, 1, 1, 1, 1, 1, 1, 1]'),\n Text(0.4883720930232558, 0.49404761904761907, 'gini = 0.0\\nsamples = 1\\nvalue = [0, 0, 0, 0, 0, 0, 0, 0, 0, 0, 0, 0, 0, 0\\n0, 0, 0, 0, 0, 0, 0, 0, 0, 0, 0, 0, 0, 0\\n0, 0, 0, 0, 0, 0, 0, 0, 0, 0, 0, 0, 0, 0\\n0, 0, 0, 0, 0, 0, 0, 0, 0, 0, 0, 0, 0, 0\\n0, 0, 0, 0, 0, 0, 0, 0, 1, 0, 0, 0, 0, 0\\n0, 0, 0, 0, 0, 0, 0, 0, 0, 0, 0, 0, 0, 0]'),\n Text(0.5116279069767442, 0.49404761904761907, 'X[1] <= 1779.363\\ngini = 0.976\\nsamples = 42\\nvalue = [0, 0, 0, 0, 1, 1, 0, 1, 1, 1, 1, 0, 0, 1\\n1, 1, 1, 0, 0, 0, 0, 0, 0, 0, 0, 0, 0, 0\\n0, 0, 0, 0, 0, 0, 0, 0, 0, 0, 0, 0, 0, 0\\n1, 1, 1, 1, 1, 1, 1, 1, 0, 1, 0, 0, 1, 1\\n1, 1, 0, 0, 0, 0, 0, 0, 0, 1, 1, 1, 1, 1\\n1, 1, 1, 1, 1, 1, 1, 1, 1, 1, 1, 1, 1, 1]'),\n Text(0.5, 0.48214285714285715, 'gini = 0.0\\nsamples = 1\\nvalue = [0, 0, 0, 0, 0, 0, 0, 0, 0, 0, 0, 0, 0, 0\\n0, 0, 0, 0, 0, 0, 0, 0, 0, 0, 0, 0, 0, 0\\n0, 0, 0, 0, 0, 0, 0, 0, 0, 0, 0, 0, 0, 0\\n0, 0, 1, 0, 0, 0, 0, 0, 0, 0, 0, 0, 0, 0\\n0, 0, 0, 0, 0, 0, 0, 0, 0, 0, 0, 0, 0, 0\\n0, 0, 0, 0, 0, 0, 0, 0, 0, 0, 0, 0, 0, 0]'),\n Text(0.5232558139534884, 0.48214285714285715, 'X[6] <= 9.16\\ngini = 0.976\\nsamples = 41\\nvalue = [0, 0, 0, 0, 1, 1, 0, 1, 1, 1, 1, 0, 0, 1\\n1, 1, 1, 0, 0, 0, 0, 0, 0, 0, 0, 0, 0, 0\\n0, 0, 0, 0, 0, 0, 0, 0, 0, 0, 0, 0, 0, 0\\n1, 1, 0, 1, 1, 1, 1, 1, 0, 1, 0, 0, 1, 1\\n1, 1, 0, 0, 0, 0, 0, 0, 0, 1, 1, 1, 1, 1\\n1, 1, 1, 1, 1, 1, 1, 1, 1, 1, 1, 1, 1, 1]'),\n Text(0.5116279069767442, 0.47023809523809523, 'gini = 0.0\\nsamples = 1\\nvalue = [0, 0, 0, 0, 1, 0, 0, 0, 0, 0, 0, 0, 0, 0\\n0, 0, 0, 0, 0, 0, 0, 0, 0, 0, 0, 0, 0, 0\\n0, 0, 0, 0, 0, 0, 0, 0, 0, 0, 0, 0, 0, 0\\n0, 0, 0, 0, 0, 0, 0, 0, 0, 0, 0, 0, 0, 0\\n0, 0, 0, 0, 0, 0, 0, 0, 0, 0, 0, 0, 0, 0\\n0, 0, 0, 0, 0, 0, 0, 0, 0, 0, 0, 0, 0, 0]'),\n Text(0.5348837209302325, 0.47023809523809523, 'X[1] <= 1836.44\\ngini = 0.975\\nsamples = 40\\nvalue = [0, 0, 0, 0, 0, 1, 0, 1, 1, 1, 1, 0, 0, 1\\n1, 1, 1, 0, 0, 0, 0, 0, 0, 0, 0, 0, 0, 0\\n0, 0, 0, 0, 0, 0, 0, 0, 0, 0, 0, 0, 0, 0\\n1, 1, 0, 1, 1, 1, 1, 1, 0, 1, 0, 0, 1, 1\\n1, 1, 0, 0, 0, 0, 0, 0, 0, 1, 1, 1, 1, 1\\n1, 1, 1, 1, 1, 1, 1, 1, 1, 1, 1, 1, 1, 1]'),\n Text(0.5232558139534884, 0.4583333333333333, 'gini = 0.0\\nsamples = 1\\nvalue = [0, 0, 0, 0, 0, 0, 0, 0, 0, 0, 0, 0, 0, 0\\n0, 0, 0, 0, 0, 0, 0, 0, 0, 0, 0, 0, 0, 0\\n0, 0, 0, 0, 0, 0, 0, 0, 0, 0, 0, 0, 0, 0\\n0, 1, 0, 0, 0, 0, 0, 0, 0, 0, 0, 0, 0, 0\\n0, 0, 0, 0, 0, 0, 0, 0, 0, 0, 0, 0, 0, 0\\n0, 0, 0, 0, 0, 0, 0, 0, 0, 0, 0, 0, 0, 0]'),\n Text(0.5465116279069767, 0.4583333333333333, 'X[4] <= 2063.056\\ngini = 0.974\\nsamples = 39\\nvalue = [0, 0, 0, 0, 0, 1, 0, 1, 1, 1, 1, 0, 0, 1\\n1, 1, 1, 0, 0, 0, 0, 0, 0, 0, 0, 0, 0, 0\\n0, 0, 0, 0, 0, 0, 0, 0, 0, 0, 0, 0, 0, 0\\n1, 0, 0, 1, 1, 1, 1, 1, 0, 1, 0, 0, 1, 1\\n1, 1, 0, 0, 0, 0, 0, 0, 0, 1, 1, 1, 1, 1\\n1, 1, 1, 1, 1, 1, 1, 1, 1, 1, 1, 1, 1, 1]'),\n Text(0.5348837209302325, 0.44642857142857145, 'gini = 0.0\\nsamples = 1\\nvalue = [0, 0, 0, 0, 0, 0, 0, 0, 0, 0, 0, 0, 0, 0\\n0, 0, 0, 0, 0, 0, 0, 0, 0, 0, 0, 0, 0, 0\\n0, 0, 0, 0, 0, 0, 0, 0, 0, 0, 0, 0, 0, 0\\n1, 0, 0, 0, 0, 0, 0, 0, 0, 0, 0, 0, 0, 0\\n0, 0, 0, 0, 0, 0, 0, 0, 0, 0, 0, 0, 0, 0\\n0, 0, 0, 0, 0, 0, 0, 0, 0, 0, 0, 0, 0, 0]'),\n Text(0.5581395348837209, 0.44642857142857145, 'X[5] <= 6411.156\\ngini = 0.974\\nsamples = 38\\nvalue = [0, 0, 0, 0, 0, 1, 0, 1, 1, 1, 1, 0, 0, 1\\n1, 1, 1, 0, 0, 0, 0, 0, 0, 0, 0, 0, 0, 0\\n0, 0, 0, 0, 0, 0, 0, 0, 0, 0, 0, 0, 0, 0\\n0, 0, 0, 1, 1, 1, 1, 1, 0, 1, 0, 0, 1, 1\\n1, 1, 0, 0, 0, 0, 0, 0, 0, 1, 1, 1, 1, 1\\n1, 1, 1, 1, 1, 1, 1, 1, 1, 1, 1, 1, 1, 1]'),\n Text(0.5465116279069767, 0.43452380952380953, 'gini = 0.0\\nsamples = 1\\nvalue = [0, 0, 0, 0, 0, 0, 0, 0, 0, 0, 0, 0, 0, 0\\n0, 0, 0, 0, 0, 0, 0, 0, 0, 0, 0, 0, 0, 0\\n0, 0, 0, 0, 0, 0, 0, 0, 0, 0, 0, 0, 0, 0\\n0, 0, 0, 0, 0, 0, 0, 0, 0, 0, 0, 0, 1, 0\\n0, 0, 0, 0, 0, 0, 0, 0, 0, 0, 0, 0, 0, 0\\n0, 0, 0, 0, 0, 0, 0, 0, 0, 0, 0, 0, 0, 0]'),\n Text(0.5697674418604651, 0.43452380952380953, 'X[2] <= 55.953\\ngini = 0.973\\nsamples = 37\\nvalue = [0, 0, 0, 0, 0, 1, 0, 1, 1, 1, 1, 0, 0, 1\\n1, 1, 1, 0, 0, 0, 0, 0, 0, 0, 0, 0, 0, 0\\n0, 0, 0, 0, 0, 0, 0, 0, 0, 0, 0, 0, 0, 0\\n0, 0, 0, 1, 1, 1, 1, 1, 0, 1, 0, 0, 0, 1\\n1, 1, 0, 0, 0, 0, 0, 0, 0, 1, 1, 1, 1, 1\\n1, 1, 1, 1, 1, 1, 1, 1, 1, 1, 1, 1, 1, 1]'),\n Text(0.5581395348837209, 0.4226190476190476, 'gini = 0.0\\nsamples = 1\\nvalue = [0, 0, 0, 0, 0, 0, 0, 0, 0, 0, 0, 0, 0, 0\\n0, 0, 0, 0, 0, 0, 0, 0, 0, 0, 0, 0, 0, 0\\n0, 0, 0, 0, 0, 0, 0, 0, 0, 0, 0, 0, 0, 0\\n0, 0, 0, 0, 0, 0, 0, 0, 0, 0, 0, 0, 0, 0\\n0, 1, 0, 0, 0, 0, 0, 0, 0, 0, 0, 0, 0, 0\\n0, 0, 0, 0, 0, 0, 0, 0, 0, 0, 0, 0, 0, 0]'),\n Text(0.5813953488372093, 0.4226190476190476, 'X[2] <= 57.083\\ngini = 0.972\\nsamples = 36\\nvalue = [0, 0, 0, 0, 0, 1, 0, 1, 1, 1, 1, 0, 0, 1\\n1, 1, 1, 0, 0, 0, 0, 0, 0, 0, 0, 0, 0, 0\\n0, 0, 0, 0, 0, 0, 0, 0, 0, 0, 0, 0, 0, 0\\n0, 0, 0, 1, 1, 1, 1, 1, 0, 1, 0, 0, 0, 1\\n1, 0, 0, 0, 0, 0, 0, 0, 0, 1, 1, 1, 1, 1\\n1, 1, 1, 1, 1, 1, 1, 1, 1, 1, 1, 1, 1, 1]'),\n Text(0.5697674418604651, 0.4107142857142857, 'gini = 0.0\\nsamples = 1\\nvalue = [0, 0, 0, 0, 0, 0, 0, 0, 0, 1, 0, 0, 0, 0\\n0, 0, 0, 0, 0, 0, 0, 0, 0, 0, 0, 0, 0, 0\\n0, 0, 0, 0, 0, 0, 0, 0, 0, 0, 0, 0, 0, 0\\n0, 0, 0, 0, 0, 0, 0, 0, 0, 0, 0, 0, 0, 0\\n0, 0, 0, 0, 0, 0, 0, 0, 0, 0, 0, 0, 0, 0\\n0, 0, 0, 0, 0, 0, 0, 0, 0, 0, 0, 0, 0, 0]'),\n Text(0.5930232558139535, 0.4107142857142857, 'X[4] <= 2150.612\\ngini = 0.971\\nsamples = 35\\nvalue = [0, 0, 0, 0, 0, 1, 0, 1, 1, 0, 1, 0, 0, 1\\n1, 1, 1, 0, 0, 0, 0, 0, 0, 0, 0, 0, 0, 0\\n0, 0, 0, 0, 0, 0, 0, 0, 0, 0, 0, 0, 0, 0\\n0, 0, 0, 1, 1, 1, 1, 1, 0, 1, 0, 0, 0, 1\\n1, 0, 0, 0, 0, 0, 0, 0, 0, 1, 1, 1, 1, 1\\n1, 1, 1, 1, 1, 1, 1, 1, 1, 1, 1, 1, 1, 1]'),\n Text(0.5813953488372093, 0.39880952380952384, 'gini = 0.0\\nsamples = 1\\nvalue = [0, 0, 0, 0, 0, 0, 0, 0, 0, 0, 0, 0, 0, 0\\n0, 0, 0, 0, 0, 0, 0, 0, 0, 0, 0, 0, 0, 0\\n0, 0, 0, 0, 0, 0, 0, 0, 0, 0, 0, 0, 0, 0\\n0, 0, 0, 1, 0, 0, 0, 0, 0, 0, 0, 0, 0, 0\\n0, 0, 0, 0, 0, 0, 0, 0, 0, 0, 0, 0, 0, 0\\n0, 0, 0, 0, 0, 0, 0, 0, 0, 0, 0, 0, 0, 0]'),\n Text(0.6046511627906976, 0.39880952380952384, 'X[6] <= 9.405\\ngini = 0.971\\nsamples = 34\\nvalue = [0, 0, 0, 0, 0, 1, 0, 1, 1, 0, 1, 0, 0, 1\\n1, 1, 1, 0, 0, 0, 0, 0, 0, 0, 0, 0, 0, 0\\n0, 0, 0, 0, 0, 0, 0, 0, 0, 0, 0, 0, 0, 0\\n0, 0, 0, 0, 1, 1, 1, 1, 0, 1, 0, 0, 0, 1\\n1, 0, 0, 0, 0, 0, 0, 0, 0, 1, 1, 1, 1, 1\\n1, 1, 1, 1, 1, 1, 1, 1, 1, 1, 1, 1, 1, 1]'),\n Text(0.5930232558139535, 0.3869047619047619, 'gini = 0.0\\nsamples = 1\\nvalue = [0, 0, 0, 0, 0, 0, 0, 0, 0, 0, 0, 0, 0, 1\\n0, 0, 0, 0, 0, 0, 0, 0, 0, 0, 0, 0, 0, 0\\n0, 0, 0, 0, 0, 0, 0, 0, 0, 0, 0, 0, 0, 0\\n0, 0, 0, 0, 0, 0, 0, 0, 0, 0, 0, 0, 0, 0\\n0, 0, 0, 0, 0, 0, 0, 0, 0, 0, 0, 0, 0, 0\\n0, 0, 0, 0, 0, 0, 0, 0, 0, 0, 0, 0, 0, 0]'),\n Text(0.6162790697674418, 0.3869047619047619, 'X[1] <= 1960.43\\ngini = 0.97\\nsamples = 33\\nvalue = [0, 0, 0, 0, 0, 1, 0, 1, 1, 0, 1, 0, 0, 0\\n1, 1, 1, 0, 0, 0, 0, 0, 0, 0, 0, 0, 0, 0\\n0, 0, 0, 0, 0, 0, 0, 0, 0, 0, 0, 0, 0, 0\\n0, 0, 0, 0, 1, 1, 1, 1, 0, 1, 0, 0, 0, 1\\n1, 0, 0, 0, 0, 0, 0, 0, 0, 1, 1, 1, 1, 1\\n1, 1, 1, 1, 1, 1, 1, 1, 1, 1, 1, 1, 1, 1]'),\n Text(0.6046511627906976, 0.375, 'gini = 0.0\\nsamples = 1\\nvalue = [0, 0, 0, 0, 0, 0, 0, 0, 0, 0, 0, 0, 0, 0\\n0, 0, 0, 0, 0, 0, 0, 0, 0, 0, 0, 0, 0, 0\\n0, 0, 0, 0, 0, 0, 0, 0, 0, 0, 0, 0, 0, 0\\n0, 0, 0, 0, 0, 0, 1, 0, 0, 0, 0, 0, 0, 0\\n0, 0, 0, 0, 0, 0, 0, 0, 0, 0, 0, 0, 0, 0\\n0, 0, 0, 0, 0, 0, 0, 0, 0, 0, 0, 0, 0, 0]'),\n Text(0.627906976744186, 0.375, 'X[1] <= 1967.159\\ngini = 0.969\\nsamples = 32\\nvalue = [0, 0, 0, 0, 0, 1, 0, 1, 1, 0, 1, 0, 0, 0\\n1, 1, 1, 0, 0, 0, 0, 0, 0, 0, 0, 0, 0, 0\\n0, 0, 0, 0, 0, 0, 0, 0, 0, 0, 0, 0, 0, 0\\n0, 0, 0, 0, 1, 1, 0, 1, 0, 1, 0, 0, 0, 1\\n1, 0, 0, 0, 0, 0, 0, 0, 0, 1, 1, 1, 1, 1\\n1, 1, 1, 1, 1, 1, 1, 1, 1, 1, 1, 1, 1, 1]'),\n Text(0.6162790697674418, 0.3630952380952381, 'gini = 0.0\\nsamples = 1\\nvalue = [0, 0, 0, 0, 0, 0, 0, 0, 0, 0, 0, 0, 0, 0\\n0, 0, 0, 0, 0, 0, 0, 0, 0, 0, 0, 0, 0, 0\\n0, 0, 0, 0, 0, 0, 0, 0, 0, 0, 0, 0, 0, 0\\n0, 0, 0, 0, 0, 1, 0, 0, 0, 0, 0, 0, 0, 0\\n0, 0, 0, 0, 0, 0, 0, 0, 0, 0, 0, 0, 0, 0\\n0, 0, 0, 0, 0, 0, 0, 0, 0, 0, 0, 0, 0, 0]'),\n Text(0.6395348837209303, 0.3630952380952381, 'X[0] <= 62.897\\ngini = 0.968\\nsamples = 31\\nvalue = [0, 0, 0, 0, 0, 1, 0, 1, 1, 0, 1, 0, 0, 0\\n1, 1, 1, 0, 0, 0, 0, 0, 0, 0, 0, 0, 0, 0\\n0, 0, 0, 0, 0, 0, 0, 0, 0, 0, 0, 0, 0, 0\\n0, 0, 0, 0, 1, 0, 0, 1, 0, 1, 0, 0, 0, 1\\n1, 0, 0, 0, 0, 0, 0, 0, 0, 1, 1, 1, 1, 1\\n1, 1, 1, 1, 1, 1, 1, 1, 1, 1, 1, 1, 1, 1]'),\n Text(0.627906976744186, 0.35119047619047616, 'gini = 0.0\\nsamples = 1\\nvalue = [0, 0, 0, 0, 0, 0, 0, 0, 0, 0, 0, 0, 0, 0\\n1, 0, 0, 0, 0, 0, 0, 0, 0, 0, 0, 0, 0, 0\\n0, 0, 0, 0, 0, 0, 0, 0, 0, 0, 0, 0, 0, 0\\n0, 0, 0, 0, 0, 0, 0, 0, 0, 0, 0, 0, 0, 0\\n0, 0, 0, 0, 0, 0, 0, 0, 0, 0, 0, 0, 0, 0\\n0, 0, 0, 0, 0, 0, 0, 0, 0, 0, 0, 0, 0, 0]'),\n Text(0.6511627906976745, 0.35119047619047616, 'X[0] <= 63.76\\ngini = 0.967\\nsamples = 30\\nvalue = [0, 0, 0, 0, 0, 1, 0, 1, 1, 0, 1, 0, 0, 0\\n0, 1, 1, 0, 0, 0, 0, 0, 0, 0, 0, 0, 0, 0\\n0, 0, 0, 0, 0, 0, 0, 0, 0, 0, 0, 0, 0, 0\\n0, 0, 0, 0, 1, 0, 0, 1, 0, 1, 0, 0, 0, 1\\n1, 0, 0, 0, 0, 0, 0, 0, 0, 1, 1, 1, 1, 1\\n1, 1, 1, 1, 1, 1, 1, 1, 1, 1, 1, 1, 1, 1]'),\n Text(0.6395348837209303, 0.3392857142857143, 'gini = 0.0\\nsamples = 1\\nvalue = [0, 0, 0, 0, 0, 1, 0, 0, 0, 0, 0, 0, 0, 0\\n0, 0, 0, 0, 0, 0, 0, 0, 0, 0, 0, 0, 0, 0\\n0, 0, 0, 0, 0, 0, 0, 0, 0, 0, 0, 0, 0, 0\\n0, 0, 0, 0, 0, 0, 0, 0, 0, 0, 0, 0, 0, 0\\n0, 0, 0, 0, 0, 0, 0, 0, 0, 0, 0, 0, 0, 0\\n0, 0, 0, 0, 0, 0, 0, 0, 0, 0, 0, 0, 0, 0]'),\n Text(0.6627906976744186, 0.3392857142857143, 'X[5] <= 6635.984\\ngini = 0.966\\nsamples = 29\\nvalue = [0, 0, 0, 0, 0, 0, 0, 1, 1, 0, 1, 0, 0, 0\\n0, 1, 1, 0, 0, 0, 0, 0, 0, 0, 0, 0, 0, 0\\n0, 0, 0, 0, 0, 0, 0, 0, 0, 0, 0, 0, 0, 0\\n0, 0, 0, 0, 1, 0, 0, 1, 0, 1, 0, 0, 0, 1\\n1, 0, 0, 0, 0, 0, 0, 0, 0, 1, 1, 1, 1, 1\\n1, 1, 1, 1, 1, 1, 1, 1, 1, 1, 1, 1, 1, 1]'),\n Text(0.6511627906976745, 0.3273809523809524, 'gini = 0.0\\nsamples = 1\\nvalue = [0, 0, 0, 0, 0, 0, 0, 0, 0, 0, 0, 0, 0, 0\\n0, 0, 0, 0, 0, 0, 0, 0, 0, 0, 0, 0, 0, 0\\n0, 0, 0, 0, 0, 0, 0, 0, 0, 0, 0, 0, 0, 0\\n0, 0, 0, 0, 0, 0, 0, 0, 0, 1, 0, 0, 0, 0\\n0, 0, 0, 0, 0, 0, 0, 0, 0, 0, 0, 0, 0, 0\\n0, 0, 0, 0, 0, 0, 0, 0, 0, 0, 0, 0, 0, 0]'),\n Text(0.6744186046511628, 0.3273809523809524, 'X[5] <= 6817.473\\ngini = 0.964\\nsamples = 28\\nvalue = [0, 0, 0, 0, 0, 0, 0, 1, 1, 0, 1, 0, 0, 0\\n0, 1, 1, 0, 0, 0, 0, 0, 0, 0, 0, 0, 0, 0\\n0, 0, 0, 0, 0, 0, 0, 0, 0, 0, 0, 0, 0, 0\\n0, 0, 0, 0, 1, 0, 0, 1, 0, 0, 0, 0, 0, 1\\n1, 0, 0, 0, 0, 0, 0, 0, 0, 1, 1, 1, 1, 1\\n1, 1, 1, 1, 1, 1, 1, 1, 1, 1, 1, 1, 1, 1]'),\n Text(0.6627906976744186, 0.31547619047619047, 'gini = 0.0\\nsamples = 1\\nvalue = [0, 0, 0, 0, 0, 0, 0, 0, 0, 0, 0, 0, 0, 0\\n0, 0, 0, 0, 0, 0, 0, 0, 0, 0, 0, 0, 0, 0\\n0, 0, 0, 0, 0, 0, 0, 0, 0, 0, 0, 0, 0, 0\\n0, 0, 0, 0, 0, 0, 0, 1, 0, 0, 0, 0, 0, 0\\n0, 0, 0, 0, 0, 0, 0, 0, 0, 0, 0, 0, 0, 0\\n0, 0, 0, 0, 0, 0, 0, 0, 0, 0, 0, 0, 0, 0]'),\n Text(0.686046511627907, 0.31547619047619047, 'X[4] <= 2514.774\\ngini = 0.963\\nsamples = 27\\nvalue = [0, 0, 0, 0, 0, 0, 0, 1, 1, 0, 1, 0, 0, 0\\n0, 1, 1, 0, 0, 0, 0, 0, 0, 0, 0, 0, 0, 0\\n0, 0, 0, 0, 0, 0, 0, 0, 0, 0, 0, 0, 0, 0\\n0, 0, 0, 0, 1, 0, 0, 0, 0, 0, 0, 0, 0, 1\\n1, 0, 0, 0, 0, 0, 0, 0, 0, 1, 1, 1, 1, 1\\n1, 1, 1, 1, 1, 1, 1, 1, 1, 1, 1, 1, 1, 1]'),\n Text(0.6744186046511628, 0.30357142857142855, 'gini = 0.0\\nsamples = 1\\nvalue = [0, 0, 0, 0, 0, 0, 0, 0, 0, 0, 0, 0, 0, 0\\n0, 0, 0, 0, 0, 0, 0, 0, 0, 0, 0, 0, 0, 0\\n0, 0, 0, 0, 0, 0, 0, 0, 0, 0, 0, 0, 0, 0\\n0, 0, 0, 0, 1, 0, 0, 0, 0, 0, 0, 0, 0, 0\\n0, 0, 0, 0, 0, 0, 0, 0, 0, 0, 0, 0, 0, 0\\n0, 0, 0, 0, 0, 0, 0, 0, 0, 0, 0, 0, 0, 0]'),\n Text(0.6976744186046512, 0.30357142857142855, 'X[2] <= 58.537\\ngini = 0.962\\nsamples = 26\\nvalue = [0, 0, 0, 0, 0, 0, 0, 1, 1, 0, 1, 0, 0, 0\\n0, 1, 1, 0, 0, 0, 0, 0, 0, 0, 0, 0, 0, 0\\n0, 0, 0, 0, 0, 0, 0, 0, 0, 0, 0, 0, 0, 0\\n0, 0, 0, 0, 0, 0, 0, 0, 0, 0, 0, 0, 0, 1\\n1, 0, 0, 0, 0, 0, 0, 0, 0, 1, 1, 1, 1, 1\\n1, 1, 1, 1, 1, 1, 1, 1, 1, 1, 1, 1, 1, 1]'),\n Text(0.686046511627907, 0.2916666666666667, 'gini = 0.0\\nsamples = 1\\nvalue = [0, 0, 0, 0, 0, 0, 0, 0, 0, 0, 1, 0, 0, 0\\n0, 0, 0, 0, 0, 0, 0, 0, 0, 0, 0, 0, 0, 0\\n0, 0, 0, 0, 0, 0, 0, 0, 0, 0, 0, 0, 0, 0\\n0, 0, 0, 0, 0, 0, 0, 0, 0, 0, 0, 0, 0, 0\\n0, 0, 0, 0, 0, 0, 0, 0, 0, 0, 0, 0, 0, 0\\n0, 0, 0, 0, 0, 0, 0, 0, 0, 0, 0, 0, 0, 0]'),\n Text(0.7093023255813954, 0.2916666666666667, 'X[5] <= 6920.302\\ngini = 0.96\\nsamples = 25\\nvalue = [0, 0, 0, 0, 0, 0, 0, 1, 1, 0, 0, 0, 0, 0\\n0, 1, 1, 0, 0, 0, 0, 0, 0, 0, 0, 0, 0, 0\\n0, 0, 0, 0, 0, 0, 0, 0, 0, 0, 0, 0, 0, 0\\n0, 0, 0, 0, 0, 0, 0, 0, 0, 0, 0, 0, 0, 1\\n1, 0, 0, 0, 0, 0, 0, 0, 0, 1, 1, 1, 1, 1\\n1, 1, 1, 1, 1, 1, 1, 1, 1, 1, 1, 1, 1, 1]'),\n Text(0.6976744186046512, 0.27976190476190477, 'gini = 0.0\\nsamples = 1\\nvalue = [0, 0, 0, 0, 0, 0, 0, 0, 0, 0, 0, 0, 0, 0\\n0, 1, 0, 0, 0, 0, 0, 0, 0, 0, 0, 0, 0, 0\\n0, 0, 0, 0, 0, 0, 0, 0, 0, 0, 0, 0, 0, 0\\n0, 0, 0, 0, 0, 0, 0, 0, 0, 0, 0, 0, 0, 0\\n0, 0, 0, 0, 0, 0, 0, 0, 0, 0, 0, 0, 0, 0\\n0, 0, 0, 0, 0, 0, 0, 0, 0, 0, 0, 0, 0, 0]'),\n Text(0.7209302325581395, 0.27976190476190477, 'X[0] <= 72.794\\ngini = 0.958\\nsamples = 24\\nvalue = [0, 0, 0, 0, 0, 0, 0, 1, 1, 0, 0, 0, 0, 0\\n0, 0, 1, 0, 0, 0, 0, 0, 0, 0, 0, 0, 0, 0\\n0, 0, 0, 0, 0, 0, 0, 0, 0, 0, 0, 0, 0, 0\\n0, 0, 0, 0, 0, 0, 0, 0, 0, 0, 0, 0, 0, 1\\n1, 0, 0, 0, 0, 0, 0, 0, 0, 1, 1, 1, 1, 1\\n1, 1, 1, 1, 1, 1, 1, 1, 1, 1, 1, 1, 1, 1]'),\n Text(0.7093023255813954, 0.26785714285714285, 'gini = 0.0\\nsamples = 1\\nvalue = [0, 0, 0, 0, 0, 0, 0, 0, 0, 0, 0, 0, 0, 0\\n0, 0, 1, 0, 0, 0, 0, 0, 0, 0, 0, 0, 0, 0\\n0, 0, 0, 0, 0, 0, 0, 0, 0, 0, 0, 0, 0, 0\\n0, 0, 0, 0, 0, 0, 0, 0, 0, 0, 0, 0, 0, 0\\n0, 0, 0, 0, 0, 0, 0, 0, 0, 0, 0, 0, 0, 0\\n0, 0, 0, 0, 0, 0, 0, 0, 0, 0, 0, 0, 0, 0]'),\n Text(0.7325581395348837, 0.26785714285714285, 'X[1] <= 2364.625\\ngini = 0.957\\nsamples = 23\\nvalue = [0, 0, 0, 0, 0, 0, 0, 1, 1, 0, 0, 0, 0, 0\\n0, 0, 0, 0, 0, 0, 0, 0, 0, 0, 0, 0, 0, 0\\n0, 0, 0, 0, 0, 0, 0, 0, 0, 0, 0, 0, 0, 0\\n0, 0, 0, 0, 0, 0, 0, 0, 0, 0, 0, 0, 0, 1\\n1, 0, 0, 0, 0, 0, 0, 0, 0, 1, 1, 1, 1, 1\\n1, 1, 1, 1, 1, 1, 1, 1, 1, 1, 1, 1, 1, 1]'),\n Text(0.7209302325581395, 0.25595238095238093, 'gini = 0.0\\nsamples = 1\\nvalue = [0, 0, 0, 0, 0, 0, 0, 0, 1, 0, 0, 0, 0, 0\\n0, 0, 0, 0, 0, 0, 0, 0, 0, 0, 0, 0, 0, 0\\n0, 0, 0, 0, 0, 0, 0, 0, 0, 0, 0, 0, 0, 0\\n0, 0, 0, 0, 0, 0, 0, 0, 0, 0, 0, 0, 0, 0\\n0, 0, 0, 0, 0, 0, 0, 0, 0, 0, 0, 0, 0, 0\\n0, 0, 0, 0, 0, 0, 0, 0, 0, 0, 0, 0, 0, 0]'),\n Text(0.7441860465116279, 0.25595238095238093, 'X[1] <= 2581.149\\ngini = 0.955\\nsamples = 22\\nvalue = [0, 0, 0, 0, 0, 0, 0, 1, 0, 0, 0, 0, 0, 0\\n0, 0, 0, 0, 0, 0, 0, 0, 0, 0, 0, 0, 0, 0\\n0, 0, 0, 0, 0, 0, 0, 0, 0, 0, 0, 0, 0, 0\\n0, 0, 0, 0, 0, 0, 0, 0, 0, 0, 0, 0, 0, 1\\n1, 0, 0, 0, 0, 0, 0, 0, 0, 1, 1, 1, 1, 1\\n1, 1, 1, 1, 1, 1, 1, 1, 1, 1, 1, 1, 1, 1]'),\n Text(0.7325581395348837, 0.24404761904761904, 'gini = 0.0\\nsamples = 1\\nvalue = [0, 0, 0, 0, 0, 0, 0, 1, 0, 0, 0, 0, 0, 0\\n0, 0, 0, 0, 0, 0, 0, 0, 0, 0, 0, 0, 0, 0\\n0, 0, 0, 0, 0, 0, 0, 0, 0, 0, 0, 0, 0, 0\\n0, 0, 0, 0, 0, 0, 0, 0, 0, 0, 0, 0, 0, 0\\n0, 0, 0, 0, 0, 0, 0, 0, 0, 0, 0, 0, 0, 0\\n0, 0, 0, 0, 0, 0, 0, 0, 0, 0, 0, 0, 0, 0]'),\n Text(0.7558139534883721, 0.24404761904761904, 'X[1] <= 2887.713\\ngini = 0.952\\nsamples = 21\\nvalue = [0, 0, 0, 0, 0, 0, 0, 0, 0, 0, 0, 0, 0, 0\\n0, 0, 0, 0, 0, 0, 0, 0, 0, 0, 0, 0, 0, 0\\n0, 0, 0, 0, 0, 0, 0, 0, 0, 0, 0, 0, 0, 0\\n0, 0, 0, 0, 0, 0, 0, 0, 0, 0, 0, 0, 0, 1\\n1, 0, 0, 0, 0, 0, 0, 0, 0, 1, 1, 1, 1, 1\\n1, 1, 1, 1, 1, 1, 1, 1, 1, 1, 1, 1, 1, 1]'),\n Text(0.7441860465116279, 0.23214285714285715, 'gini = 0.0\\nsamples = 1\\nvalue = [0, 0, 0, 0, 0, 0, 0, 0, 0, 0, 0, 0, 0, 0\\n0, 0, 0, 0, 0, 0, 0, 0, 0, 0, 0, 0, 0, 0\\n0, 0, 0, 0, 0, 0, 0, 0, 0, 0, 0, 0, 0, 0\\n0, 0, 0, 0, 0, 0, 0, 0, 0, 0, 0, 0, 0, 0\\n1, 0, 0, 0, 0, 0, 0, 0, 0, 0, 0, 0, 0, 0\\n0, 0, 0, 0, 0, 0, 0, 0, 0, 0, 0, 0, 0, 0]'),\n Text(0.7674418604651163, 0.23214285714285715, 'X[1] <= 3355.834\\ngini = 0.95\\nsamples = 20\\nvalue = [0, 0, 0, 0, 0, 0, 0, 0, 0, 0, 0, 0, 0, 0\\n0, 0, 0, 0, 0, 0, 0, 0, 0, 0, 0, 0, 0, 0\\n0, 0, 0, 0, 0, 0, 0, 0, 0, 0, 0, 0, 0, 0\\n0, 0, 0, 0, 0, 0, 0, 0, 0, 0, 0, 0, 0, 1\\n0, 0, 0, 0, 0, 0, 0, 0, 0, 1, 1, 1, 1, 1\\n1, 1, 1, 1, 1, 1, 1, 1, 1, 1, 1, 1, 1, 1]'),\n Text(0.7558139534883721, 0.22023809523809523, 'gini = 0.0\\nsamples = 1\\nvalue = [0, 0, 0, 0, 0, 0, 0, 0, 0, 0, 0, 0, 0, 0\\n0, 0, 0, 0, 0, 0, 0, 0, 0, 0, 0, 0, 0, 0\\n0, 0, 0, 0, 0, 0, 0, 0, 0, 0, 0, 0, 0, 0\\n0, 0, 0, 0, 0, 0, 0, 0, 0, 0, 0, 0, 0, 1\\n0, 0, 0, 0, 0, 0, 0, 0, 0, 0, 0, 0, 0, 0\\n0, 0, 0, 0, 0, 0, 0, 0, 0, 0, 0, 0, 0, 0]'),\n Text(0.7790697674418605, 0.22023809523809523, 'X[0] <= 375.442\\ngini = 0.947\\nsamples = 19\\nvalue = [0, 0, 0, 0, 0, 0, 0, 0, 0, 0, 0, 0, 0, 0\\n0, 0, 0, 0, 0, 0, 0, 0, 0, 0, 0, 0, 0, 0\\n0, 0, 0, 0, 0, 0, 0, 0, 0, 0, 0, 0, 0, 0\\n0, 0, 0, 0, 0, 0, 0, 0, 0, 0, 0, 0, 0, 0\\n0, 0, 0, 0, 0, 0, 0, 0, 0, 1, 1, 1, 1, 1\\n1, 1, 1, 1, 1, 1, 1, 1, 1, 1, 1, 1, 1, 1]'),\n Text(0.7674418604651163, 0.20833333333333334, 'gini = 0.0\\nsamples = 1\\nvalue = [0, 0, 0, 0, 0, 0, 0, 0, 0, 0, 0, 0, 0, 0\\n0, 0, 0, 0, 0, 0, 0, 0, 0, 0, 0, 0, 0, 0\\n0, 0, 0, 0, 0, 0, 0, 0, 0, 0, 0, 0, 0, 0\\n0, 0, 0, 0, 0, 0, 0, 0, 0, 0, 0, 0, 0, 0\\n0, 0, 0, 0, 0, 0, 0, 0, 0, 1, 0, 0, 0, 0\\n0, 0, 0, 0, 0, 0, 0, 0, 0, 0, 0, 0, 0, 0]'),\n Text(0.7906976744186046, 0.20833333333333334, 'X[5] <= 8060.656\\ngini = 0.944\\nsamples = 18\\nvalue = [0, 0, 0, 0, 0, 0, 0, 0, 0, 0, 0, 0, 0, 0\\n0, 0, 0, 0, 0, 0, 0, 0, 0, 0, 0, 0, 0, 0\\n0, 0, 0, 0, 0, 0, 0, 0, 0, 0, 0, 0, 0, 0\\n0, 0, 0, 0, 0, 0, 0, 0, 0, 0, 0, 0, 0, 0\\n0, 0, 0, 0, 0, 0, 0, 0, 0, 0, 1, 1, 1, 1\\n1, 1, 1, 1, 1, 1, 1, 1, 1, 1, 1, 1, 1, 1]'),\n Text(0.7790697674418605, 0.19642857142857142, 'gini = 0.0\\nsamples = 1\\nvalue = [0, 0, 0, 0, 0, 0, 0, 0, 0, 0, 0, 0, 0, 0\\n0, 0, 0, 0, 0, 0, 0, 0, 0, 0, 0, 0, 0, 0\\n0, 0, 0, 0, 0, 0, 0, 0, 0, 0, 0, 0, 0, 0\\n0, 0, 0, 0, 0, 0, 0, 0, 0, 0, 0, 0, 0, 0\\n0, 0, 0, 0, 0, 0, 0, 0, 0, 0, 1, 0, 0, 0\\n0, 0, 0, 0, 0, 0, 0, 0, 0, 0, 0, 0, 0, 0]'),\n Text(0.8023255813953488, 0.19642857142857142, 'X[2] <= 64.706\\ngini = 0.941\\nsamples = 17\\nvalue = [0, 0, 0, 0, 0, 0, 0, 0, 0, 0, 0, 0, 0, 0\\n0, 0, 0, 0, 0, 0, 0, 0, 0, 0, 0, 0, 0, 0\\n0, 0, 0, 0, 0, 0, 0, 0, 0, 0, 0, 0, 0, 0\\n0, 0, 0, 0, 0, 0, 0, 0, 0, 0, 0, 0, 0, 0\\n0, 0, 0, 0, 0, 0, 0, 0, 0, 0, 0, 1, 1, 1\\n1, 1, 1, 1, 1, 1, 1, 1, 1, 1, 1, 1, 1, 1]'),\n Text(0.7906976744186046, 0.18452380952380953, 'gini = 0.0\\nsamples = 1\\nvalue = [0, 0, 0, 0, 0, 0, 0, 0, 0, 0, 0, 0, 0, 0\\n0, 0, 0, 0, 0, 0, 0, 0, 0, 0, 0, 0, 0, 0\\n0, 0, 0, 0, 0, 0, 0, 0, 0, 0, 0, 0, 0, 0\\n0, 0, 0, 0, 0, 0, 0, 0, 0, 0, 0, 0, 0, 0\\n0, 0, 0, 0, 0, 0, 0, 0, 0, 0, 0, 1, 0, 0\\n0, 0, 0, 0, 0, 0, 0, 0, 0, 0, 0, 0, 0, 0]'),\n Text(0.813953488372093, 0.18452380952380953, 'X[2] <= 65.002\\ngini = 0.938\\nsamples = 16\\nvalue = [0, 0, 0, 0, 0, 0, 0, 0, 0, 0, 0, 0, 0, 0\\n0, 0, 0, 0, 0, 0, 0, 0, 0, 0, 0, 0, 0, 0\\n0, 0, 0, 0, 0, 0, 0, 0, 0, 0, 0, 0, 0, 0\\n0, 0, 0, 0, 0, 0, 0, 0, 0, 0, 0, 0, 0, 0\\n0, 0, 0, 0, 0, 0, 0, 0, 0, 0, 0, 0, 1, 1\\n1, 1, 1, 1, 1, 1, 1, 1, 1, 1, 1, 1, 1, 1]'),\n Text(0.8023255813953488, 0.17261904761904762, 'gini = 0.0\\nsamples = 1\\nvalue = [0, 0, 0, 0, 0, 0, 0, 0, 0, 0, 0, 0, 0, 0\\n0, 0, 0, 0, 0, 0, 0, 0, 0, 0, 0, 0, 0, 0\\n0, 0, 0, 0, 0, 0, 0, 0, 0, 0, 0, 0, 0, 0\\n0, 0, 0, 0, 0, 0, 0, 0, 0, 0, 0, 0, 0, 0\\n0, 0, 0, 0, 0, 0, 0, 0, 0, 0, 0, 0, 0, 0\\n0, 1, 0, 0, 0, 0, 0, 0, 0, 0, 0, 0, 0, 0]'),\n Text(0.8255813953488372, 0.17261904761904762, 'X[2] <= 65.934\\ngini = 0.933\\nsamples = 15\\nvalue = [0, 0, 0, 0, 0, 0, 0, 0, 0, 0, 0, 0, 0, 0\\n0, 0, 0, 0, 0, 0, 0, 0, 0, 0, 0, 0, 0, 0\\n0, 0, 0, 0, 0, 0, 0, 0, 0, 0, 0, 0, 0, 0\\n0, 0, 0, 0, 0, 0, 0, 0, 0, 0, 0, 0, 0, 0\\n0, 0, 0, 0, 0, 0, 0, 0, 0, 0, 0, 0, 1, 1\\n1, 0, 1, 1, 1, 1, 1, 1, 1, 1, 1, 1, 1, 1]'),\n Text(0.813953488372093, 0.16071428571428573, 'gini = 0.0\\nsamples = 1\\nvalue = [0, 0, 0, 0, 0, 0, 0, 0, 0, 0, 0, 0, 0, 0\\n0, 0, 0, 0, 0, 0, 0, 0, 0, 0, 0, 0, 0, 0\\n0, 0, 0, 0, 0, 0, 0, 0, 0, 0, 0, 0, 0, 0\\n0, 0, 0, 0, 0, 0, 0, 0, 0, 0, 0, 0, 0, 0\\n0, 0, 0, 0, 0, 0, 0, 0, 0, 0, 0, 0, 1, 0\\n0, 0, 0, 0, 0, 0, 0, 0, 0, 0, 0, 0, 0, 0]'),\n Text(0.8372093023255814, 0.16071428571428573, 'X[0] <= 476.6\\ngini = 0.929\\nsamples = 14\\nvalue = [0, 0, 0, 0, 0, 0, 0, 0, 0, 0, 0, 0, 0, 0\\n0, 0, 0, 0, 0, 0, 0, 0, 0, 0, 0, 0, 0, 0\\n0, 0, 0, 0, 0, 0, 0, 0, 0, 0, 0, 0, 0, 0\\n0, 0, 0, 0, 0, 0, 0, 0, 0, 0, 0, 0, 0, 0\\n0, 0, 0, 0, 0, 0, 0, 0, 0, 0, 0, 0, 0, 1\\n1, 0, 1, 1, 1, 1, 1, 1, 1, 1, 1, 1, 1, 1]'),\n Text(0.8255813953488372, 0.1488095238095238, 'gini = 0.0\\nsamples = 1\\nvalue = [0, 0, 0, 0, 0, 0, 0, 0, 0, 0, 0, 0, 0, 0\\n0, 0, 0, 0, 0, 0, 0, 0, 0, 0, 0, 0, 0, 0\\n0, 0, 0, 0, 0, 0, 0, 0, 0, 0, 0, 0, 0, 0\\n0, 0, 0, 0, 0, 0, 0, 0, 0, 0, 0, 0, 0, 0\\n0, 0, 0, 0, 0, 0, 0, 0, 0, 0, 0, 0, 0, 1\\n0, 0, 0, 0, 0, 0, 0, 0, 0, 0, 0, 0, 0, 0]'),\n Text(0.8488372093023255, 0.1488095238095238, 'X[0] <= 561.747\\ngini = 0.923\\nsamples = 13\\nvalue = [0, 0, 0, 0, 0, 0, 0, 0, 0, 0, 0, 0, 0, 0\\n0, 0, 0, 0, 0, 0, 0, 0, 0, 0, 0, 0, 0, 0\\n0, 0, 0, 0, 0, 0, 0, 0, 0, 0, 0, 0, 0, 0\\n0, 0, 0, 0, 0, 0, 0, 0, 0, 0, 0, 0, 0, 0\\n0, 0, 0, 0, 0, 0, 0, 0, 0, 0, 0, 0, 0, 0\\n1, 0, 1, 1, 1, 1, 1, 1, 1, 1, 1, 1, 1, 1]'),\n Text(0.8372093023255814, 0.13690476190476192, 'gini = 0.0\\nsamples = 1\\nvalue = [0, 0, 0, 0, 0, 0, 0, 0, 0, 0, 0, 0, 0, 0\\n0, 0, 0, 0, 0, 0, 0, 0, 0, 0, 0, 0, 0, 0\\n0, 0, 0, 0, 0, 0, 0, 0, 0, 0, 0, 0, 0, 0\\n0, 0, 0, 0, 0, 0, 0, 0, 0, 0, 0, 0, 0, 0\\n0, 0, 0, 0, 0, 0, 0, 0, 0, 0, 0, 0, 0, 0\\n1, 0, 0, 0, 0, 0, 0, 0, 0, 0, 0, 0, 0, 0]'),\n Text(0.8604651162790697, 0.13690476190476192, 'X[6] <= 46.702\\ngini = 0.917\\nsamples = 12\\nvalue = [0, 0, 0, 0, 0, 0, 0, 0, 0, 0, 0, 0, 0, 0\\n0, 0, 0, 0, 0, 0, 0, 0, 0, 0, 0, 0, 0, 0\\n0, 0, 0, 0, 0, 0, 0, 0, 0, 0, 0, 0, 0, 0\\n0, 0, 0, 0, 0, 0, 0, 0, 0, 0, 0, 0, 0, 0\\n0, 0, 0, 0, 0, 0, 0, 0, 0, 0, 0, 0, 0, 0\\n0, 0, 1, 1, 1, 1, 1, 1, 1, 1, 1, 1, 1, 1]'),\n Text(0.8488372093023255, 0.125, 'gini = 0.0\\nsamples = 1\\nvalue = [0, 0, 0, 0, 0, 0, 0, 0, 0, 0, 0, 0, 0, 0\\n0, 0, 0, 0, 0, 0, 0, 0, 0, 0, 0, 0, 0, 0\\n0, 0, 0, 0, 0, 0, 0, 0, 0, 0, 0, 0, 0, 0\\n0, 0, 0, 0, 0, 0, 0, 0, 0, 0, 0, 0, 0, 0\\n0, 0, 0, 0, 0, 0, 0, 0, 0, 0, 0, 0, 0, 0\\n0, 0, 0, 0, 0, 0, 0, 0, 0, 0, 0, 0, 1, 0]'),\n Text(0.872093023255814, 0.125, 'X[3] <= 1411.078\\ngini = 0.909\\nsamples = 11\\nvalue = [0, 0, 0, 0, 0, 0, 0, 0, 0, 0, 0, 0, 0, 0\\n0, 0, 0, 0, 0, 0, 0, 0, 0, 0, 0, 0, 0, 0\\n0, 0, 0, 0, 0, 0, 0, 0, 0, 0, 0, 0, 0, 0\\n0, 0, 0, 0, 0, 0, 0, 0, 0, 0, 0, 0, 0, 0\\n0, 0, 0, 0, 0, 0, 0, 0, 0, 0, 0, 0, 0, 0\\n0, 0, 1, 1, 1, 1, 1, 1, 1, 1, 1, 1, 0, 1]'),\n Text(0.8604651162790697, 0.1130952380952381, 'gini = 0.0\\nsamples = 1\\nvalue = [0, 0, 0, 0, 0, 0, 0, 0, 0, 0, 0, 0, 0, 0\\n0, 0, 0, 0, 0, 0, 0, 0, 0, 0, 0, 0, 0, 0\\n0, 0, 0, 0, 0, 0, 0, 0, 0, 0, 0, 0, 0, 0\\n0, 0, 0, 0, 0, 0, 0, 0, 0, 0, 0, 0, 0, 0\\n0, 0, 0, 0, 0, 0, 0, 0, 0, 0, 0, 0, 0, 0\\n0, 0, 1, 0, 0, 0, 0, 0, 0, 0, 0, 0, 0, 0]'),\n Text(0.8837209302325582, 0.1130952380952381, 'X[2] <= 91.812\\ngini = 0.9\\nsamples = 10\\nvalue = [0, 0, 0, 0, 0, 0, 0, 0, 0, 0, 0, 0, 0, 0\\n0, 0, 0, 0, 0, 0, 0, 0, 0, 0, 0, 0, 0, 0\\n0, 0, 0, 0, 0, 0, 0, 0, 0, 0, 0, 0, 0, 0\\n0, 0, 0, 0, 0, 0, 0, 0, 0, 0, 0, 0, 0, 0\\n0, 0, 0, 0, 0, 0, 0, 0, 0, 0, 0, 0, 0, 0\\n0, 0, 0, 1, 1, 1, 1, 1, 1, 1, 1, 1, 0, 1]'),\n Text(0.872093023255814, 0.10119047619047619, 'gini = 0.0\\nsamples = 1\\nvalue = [0, 0, 0, 0, 0, 0, 0, 0, 0, 0, 0, 0, 0, 0\\n0, 0, 0, 0, 0, 0, 0, 0, 0, 0, 0, 0, 0, 0\\n0, 0, 0, 0, 0, 0, 0, 0, 0, 0, 0, 0, 0, 0\\n0, 0, 0, 0, 0, 0, 0, 0, 0, 0, 0, 0, 0, 0\\n0, 0, 0, 0, 0, 0, 0, 0, 0, 0, 0, 0, 0, 0\\n0, 0, 0, 1, 0, 0, 0, 0, 0, 0, 0, 0, 0, 0]'),\n Text(0.8953488372093024, 0.10119047619047619, 'X[5] <= 12221.712\\ngini = 0.889\\nsamples = 9\\nvalue = [0, 0, 0, 0, 0, 0, 0, 0, 0, 0, 0, 0, 0, 0\\n0, 0, 0, 0, 0, 0, 0, 0, 0, 0, 0, 0, 0, 0\\n0, 0, 0, 0, 0, 0, 0, 0, 0, 0, 0, 0, 0, 0\\n0, 0, 0, 0, 0, 0, 0, 0, 0, 0, 0, 0, 0, 0\\n0, 0, 0, 0, 0, 0, 0, 0, 0, 0, 0, 0, 0, 0\\n0, 0, 0, 0, 1, 1, 1, 1, 1, 1, 1, 1, 0, 1]'),\n Text(0.8837209302325582, 0.08928571428571429, 'gini = 0.0\\nsamples = 1\\nvalue = [0, 0, 0, 0, 0, 0, 0, 0, 0, 0, 0, 0, 0, 0\\n0, 0, 0, 0, 0, 0, 0, 0, 0, 0, 0, 0, 0, 0\\n0, 0, 0, 0, 0, 0, 0, 0, 0, 0, 0, 0, 0, 0\\n0, 0, 0, 0, 0, 0, 0, 0, 0, 0, 0, 0, 0, 0\\n0, 0, 0, 0, 0, 0, 0, 0, 0, 0, 0, 0, 0, 0\\n0, 0, 0, 0, 1, 0, 0, 0, 0, 0, 0, 0, 0, 0]'),\n Text(0.9069767441860465, 0.08928571428571429, 'X[0] <= 850.4\\ngini = 0.875\\nsamples = 8\\nvalue = [0, 0, 0, 0, 0, 0, 0, 0, 0, 0, 0, 0, 0, 0\\n0, 0, 0, 0, 0, 0, 0, 0, 0, 0, 0, 0, 0, 0\\n0, 0, 0, 0, 0, 0, 0, 0, 0, 0, 0, 0, 0, 0\\n0, 0, 0, 0, 0, 0, 0, 0, 0, 0, 0, 0, 0, 0\\n0, 0, 0, 0, 0, 0, 0, 0, 0, 0, 0, 0, 0, 0\\n0, 0, 0, 0, 0, 1, 1, 1, 1, 1, 1, 1, 0, 1]'),\n Text(0.8953488372093024, 0.07738095238095238, 'gini = 0.0\\nsamples = 1\\nvalue = [0, 0, 0, 0, 0, 0, 0, 0, 0, 0, 0, 0, 0, 0\\n0, 0, 0, 0, 0, 0, 0, 0, 0, 0, 0, 0, 0, 0\\n0, 0, 0, 0, 0, 0, 0, 0, 0, 0, 0, 0, 0, 0\\n0, 0, 0, 0, 0, 0, 0, 0, 0, 0, 0, 0, 0, 0\\n0, 0, 0, 0, 0, 0, 0, 0, 0, 0, 0, 0, 0, 0\\n0, 0, 0, 0, 0, 1, 0, 0, 0, 0, 0, 0, 0, 0]'),\n Text(0.9186046511627907, 0.07738095238095238, 'X[2] <= 105.187\\ngini = 0.857\\nsamples = 7\\nvalue = [0, 0, 0, 0, 0, 0, 0, 0, 0, 0, 0, 0, 0, 0\\n0, 0, 0, 0, 0, 0, 0, 0, 0, 0, 0, 0, 0, 0\\n0, 0, 0, 0, 0, 0, 0, 0, 0, 0, 0, 0, 0, 0\\n0, 0, 0, 0, 0, 0, 0, 0, 0, 0, 0, 0, 0, 0\\n0, 0, 0, 0, 0, 0, 0, 0, 0, 0, 0, 0, 0, 0\\n0, 0, 0, 0, 0, 0, 1, 1, 1, 1, 1, 1, 0, 1]'),\n Text(0.9069767441860465, 0.06547619047619048, 'gini = 0.0\\nsamples = 1\\nvalue = [0, 0, 0, 0, 0, 0, 0, 0, 0, 0, 0, 0, 0, 0\\n0, 0, 0, 0, 0, 0, 0, 0, 0, 0, 0, 0, 0, 0\\n0, 0, 0, 0, 0, 0, 0, 0, 0, 0, 0, 0, 0, 0\\n0, 0, 0, 0, 0, 0, 0, 0, 0, 0, 0, 0, 0, 0\\n0, 0, 0, 0, 0, 0, 0, 0, 0, 0, 0, 0, 0, 0\\n0, 0, 0, 0, 0, 0, 0, 0, 0, 0, 0, 1, 0, 0]'),\n Text(0.9302325581395349, 0.06547619047619048, 'X[1] <= 8898.97\\ngini = 0.833\\nsamples = 6\\nvalue = [0, 0, 0, 0, 0, 0, 0, 0, 0, 0, 0, 0, 0, 0\\n0, 0, 0, 0, 0, 0, 0, 0, 0, 0, 0, 0, 0, 0\\n0, 0, 0, 0, 0, 0, 0, 0, 0, 0, 0, 0, 0, 0\\n0, 0, 0, 0, 0, 0, 0, 0, 0, 0, 0, 0, 0, 0\\n0, 0, 0, 0, 0, 0, 0, 0, 0, 0, 0, 0, 0, 0\\n0, 0, 0, 0, 0, 0, 1, 1, 1, 1, 1, 0, 0, 1]'),\n Text(0.9186046511627907, 0.05357142857142857, 'gini = 0.0\\nsamples = 1\\nvalue = [0, 0, 0, 0, 0, 0, 0, 0, 0, 0, 0, 0, 0, 0\\n0, 0, 0, 0, 0, 0, 0, 0, 0, 0, 0, 0, 0, 0\\n0, 0, 0, 0, 0, 0, 0, 0, 0, 0, 0, 0, 0, 0\\n0, 0, 0, 0, 0, 0, 0, 0, 0, 0, 0, 0, 0, 0\\n0, 0, 0, 0, 0, 0, 0, 0, 0, 0, 0, 0, 0, 0\\n0, 0, 0, 0, 0, 0, 1, 0, 0, 0, 0, 0, 0, 0]'),\n Text(0.9418604651162791, 0.05357142857142857, 'X[5] <= 15564.448\\ngini = 0.8\\nsamples = 5\\nvalue = [0, 0, 0, 0, 0, 0, 0, 0, 0, 0, 0, 0, 0, 0\\n0, 0, 0, 0, 0, 0, 0, 0, 0, 0, 0, 0, 0, 0\\n0, 0, 0, 0, 0, 0, 0, 0, 0, 0, 0, 0, 0, 0\\n0, 0, 0, 0, 0, 0, 0, 0, 0, 0, 0, 0, 0, 0\\n0, 0, 0, 0, 0, 0, 0, 0, 0, 0, 0, 0, 0, 0\\n0, 0, 0, 0, 0, 0, 0, 1, 1, 1, 1, 0, 0, 1]'),\n Text(0.9302325581395349, 0.041666666666666664, 'gini = 0.0\\nsamples = 1\\nvalue = [0, 0, 0, 0, 0, 0, 0, 0, 0, 0, 0, 0, 0, 0\\n0, 0, 0, 0, 0, 0, 0, 0, 0, 0, 0, 0, 0, 0\\n0, 0, 0, 0, 0, 0, 0, 0, 0, 0, 0, 0, 0, 0\\n0, 0, 0, 0, 0, 0, 0, 0, 0, 0, 0, 0, 0, 0\\n0, 0, 0, 0, 0, 0, 0, 0, 0, 0, 0, 0, 0, 0\\n0, 0, 0, 0, 0, 0, 0, 1, 0, 0, 0, 0, 0, 0]'),\n Text(0.9534883720930233, 0.041666666666666664, 'X[5] <= 16621.075\\ngini = 0.75\\nsamples = 4\\nvalue = [0, 0, 0, 0, 0, 0, 0, 0, 0, 0, 0, 0, 0, 0\\n0, 0, 0, 0, 0, 0, 0, 0, 0, 0, 0, 0, 0, 0\\n0, 0, 0, 0, 0, 0, 0, 0, 0, 0, 0, 0, 0, 0\\n0, 0, 0, 0, 0, 0, 0, 0, 0, 0, 0, 0, 0, 0\\n0, 0, 0, 0, 0, 0, 0, 0, 0, 0, 0, 0, 0, 0\\n0, 0, 0, 0, 0, 0, 0, 0, 1, 1, 1, 0, 0, 1]'),\n Text(0.9418604651162791, 0.02976190476190476, 'gini = 0.0\\nsamples = 1\\nvalue = [0, 0, 0, 0, 0, 0, 0, 0, 0, 0, 0, 0, 0, 0\\n0, 0, 0, 0, 0, 0, 0, 0, 0, 0, 0, 0, 0, 0\\n0, 0, 0, 0, 0, 0, 0, 0, 0, 0, 0, 0, 0, 0\\n0, 0, 0, 0, 0, 0, 0, 0, 0, 0, 0, 0, 0, 0\\n0, 0, 0, 0, 0, 0, 0, 0, 0, 0, 0, 0, 0, 0\\n0, 0, 0, 0, 0, 0, 0, 0, 1, 0, 0, 0, 0, 0]'),\n Text(0.9651162790697675, 0.02976190476190476, 'X[6] <= 47.835\\ngini = 0.667\\nsamples = 3\\nvalue = [0, 0, 0, 0, 0, 0, 0, 0, 0, 0, 0, 0, 0, 0\\n0, 0, 0, 0, 0, 0, 0, 0, 0, 0, 0, 0, 0, 0\\n0, 0, 0, 0, 0, 0, 0, 0, 0, 0, 0, 0, 0, 0\\n0, 0, 0, 0, 0, 0, 0, 0, 0, 0, 0, 0, 0, 0\\n0, 0, 0, 0, 0, 0, 0, 0, 0, 0, 0, 0, 0, 0\\n0, 0, 0, 0, 0, 0, 0, 0, 0, 1, 1, 0, 0, 1]'),\n Text(0.9534883720930233, 0.017857142857142856, 'gini = 0.0\\nsamples = 1\\nvalue = [0, 0, 0, 0, 0, 0, 0, 0, 0, 0, 0, 0, 0, 0\\n0, 0, 0, 0, 0, 0, 0, 0, 0, 0, 0, 0, 0, 0\\n0, 0, 0, 0, 0, 0, 0, 0, 0, 0, 0, 0, 0, 0\\n0, 0, 0, 0, 0, 0, 0, 0, 0, 0, 0, 0, 0, 0\\n0, 0, 0, 0, 0, 0, 0, 0, 0, 0, 0, 0, 0, 0\\n0, 0, 0, 0, 0, 0, 0, 0, 0, 0, 0, 0, 0, 1]'),\n Text(0.9767441860465116, 0.017857142857142856, 'X[0] <= 1164.513\\ngini = 0.5\\nsamples = 2\\nvalue = [0, 0, 0, 0, 0, 0, 0, 0, 0, 0, 0, 0, 0, 0\\n0, 0, 0, 0, 0, 0, 0, 0, 0, 0, 0, 0, 0, 0\\n0, 0, 0, 0, 0, 0, 0, 0, 0, 0, 0, 0, 0, 0\\n0, 0, 0, 0, 0, 0, 0, 0, 0, 0, 0, 0, 0, 0\\n0, 0, 0, 0, 0, 0, 0, 0, 0, 0, 0, 0, 0, 0\\n0, 0, 0, 0, 0, 0, 0, 0, 0, 1, 1, 0, 0, 0]'),\n Text(0.9651162790697675, 0.005952380952380952, 'gini = 0.0\\nsamples = 1\\nvalue = [0, 0, 0, 0, 0, 0, 0, 0, 0, 0, 0, 0, 0, 0\\n0, 0, 0, 0, 0, 0, 0, 0, 0, 0, 0, 0, 0, 0\\n0, 0, 0, 0, 0, 0, 0, 0, 0, 0, 0, 0, 0, 0\\n0, 0, 0, 0, 0, 0, 0, 0, 0, 0, 0, 0, 0, 0\\n0, 0, 0, 0, 0, 0, 0, 0, 0, 0, 0, 0, 0, 0\\n0, 0, 0, 0, 0, 0, 0, 0, 0, 1, 0, 0, 0, 0]'),\n Text(0.9883720930232558, 0.005952380952380952, 'gini = 0.0\\nsamples = 1\\nvalue = [0, 0, 0, 0, 0, 0, 0, 0, 0, 0, 0, 0, 0, 0\\n0, 0, 0, 0, 0, 0, 0, 0, 0, 0, 0, 0, 0, 0\\n0, 0, 0, 0, 0, 0, 0, 0, 0, 0, 0, 0, 0, 0\\n0, 0, 0, 0, 0, 0, 0, 0, 0, 0, 0, 0, 0, 0\\n0, 0, 0, 0, 0, 0, 0, 0, 0, 0, 0, 0, 0, 0\\n0, 0, 0, 0, 0, 0, 0, 0, 0, 0, 1, 0, 0, 0]')]"
     },
     "execution_count": 23,
     "metadata": {},
     "output_type": "execute_result"
    },
    {
     "data": {
      "text/plain": "<Figure size 432x288 with 1 Axes>",
      "image/png": "[encoded data removed]"
     },
     "metadata": {
      "needs_background": "light"
     },
     "output_type": "display_data"
    }
   ],
   "source": [
    "plot_tree(clf)"
   ]
  },
  {
   "cell_type": "code",
   "execution_count": 23,
   "outputs": [],
   "source": [],
   "metadata": {
    "collapsed": false,
    "pycharm": {
     "name": "#%%\n"
    }
   }
  }
 ],
 "metadata": {
  "colab": {
   "collapsed_sections": [],
   "name": "Untitled1.ipynb",
   "provenance": []
  },
  "kernelspec": {
   "display_name": "Python 3",
   "name": "python3"
  },
  "language_info": {
   "codemirror_mode": {
    "name": "ipython",
    "version": 3
   },
   "file_extension": ".py",
   "mimetype": "text/x-python",
   "name": "python",
   "nbconvert_exporter": "python",
   "pygments_lexer": "ipython3",
   "version": "3.9.7"
  }
 },
 "nbformat": 4,
 "nbformat_minor": 0
}